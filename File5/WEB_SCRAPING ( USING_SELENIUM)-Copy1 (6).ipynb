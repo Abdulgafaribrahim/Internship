{
 "cells": [
  {
   "cell_type": "code",
   "execution_count": 26,
   "id": "13271f78",
   "metadata": {},
   "outputs": [],
   "source": [
    "#Import Selenium and  webdriver\n",
    "from selenium import webdriver\n",
    "from selenium.webdriver.common.by import By\n",
    "from selenium.webdriver.chrome.service import service\n",
    "import warnings\n",
    "warnings.filterwarnings('ignore')\n",
    "import time\n",
    "#import Pandas\n",
    "import pandas as pd\n"
   ]
  },
  {
   "cell_type": "code",
   "execution_count": 27,
   "id": "5850c07d",
   "metadata": {},
   "outputs": [],
   "source": [
    "#create a driver object with the path to my chromedriver.exe file\n",
    "driver = webdriver.Chrome(r\"C:\\Users\\gues\\Desktop\\abdul\\chromedriver-win32\\chromedriver.exe\")\n"
   ]
  },
  {
   "cell_type": "code",
   "execution_count": 28,
   "id": "c1fb4437",
   "metadata": {},
   "outputs": [],
   "source": [
    "# Implicitly wait for 10 seconds for elements to appear before raising an exception\n",
    "driver.implicitly_wait(10)"
   ]
  },
  {
   "cell_type": "code",
   "execution_count": 29,
   "id": "b903dc2b",
   "metadata": {},
   "outputs": [],
   "source": [
    "#(Q4) Go to Flipkart webpage\n",
    "driver.get(\"https://www.flipkart.com/\")"
   ]
  },
  {
   "cell_type": "code",
   "execution_count": 30,
   "id": "d8812ac8",
   "metadata": {},
   "outputs": [],
   "source": [
    "# Find the close button on the pop up\n",
    "close_button = driver.find_element(By.XPATH,\"//button[@class='_2KpZ6l _2doB4z']\")\n",
    "# Click on the close button\n",
    "close_button.click()"
   ]
  },
  {
   "cell_type": "code",
   "execution_count": 31,
   "id": "1655d2f4",
   "metadata": {},
   "outputs": [],
   "source": [
    "#Entering search field as required in the question\n",
    "searchfield=driver.find_element(By.CLASS_NAME,\"_3704LK\")\n",
    "searchfield.send_keys(\"sunglasses\")\n",
    "\n",
    "    "
   ]
  },
  {
   "cell_type": "code",
   "execution_count": 32,
   "id": "26aa4f38",
   "metadata": {},
   "outputs": [],
   "source": [
    "#click the icon\n",
    "search=driver.find_element(By.CLASS_NAME,\"L0Z3Pu\")\n",
    "search.click()"
   ]
  },
  {
   "cell_type": "code",
   "execution_count": 33,
   "id": "a219869e",
   "metadata": {},
   "outputs": [],
   "source": [
    "prod_desciption= []\n",
    "Brand_Glasses= []\n",
    "Price_Glasses= [] \n"
   ]
  },
  {
   "cell_type": "code",
   "execution_count": 34,
   "id": "008411cb",
   "metadata": {},
   "outputs": [],
   "source": [
    "# scrap only 100 then break\n",
    "start=0\n",
    "end=5\n",
    "for page in range(start,end):\n",
    "    Product_desc=driver.find_elements(By.XPATH,\"//a[@class='IRpwTa']\")\n",
    "    for i in Product_desc[0:20]:\n",
    "        prod_desciption.append(i.text)\n",
    "        \n",
    "        \n",
    "    Brand_glasses=driver.find_elements(By.XPATH,'//div[@class=\"_2WkVRV\"]')\n",
    "    for i in Brand_glasses[0:20]:\n",
    "        Brand_Glasses.append(i.text)\n",
    "        \n",
    "        \n",
    "    Price_glasses=driver.find_elements(By.XPATH,'//div[@class=\"_30jeq3\"]')\n",
    "    for i in Price_glasses[0:20]:\n",
    "        Price_Glasses.append(i.text)\n",
    "    \n",
    "    # Click the next button to navigate to the next page\n",
    "    next_button = driver.find_element(By.XPATH, \"//a[@class='_1LKTO3']\")\n",
    "    next_button.click()\n",
    "\n",
    "    # Introduce a short delay to let the next page load completely before scraping\n",
    "    time.sleep(2)\n",
    "        \n",
    "    "
   ]
  },
  {
   "cell_type": "code",
   "execution_count": 35,
   "id": "a9907911",
   "metadata": {},
   "outputs": [
    {
     "name": "stdout",
     "output_type": "stream",
     "text": [
      "100 100 100\n"
     ]
    }
   ],
   "source": [
    "print(len(prod_desciption),len(Brand_Glasses),len(Price_Glasses))"
   ]
  },
  {
   "cell_type": "code",
   "execution_count": 36,
   "id": "b2f2758d",
   "metadata": {},
   "outputs": [
    {
     "data": {
      "text/html": [
       "<div>\n",
       "<style scoped>\n",
       "    .dataframe tbody tr th:only-of-type {\n",
       "        vertical-align: middle;\n",
       "    }\n",
       "\n",
       "    .dataframe tbody tr th {\n",
       "        vertical-align: top;\n",
       "    }\n",
       "\n",
       "    .dataframe thead th {\n",
       "        text-align: right;\n",
       "    }\n",
       "</style>\n",
       "<table border=\"1\" class=\"dataframe\">\n",
       "  <thead>\n",
       "    <tr style=\"text-align: right;\">\n",
       "      <th></th>\n",
       "      <th>Product_d</th>\n",
       "      <th>Brand</th>\n",
       "      <th>Price</th>\n",
       "    </tr>\n",
       "  </thead>\n",
       "  <tbody>\n",
       "    <tr>\n",
       "      <th>0</th>\n",
       "      <td>Pitchman R Round Sunglass</td>\n",
       "      <td>OAKLEY</td>\n",
       "      <td>₹7,058</td>\n",
       "    </tr>\n",
       "    <tr>\n",
       "      <th>1</th>\n",
       "      <td>Rectangular Sunglass</td>\n",
       "      <td>OAKLEY</td>\n",
       "      <td>₹9,578</td>\n",
       "    </tr>\n",
       "    <tr>\n",
       "      <th>2</th>\n",
       "      <td>UV Protection, Others Spectacle Sunglasses (Fr...</td>\n",
       "      <td>SDEEP</td>\n",
       "      <td>₹185</td>\n",
       "    </tr>\n",
       "    <tr>\n",
       "      <th>3</th>\n",
       "      <td>UV Protection Wayfarer Sunglasses (50)</td>\n",
       "      <td>SRPM</td>\n",
       "      <td>₹194</td>\n",
       "    </tr>\n",
       "    <tr>\n",
       "      <th>4</th>\n",
       "      <td>UV Protection Spectacle Sunglasses (Free Size)</td>\n",
       "      <td>iCopertina</td>\n",
       "      <td>₹189</td>\n",
       "    </tr>\n",
       "    <tr>\n",
       "      <th>...</th>\n",
       "      <td>...</td>\n",
       "      <td>...</td>\n",
       "      <td>...</td>\n",
       "    </tr>\n",
       "    <tr>\n",
       "      <th>95</th>\n",
       "      <td>Polarized, UV Protection Aviator Sunglasses (60)</td>\n",
       "      <td>Cool enter</td>\n",
       "      <td>₹183</td>\n",
       "    </tr>\n",
       "    <tr>\n",
       "      <th>96</th>\n",
       "      <td>Toughened Glass Lens, UV Protection, Riding Gl...</td>\n",
       "      <td>Eyewearlabs</td>\n",
       "      <td>₹1,999</td>\n",
       "    </tr>\n",
       "    <tr>\n",
       "      <th>97</th>\n",
       "      <td>Night Vision Spectacle Sunglasses (Free Size)</td>\n",
       "      <td>Resist</td>\n",
       "      <td>₹1,403</td>\n",
       "    </tr>\n",
       "    <tr>\n",
       "      <th>98</th>\n",
       "      <td>UV Protection Round Sunglasses (53)</td>\n",
       "      <td>Styloze</td>\n",
       "      <td>₹180</td>\n",
       "    </tr>\n",
       "    <tr>\n",
       "      <th>99</th>\n",
       "      <td>Polarized, UV Protection Wayfarer Sunglasses (56)</td>\n",
       "      <td>Elligator</td>\n",
       "      <td>₹199</td>\n",
       "    </tr>\n",
       "  </tbody>\n",
       "</table>\n",
       "<p>100 rows × 3 columns</p>\n",
       "</div>"
      ],
      "text/plain": [
       "                                            Product_d        Brand   Price\n",
       "0                           Pitchman R Round Sunglass       OAKLEY  ₹7,058\n",
       "1                                Rectangular Sunglass       OAKLEY  ₹9,578\n",
       "2   UV Protection, Others Spectacle Sunglasses (Fr...        SDEEP    ₹185\n",
       "3              UV Protection Wayfarer Sunglasses (50)         SRPM    ₹194\n",
       "4      UV Protection Spectacle Sunglasses (Free Size)   iCopertina    ₹189\n",
       "..                                                ...          ...     ...\n",
       "95   Polarized, UV Protection Aviator Sunglasses (60)   Cool enter    ₹183\n",
       "96  Toughened Glass Lens, UV Protection, Riding Gl...  Eyewearlabs  ₹1,999\n",
       "97      Night Vision Spectacle Sunglasses (Free Size)       Resist  ₹1,403\n",
       "98                UV Protection Round Sunglasses (53)      Styloze    ₹180\n",
       "99  Polarized, UV Protection Wayfarer Sunglasses (56)    Elligator    ₹199\n",
       "\n",
       "[100 rows x 3 columns]"
      ]
     },
     "execution_count": 36,
     "metadata": {},
     "output_type": "execute_result"
    }
   ],
   "source": [
    "import pandas as pd\n",
    "df=pd.DataFrame({'Product_d':prod_desciption,'Brand':Brand_Glasses,'Price':Price_Glasses})\n",
    "df"
   ]
  },
  {
   "cell_type": "code",
   "execution_count": null,
   "id": "ab4c2618",
   "metadata": {},
   "outputs": [],
   "source": []
  },
  {
   "cell_type": "code",
   "execution_count": null,
   "id": "03debc10",
   "metadata": {},
   "outputs": [],
   "source": []
  },
  {
   "cell_type": "code",
   "execution_count": null,
   "id": "cb139115",
   "metadata": {},
   "outputs": [],
   "source": []
  },
  {
   "cell_type": "code",
   "execution_count": null,
   "id": "c2e63571",
   "metadata": {},
   "outputs": [],
   "source": []
  },
  {
   "cell_type": "code",
   "execution_count": null,
   "id": "dd243e35",
   "metadata": {},
   "outputs": [],
   "source": []
  },
  {
   "cell_type": "code",
   "execution_count": null,
   "id": "151a5263",
   "metadata": {},
   "outputs": [],
   "source": []
  },
  {
   "cell_type": "code",
   "execution_count": null,
   "id": "5c14489d",
   "metadata": {},
   "outputs": [],
   "source": []
  },
  {
   "cell_type": "code",
   "execution_count": null,
   "id": "acec5504",
   "metadata": {},
   "outputs": [],
   "source": []
  },
  {
   "cell_type": "code",
   "execution_count": null,
   "id": "17e2f3d2",
   "metadata": {},
   "outputs": [],
   "source": []
  },
  {
   "cell_type": "code",
   "execution_count": 337,
   "id": "acef5156",
   "metadata": {},
   "outputs": [
    {
     "data": {
      "text/plain": [
       "'Q5: Scrape 100 reviews data from flipkart.com for iphone11 phone. You have to go the link:\\nhttps://www.flipkart.com/apple-iphone-11-black-64-gb/productreviews/itm4e5041ba101fd?pid=MOBFWQ6BXGJCEYNY&lid=LSTMOBFWQ6BXGJCEYNYZXSHRJ&market\\nplace=FLIPKART\\n'"
      ]
     },
     "execution_count": 337,
     "metadata": {},
     "output_type": "execute_result"
    }
   ],
   "source": [
    "\"\"\"Q5: Scrape 100 reviews data from flipkart.com for iphone11 phone. You have to go the link:\n",
    "https://www.flipkart.com/apple-iphone-11-black-64-gb/productreviews/itm4e5041ba101fd?pid=MOBFWQ6BXGJCEYNY&lid=LSTMOBFWQ6BXGJCEYNYZXSHRJ&market\n",
    "place=FLIPKART\n",
    "\"\"\""
   ]
  },
  {
   "cell_type": "code",
   "execution_count": 338,
   "id": "c0af276d",
   "metadata": {},
   "outputs": [],
   "source": [
    "driver=webdriver.Chrome(r\"C:\\Users\\gues\\Desktop\\abdul\\chromedriver-win32\\chromedriver.exe\")"
   ]
  },
  {
   "cell_type": "code",
   "execution_count": 339,
   "id": "59bca676",
   "metadata": {},
   "outputs": [],
   "source": [
    "# Implicitly wait for 10 seconds for elements to appear before raising an exception\n",
    "driver.implicitly_wait(10)"
   ]
  },
  {
   "cell_type": "code",
   "execution_count": 340,
   "id": "caf76462",
   "metadata": {},
   "outputs": [],
   "source": [
    "driver.get(\"https://www.flipkart.com/apple-iphone-11-black-64-gb/product-reviews/itm4e5041ba101fd?pid=MOBFWQ6BXGJCEYNY&lid=LSTMOBFWQ6BXGJCEYNYZXSHRJ&market\")"
   ]
  },
  {
   "cell_type": "code",
   "execution_count": null,
   "id": "f7ecd3fd",
   "metadata": {},
   "outputs": [],
   "source": []
  },
  {
   "cell_type": "code",
   "execution_count": 341,
   "id": "52b2672b",
   "metadata": {},
   "outputs": [],
   "source": [
    "Iphone_Rating=[]\n",
    "Iphone_ReviewSummary=[]\n",
    "Iphone_FullSummary=[]"
   ]
  },
  {
   "cell_type": "code",
   "execution_count": 342,
   "id": "f325b07f",
   "metadata": {},
   "outputs": [],
   "source": [
    "# Scrap only 100\n",
    "start=0\n",
    "end=10\n",
    "\n",
    "  #Iphone rate:\n",
    "for page in range(start,end):\n",
    "    iphone_rating=driver.find_elements(By.XPATH,'//div[@class=\"_3LWZlK _1BLPMq\"]')\n",
    "    for i in iphone_rating[0:10]:\n",
    "        Iphone_Rating.append(i.text)\n",
    "    \n",
    "    \n",
    "    #Iphone summary review:\n",
    "    iphone_reviewsummary=driver.find_elements(By.XPATH,'//p[@class=\"_2-N8zT\"]')\n",
    "    for i in iphone_reviewsummary[0:10]:\n",
    "        Iphone_ReviewSummary.append(i.text)\n",
    "        \n",
    "        \n",
    "   #Iphone fullsummary:\n",
    "    iphone_fullsummary=driver.find_elements(By.XPATH,'//div[@class=\"t-ZTKy\"]')\n",
    "    for i in iphone_fullsummary[0:10]:\n",
    "        Iphone_FullSummary.append(i.text)\n",
    "        \n",
    "        \n",
    "#Click the next button to navigate to the next page\n",
    "\n",
    "    next_button = driver.find_elements(By.XPATH,'//a[@class=\"_1LKTO3\"]')\n",
    "    \n",
    "\n",
    "# Introduce a short delay to let the next page load completely before scraping\n",
    "    time.sleep(2)\n",
    "\n",
    "        \n",
    "    \n",
    "        \n",
    "        \n",
    "        \n",
    "\n",
    "        \n",
    "        \n",
    "        "
   ]
  },
  {
   "cell_type": "code",
   "execution_count": 343,
   "id": "7c1d8c61",
   "metadata": {},
   "outputs": [
    {
     "name": "stdout",
     "output_type": "stream",
     "text": [
      "100 100 100\n"
     ]
    }
   ],
   "source": [
    "print(len(Iphone_Rating),len(Iphone_ReviewSummary),len(Iphone_FullSummary))"
   ]
  },
  {
   "cell_type": "code",
   "execution_count": 344,
   "id": "db3d7693",
   "metadata": {},
   "outputs": [
    {
     "data": {
      "text/html": [
       "<div>\n",
       "<style scoped>\n",
       "    .dataframe tbody tr th:only-of-type {\n",
       "        vertical-align: middle;\n",
       "    }\n",
       "\n",
       "    .dataframe tbody tr th {\n",
       "        vertical-align: top;\n",
       "    }\n",
       "\n",
       "    .dataframe thead th {\n",
       "        text-align: right;\n",
       "    }\n",
       "</style>\n",
       "<table border=\"1\" class=\"dataframe\">\n",
       "  <thead>\n",
       "    <tr style=\"text-align: right;\">\n",
       "      <th></th>\n",
       "      <th>Rating</th>\n",
       "      <th>Review_Summary</th>\n",
       "      <th>Full_Summary</th>\n",
       "    </tr>\n",
       "  </thead>\n",
       "  <tbody>\n",
       "    <tr>\n",
       "      <th>0</th>\n",
       "      <td>5</td>\n",
       "      <td>Mind-blowing purchase</td>\n",
       "      <td>Photos super</td>\n",
       "    </tr>\n",
       "    <tr>\n",
       "      <th>1</th>\n",
       "      <td>5</td>\n",
       "      <td>Classy product</td>\n",
       "      <td>Camera is awesome\\nBest battery backup\\nA perf...</td>\n",
       "    </tr>\n",
       "    <tr>\n",
       "      <th>2</th>\n",
       "      <td>5</td>\n",
       "      <td>Terrific</td>\n",
       "      <td>Very very good</td>\n",
       "    </tr>\n",
       "    <tr>\n",
       "      <th>3</th>\n",
       "      <td>5</td>\n",
       "      <td>Wonderful</td>\n",
       "      <td>This is amazing at all</td>\n",
       "    </tr>\n",
       "    <tr>\n",
       "      <th>4</th>\n",
       "      <td>5</td>\n",
       "      <td>Must buy!</td>\n",
       "      <td>It’s really awesome</td>\n",
       "    </tr>\n",
       "    <tr>\n",
       "      <th>...</th>\n",
       "      <td>...</td>\n",
       "      <td>...</td>\n",
       "      <td>...</td>\n",
       "    </tr>\n",
       "    <tr>\n",
       "      <th>95</th>\n",
       "      <td>5</td>\n",
       "      <td>Just wow!</td>\n",
       "      <td>Perfect Product!!</td>\n",
       "    </tr>\n",
       "    <tr>\n",
       "      <th>96</th>\n",
       "      <td>5</td>\n",
       "      <td>Perfect product!</td>\n",
       "      <td>V Good all</td>\n",
       "    </tr>\n",
       "    <tr>\n",
       "      <th>97</th>\n",
       "      <td>5</td>\n",
       "      <td>Best in the market!</td>\n",
       "      <td>Good Camera</td>\n",
       "    </tr>\n",
       "    <tr>\n",
       "      <th>98</th>\n",
       "      <td>5</td>\n",
       "      <td>Worth every penny</td>\n",
       "      <td>Feeling awesome after getting the delivery of ...</td>\n",
       "    </tr>\n",
       "    <tr>\n",
       "      <th>99</th>\n",
       "      <td>5</td>\n",
       "      <td>Terrific purchase</td>\n",
       "      <td>Value for money 😍</td>\n",
       "    </tr>\n",
       "  </tbody>\n",
       "</table>\n",
       "<p>100 rows × 3 columns</p>\n",
       "</div>"
      ],
      "text/plain": [
       "   Rating         Review_Summary  \\\n",
       "0       5  Mind-blowing purchase   \n",
       "1       5         Classy product   \n",
       "2       5               Terrific   \n",
       "3       5              Wonderful   \n",
       "4       5              Must buy!   \n",
       "..    ...                    ...   \n",
       "95      5              Just wow!   \n",
       "96      5       Perfect product!   \n",
       "97      5    Best in the market!   \n",
       "98      5      Worth every penny   \n",
       "99      5      Terrific purchase   \n",
       "\n",
       "                                         Full_Summary  \n",
       "0                                        Photos super  \n",
       "1   Camera is awesome\\nBest battery backup\\nA perf...  \n",
       "2                                      Very very good  \n",
       "3                              This is amazing at all  \n",
       "4                                 It’s really awesome  \n",
       "..                                                ...  \n",
       "95                                  Perfect Product!!  \n",
       "96                                         V Good all  \n",
       "97                                        Good Camera  \n",
       "98  Feeling awesome after getting the delivery of ...  \n",
       "99                                  Value for money 😍  \n",
       "\n",
       "[100 rows x 3 columns]"
      ]
     },
     "execution_count": 344,
     "metadata": {},
     "output_type": "execute_result"
    }
   ],
   "source": [
    "df=pd.DataFrame({'Rating':Iphone_Rating,'Review_Summary':Iphone_ReviewSummary,'Full_Summary':Iphone_FullSummary})\n",
    "df"
   ]
  },
  {
   "cell_type": "code",
   "execution_count": null,
   "id": "8bb775c3",
   "metadata": {},
   "outputs": [],
   "source": []
  },
  {
   "cell_type": "code",
   "execution_count": 441,
   "id": "6908b14a",
   "metadata": {},
   "outputs": [],
   "source": [
    "\"\"\"Q6: Scrape data forfirst 100 sneakers you find when you visit flipkart.com and search for “sneakers” in the\n",
    "search field.\n",
    "\"\"\"\n",
    "#create a driver object with the path to my chromedriver.exe file\n",
    "driver = webdriver.Chrome(r\"C:\\Users\\gues\\Desktop\\abdul\\chromedriver-win32\\chromedriver.exe\")\n"
   ]
  },
  {
   "cell_type": "code",
   "execution_count": 442,
   "id": "ec32a602",
   "metadata": {},
   "outputs": [],
   "source": [
    "# Implicitly wait for 10 seconds for elements to appear before raising an exception\n",
    "driver.implicitly_wait(10)"
   ]
  },
  {
   "cell_type": "code",
   "execution_count": 443,
   "id": "cdbb923e",
   "metadata": {},
   "outputs": [],
   "source": [
    "#(Q4) Go to Flipkart webpage\n",
    "driver.get(\"https://www.flipkart.com/\")"
   ]
  },
  {
   "cell_type": "code",
   "execution_count": 444,
   "id": "26f17ca9",
   "metadata": {},
   "outputs": [],
   "source": [
    "close_button=driver.find_element(By.XPATH,\"//button[@class='_2KpZ6l _2doB4z']\")\n",
    "close_button.click()"
   ]
  },
  {
   "cell_type": "code",
   "execution_count": 445,
   "id": "639cc0b7",
   "metadata": {},
   "outputs": [],
   "source": [
    "#Entering search field as required in the question\n",
    "searchfield=driver.find_element(By.CLASS_NAME,\"_3704LK\")\n",
    "searchfield.send_keys(\"sneakers\")\n"
   ]
  },
  {
   "cell_type": "code",
   "execution_count": 446,
   "id": "094b02ea",
   "metadata": {},
   "outputs": [],
   "source": [
    "#click on'\n",
    "search=driver.find_element(By.CLASS_NAME,\"L0Z3Pu\")\n",
    "search.click()"
   ]
  },
  {
   "cell_type": "code",
   "execution_count": 447,
   "id": "61041b8e",
   "metadata": {},
   "outputs": [],
   "source": [
    "Brand_Sneakers=[]\n",
    "ProductDescription_Sneakers=[]\n",
    "Price_Sneakers=[]\n"
   ]
  },
  {
   "cell_type": "code",
   "execution_count": 448,
   "id": "5b72e629",
   "metadata": {},
   "outputs": [],
   "source": [
    "#Scrap only 100 Sneakers\n",
    "start=0\n",
    "end=5\n",
    "\n",
    "for page in range(start,end):\n",
    "    brand=driver.find_elements(By.XPATH,'//div[@class=\"_2WkVRV\"]')\n",
    "    for i in brand[0:20]:\n",
    "         Brand_Sneakers.append(i.text)\n",
    "                  \n",
    "    Productdescription=driver.find_elements(By.XPATH,'//a[@class=\"IRpwTa\"]')\n",
    "    for i in brand[0:20]:\n",
    "        ProductDescription_Sneakers.append(i.text)\n",
    "        \n",
    "    PRICE=driver.find_elements(By.XPATH,'//div[@class=\"_30jeq3\"]')\n",
    "    for i in PRICE[0:20]:\n",
    "        Price_Sneakers.append(i.text)\n",
    "        \n",
    "    next_button=driver.find_elements(By.XPATH,'//a[@class=\"_1LKTO3\"]')\n",
    "    \n",
    "    time.sleep(2)"
   ]
  },
  {
   "cell_type": "code",
   "execution_count": 449,
   "id": "47f15810",
   "metadata": {},
   "outputs": [
    {
     "name": "stdout",
     "output_type": "stream",
     "text": [
      "100 100 100\n"
     ]
    }
   ],
   "source": [
    "print(len(Brand_Sneakers),len(ProductDescription_Sneakers),len(Price_Sneakers))"
   ]
  },
  {
   "cell_type": "code",
   "execution_count": 452,
   "id": "6a4badb2",
   "metadata": {},
   "outputs": [
    {
     "data": {
      "text/html": [
       "<div>\n",
       "<style scoped>\n",
       "    .dataframe tbody tr th:only-of-type {\n",
       "        vertical-align: middle;\n",
       "    }\n",
       "\n",
       "    .dataframe tbody tr th {\n",
       "        vertical-align: top;\n",
       "    }\n",
       "\n",
       "    .dataframe thead th {\n",
       "        text-align: right;\n",
       "    }\n",
       "</style>\n",
       "<table border=\"1\" class=\"dataframe\">\n",
       "  <thead>\n",
       "    <tr style=\"text-align: right;\">\n",
       "      <th></th>\n",
       "      <th>BRAND</th>\n",
       "      <th>PRODUCT_DESCRIPTION</th>\n",
       "      <th>PRICE</th>\n",
       "    </tr>\n",
       "  </thead>\n",
       "  <tbody>\n",
       "    <tr>\n",
       "      <th>0</th>\n",
       "      <td>Sparx</td>\n",
       "      <td>Sparx</td>\n",
       "      <td>₹609</td>\n",
       "    </tr>\n",
       "    <tr>\n",
       "      <th>1</th>\n",
       "      <td>Sparx</td>\n",
       "      <td>Sparx</td>\n",
       "      <td>₹463</td>\n",
       "    </tr>\n",
       "    <tr>\n",
       "      <th>2</th>\n",
       "      <td>aadi</td>\n",
       "      <td>aadi</td>\n",
       "      <td>₹387</td>\n",
       "    </tr>\n",
       "    <tr>\n",
       "      <th>3</th>\n",
       "      <td>BRUTON</td>\n",
       "      <td>BRUTON</td>\n",
       "      <td>₹299</td>\n",
       "    </tr>\n",
       "    <tr>\n",
       "      <th>4</th>\n",
       "      <td>PUMA</td>\n",
       "      <td>PUMA</td>\n",
       "      <td>₹1,957</td>\n",
       "    </tr>\n",
       "    <tr>\n",
       "      <th>...</th>\n",
       "      <td>...</td>\n",
       "      <td>...</td>\n",
       "      <td>...</td>\n",
       "    </tr>\n",
       "    <tr>\n",
       "      <th>95</th>\n",
       "      <td>PUMA</td>\n",
       "      <td>PUMA</td>\n",
       "      <td>₹1,599</td>\n",
       "    </tr>\n",
       "    <tr>\n",
       "      <th>96</th>\n",
       "      <td>ATOM</td>\n",
       "      <td>ATOM</td>\n",
       "      <td>₹1,389</td>\n",
       "    </tr>\n",
       "    <tr>\n",
       "      <th>97</th>\n",
       "      <td>VZAZZY</td>\n",
       "      <td>VZAZZY</td>\n",
       "      <td>₹595</td>\n",
       "    </tr>\n",
       "    <tr>\n",
       "      <th>98</th>\n",
       "      <td>ROASTER</td>\n",
       "      <td>ROASTER</td>\n",
       "      <td>₹629</td>\n",
       "    </tr>\n",
       "    <tr>\n",
       "      <th>99</th>\n",
       "      <td>LE GREEM</td>\n",
       "      <td>LE GREEM</td>\n",
       "      <td>₹490</td>\n",
       "    </tr>\n",
       "  </tbody>\n",
       "</table>\n",
       "<p>100 rows × 3 columns</p>\n",
       "</div>"
      ],
      "text/plain": [
       "       BRAND PRODUCT_DESCRIPTION   PRICE\n",
       "0      Sparx               Sparx    ₹609\n",
       "1      Sparx               Sparx    ₹463\n",
       "2       aadi                aadi    ₹387\n",
       "3     BRUTON              BRUTON    ₹299\n",
       "4       PUMA                PUMA  ₹1,957\n",
       "..       ...                 ...     ...\n",
       "95      PUMA                PUMA  ₹1,599\n",
       "96      ATOM                ATOM  ₹1,389\n",
       "97    VZAZZY              VZAZZY    ₹595\n",
       "98   ROASTER             ROASTER    ₹629\n",
       "99  LE GREEM            LE GREEM    ₹490\n",
       "\n",
       "[100 rows x 3 columns]"
      ]
     },
     "execution_count": 452,
     "metadata": {},
     "output_type": "execute_result"
    }
   ],
   "source": [
    "df=pd.DataFrame({'BRAND':Brand_Sneakers,'PRODUCT_DESCRIPTION':ProductDescription_Sneakers,'PRICE':Price_Sneakers})\n",
    "df"
   ]
  },
  {
   "cell_type": "code",
   "execution_count": null,
   "id": "1f244daf",
   "metadata": {},
   "outputs": [],
   "source": []
  },
  {
   "cell_type": "code",
   "execution_count": null,
   "id": "7d07493b",
   "metadata": {},
   "outputs": [],
   "source": []
  },
  {
   "cell_type": "code",
   "execution_count": null,
   "id": "edf548ed",
   "metadata": {},
   "outputs": [],
   "source": []
  },
  {
   "cell_type": "code",
   "execution_count": 460,
   "id": "5d7f9fba",
   "metadata": {},
   "outputs": [
    {
     "data": {
      "text/plain": [
       "'Q7: Go to webpage https://www.amazon.in/ Enter “Laptop” in the search field and then click the search icon. Then\\nset CPU Type filter to “Intel Core i7” as shown in the below image:\\n '"
      ]
     },
     "execution_count": 460,
     "metadata": {},
     "output_type": "execute_result"
    }
   ],
   "source": [
    "\"\"\"Q7: Go to webpage https://www.amazon.in/ Enter “Laptop” in the search field and then click the search icon. Then\n",
    "set CPU Type filter to “Intel Core i7” as shown in the below image:\n",
    " \"\"\""
   ]
  },
  {
   "cell_type": "code",
   "execution_count": 714,
   "id": "fa7a0fba",
   "metadata": {},
   "outputs": [],
   "source": [
    "#create a driver object with the path to my chromedriver.exe file\n",
    "driver = webdriver.Chrome(r\"C:\\Users\\gues\\Desktop\\abdul\\chromedriver-win32\\chromedriver.exe\")\n"
   ]
  },
  {
   "cell_type": "code",
   "execution_count": 715,
   "id": "0c8b1dc7",
   "metadata": {},
   "outputs": [],
   "source": [
    "driver.implicitly_wait(10)"
   ]
  },
  {
   "cell_type": "code",
   "execution_count": 716,
   "id": "0e4ac28e",
   "metadata": {},
   "outputs": [],
   "source": [
    "driver.get('https://www.amazon.in/')"
   ]
  },
  {
   "cell_type": "code",
   "execution_count": 717,
   "id": "dd0c5116",
   "metadata": {},
   "outputs": [],
   "source": [
    "#Enter \"Laptop\" in the search field \n",
    "search=driver.find_element(By.XPATH,\"/html/body/div[1]/header/div/div[1]/div[2]/div/form/div[2]/div[1]/input\")\n",
    "search.send_keys('Laptop')"
   ]
  },
  {
   "cell_type": "code",
   "execution_count": 718,
   "id": "abbbc093",
   "metadata": {},
   "outputs": [],
   "source": [
    "# click the search icon\n",
    "search=driver.find_element(By.ID,'nav-search-submit-button')\n",
    "search.click()"
   ]
  },
  {
   "cell_type": "code",
   "execution_count": 719,
   "id": "b783282a",
   "metadata": {},
   "outputs": [],
   "source": [
    "# Set CPU Type filter to 'Intel Core i7'\n",
    "filter_link=driver.find_element(By.LINK_TEXT,'Intel Core i7')\n",
    "filter_link.click()"
   ]
  },
  {
   "cell_type": "code",
   "execution_count": 720,
   "id": "d3440f1d",
   "metadata": {},
   "outputs": [],
   "source": [
    "# Top 10 laptops data. You have to scrape 3 attributes for each laptop:\n",
    "\n",
    "Title_Laptop=[]\n",
    "Ratings_Laptop=[]\n",
    "Price_Laptop=[]"
   ]
  },
  {
   "cell_type": "code",
   "execution_count": 721,
   "id": "73ef5413",
   "metadata": {},
   "outputs": [],
   "source": [
    "laptopTitle=driver.find_elements(By.XPATH,'//span[@class=\"a-size-medium a-color-base a-text-normal\"]')\n",
    "for i in laptopTitle[0:10]:\n",
    "    Title_Laptop.append(i.text)\n",
    "    \n",
    "laptopRatings=driver.find_elements(By.XPATH,'//i[@class=\"a-icon a-icon-star-small a-star-small-4 aok-align-bottom\"]')\n",
    "for i in laptopRatings[0:10]:\n",
    "    Ratings_Laptop.append(i.text)\n",
    "    \n",
    "    \n",
    "laptopTitle=driver.find_elements(By.XPATH,'//span[@class=\"a-price-whole\"]')\n",
    "for i in laptopTitle[0:10]:\n",
    "    Price_Laptop.append(i.text)\n",
    "    \n",
    "    \n",
    "\n",
    "    \n",
    "    "
   ]
  },
  {
   "cell_type": "code",
   "execution_count": 723,
   "id": "350f84dd",
   "metadata": {},
   "outputs": [
    {
     "name": "stdout",
     "output_type": "stream",
     "text": [
      "10 10 10\n"
     ]
    }
   ],
   "source": [
    "print(len(Title_Laptop),len(Ratings_Laptop),len(Price_Laptop))"
   ]
  },
  {
   "cell_type": "code",
   "execution_count": 726,
   "id": "cc9843b8",
   "metadata": {},
   "outputs": [
    {
     "data": {
      "text/html": [
       "<div>\n",
       "<style scoped>\n",
       "    .dataframe tbody tr th:only-of-type {\n",
       "        vertical-align: middle;\n",
       "    }\n",
       "\n",
       "    .dataframe tbody tr th {\n",
       "        vertical-align: top;\n",
       "    }\n",
       "\n",
       "    .dataframe thead th {\n",
       "        text-align: right;\n",
       "    }\n",
       "</style>\n",
       "<table border=\"1\" class=\"dataframe\">\n",
       "  <thead>\n",
       "    <tr style=\"text-align: right;\">\n",
       "      <th></th>\n",
       "      <th>Rating</th>\n",
       "      <th>Title</th>\n",
       "      <th>Price</th>\n",
       "    </tr>\n",
       "  </thead>\n",
       "  <tbody>\n",
       "    <tr>\n",
       "      <th>0</th>\n",
       "      <td></td>\n",
       "      <td>ASUS Vivobook 15, Intel Core i7-12650H 12th Ge...</td>\n",
       "      <td>61,990</td>\n",
       "    </tr>\n",
       "    <tr>\n",
       "      <th>1</th>\n",
       "      <td></td>\n",
       "      <td>MSI GF63 Thin, Intel Core i7-11800H, 40CM FHD ...</td>\n",
       "      <td>70,990</td>\n",
       "    </tr>\n",
       "    <tr>\n",
       "      <th>2</th>\n",
       "      <td></td>\n",
       "      <td>Lenovo [SmartChoice] IdeaPad Slim 3 Intel Core...</td>\n",
       "      <td>62,990</td>\n",
       "    </tr>\n",
       "    <tr>\n",
       "      <th>3</th>\n",
       "      <td></td>\n",
       "      <td>Acer Nitro 5 AN515-58 Gaming Laptop 12th Gen I...</td>\n",
       "      <td>1,04,990</td>\n",
       "    </tr>\n",
       "    <tr>\n",
       "      <th>4</th>\n",
       "      <td></td>\n",
       "      <td>Dell Inspiron 5430 13th Gen Laptop, Intel i7-1...</td>\n",
       "      <td>86,420</td>\n",
       "    </tr>\n",
       "    <tr>\n",
       "      <th>5</th>\n",
       "      <td></td>\n",
       "      <td>ASUS TUF Gaming F15 (2023) 90WHr Battery, Inte...</td>\n",
       "      <td>1,15,990</td>\n",
       "    </tr>\n",
       "    <tr>\n",
       "      <th>6</th>\n",
       "      <td></td>\n",
       "      <td>MSI Katana 15, Intel 12th Gen. i7-12650H, 40CM...</td>\n",
       "      <td>92,424</td>\n",
       "    </tr>\n",
       "    <tr>\n",
       "      <th>7</th>\n",
       "      <td></td>\n",
       "      <td>Dell Inspiron 5630 13th Gen Laptop, Intel Core...</td>\n",
       "      <td>89,880</td>\n",
       "    </tr>\n",
       "    <tr>\n",
       "      <th>8</th>\n",
       "      <td></td>\n",
       "      <td>Acer Predator Helios Neo 16 Gaming Laptop 13th...</td>\n",
       "      <td>1,29,990</td>\n",
       "    </tr>\n",
       "    <tr>\n",
       "      <th>9</th>\n",
       "      <td></td>\n",
       "      <td>HP Pavilion Plus, 12th Gen Intel Core i7 16GB ...</td>\n",
       "      <td>96,490</td>\n",
       "    </tr>\n",
       "  </tbody>\n",
       "</table>\n",
       "</div>"
      ],
      "text/plain": [
       "  Rating                                              Title     Price\n",
       "0         ASUS Vivobook 15, Intel Core i7-12650H 12th Ge...    61,990\n",
       "1         MSI GF63 Thin, Intel Core i7-11800H, 40CM FHD ...    70,990\n",
       "2         Lenovo [SmartChoice] IdeaPad Slim 3 Intel Core...    62,990\n",
       "3         Acer Nitro 5 AN515-58 Gaming Laptop 12th Gen I...  1,04,990\n",
       "4         Dell Inspiron 5430 13th Gen Laptop, Intel i7-1...    86,420\n",
       "5         ASUS TUF Gaming F15 (2023) 90WHr Battery, Inte...  1,15,990\n",
       "6         MSI Katana 15, Intel 12th Gen. i7-12650H, 40CM...    92,424\n",
       "7         Dell Inspiron 5630 13th Gen Laptop, Intel Core...    89,880\n",
       "8         Acer Predator Helios Neo 16 Gaming Laptop 13th...  1,29,990\n",
       "9         HP Pavilion Plus, 12th Gen Intel Core i7 16GB ...    96,490"
      ]
     },
     "execution_count": 726,
     "metadata": {},
     "output_type": "execute_result"
    }
   ],
   "source": [
    "df=pd.DataFrame({'Rating':Ratings_Laptop,'Title':Title_Laptop,'Price':Price_Laptop})\n",
    "df"
   ]
  },
  {
   "cell_type": "code",
   "execution_count": null,
   "id": "228e989e",
   "metadata": {},
   "outputs": [],
   "source": []
  },
  {
   "cell_type": "code",
   "execution_count": null,
   "id": "b7819ec3",
   "metadata": {},
   "outputs": [],
   "source": []
  },
  {
   "cell_type": "code",
   "execution_count": null,
   "id": "f9687b10",
   "metadata": {},
   "outputs": [],
   "source": []
  },
  {
   "cell_type": "code",
   "execution_count": 852,
   "id": "f86ec80c",
   "metadata": {},
   "outputs": [],
   "source": [
    "\"\"\"Q8: Write a python program to scrape data for Top 1000 Quotes of All Time.\n",
    "The above task will be done in following steps:\n",
    "1. First get the webpagehttps://www.azquotes.com/\n",
    "2. Click on TopQuotes\"\"\"\n",
    "\n",
    "#create a driver object with the path to my chromedriver.exe file\n",
    "driver = webdriver.Chrome(r\"C:\\Users\\gues\\Desktop\\abdul\\chromedriver-win32\\chromedriver.exe\")\n",
    "\n",
    "\n"
   ]
  },
  {
   "cell_type": "code",
   "execution_count": 853,
   "id": "af08ab6d",
   "metadata": {},
   "outputs": [],
   "source": [
    "driver.implicitly_wait(10)"
   ]
  },
  {
   "cell_type": "code",
   "execution_count": 854,
   "id": "297e89b3",
   "metadata": {},
   "outputs": [],
   "source": [
    "driver.get('https://www.azquotes.com/')"
   ]
  },
  {
   "cell_type": "code",
   "execution_count": 855,
   "id": "b7ae8f01",
   "metadata": {},
   "outputs": [],
   "source": [
    "#Click on Top Quote\n",
    "search=driver.find_element(By.XPATH,'/html/body/div[1]/div[2]/div[1]/div/div[3]/ul/li[5]/a')\n",
    "search.click()"
   ]
  },
  {
   "cell_type": "code",
   "execution_count": 856,
   "id": "c3ca9ad0",
   "metadata": {},
   "outputs": [],
   "source": [
    "Author=[]\n",
    "Quote=[]\n",
    "Type_Of_Quote=[]\n"
   ]
  },
  {
   "cell_type": "code",
   "execution_count": 857,
   "id": "4996c970",
   "metadata": {},
   "outputs": [],
   "source": [
    "#Than scrap a) Quote b) Author c) Type Of Quotes\n",
    "start=0\n",
    "end=10\n",
    "\n",
    "#Scrap Author \n",
    "for page in range(start,end ):\n",
    "    author=driver.find_elements(By.XPATH,'//div[@class=\"author\"]')\n",
    "    for i in author[0:100]:\n",
    "        Author.append(i.text)\n",
    "        \n",
    "    quote=driver.find_elements(By.XPATH,'//a[@class=\"title\"]')\n",
    "    for i in quote[0:100]:\n",
    "        Quote.append(i.text)\n",
    "        \n",
    "    TypeOfQuote=driver.find_elements(By.XPATH,'//div[@class=\"tags\"]')\n",
    "    for i in TypeOfQuote[0:100]:\n",
    "        Type_Of_Quote.append(i.text)\n",
    "        \n",
    "    next_button=driver.find_elements(By.XPATH,'//li[@class=\"next\"]')\n",
    "    \n",
    "    time.sleep(2)\n",
    "        "
   ]
  },
  {
   "cell_type": "code",
   "execution_count": 858,
   "id": "51c2a35c",
   "metadata": {},
   "outputs": [
    {
     "name": "stdout",
     "output_type": "stream",
     "text": [
      "1000 1000 1000\n"
     ]
    }
   ],
   "source": [
    "print(len(Author),len(Quote),len(Type_Of_Quote))"
   ]
  },
  {
   "cell_type": "code",
   "execution_count": 860,
   "id": "00ebd94a",
   "metadata": {},
   "outputs": [
    {
     "data": {
      "text/html": [
       "<div>\n",
       "<style scoped>\n",
       "    .dataframe tbody tr th:only-of-type {\n",
       "        vertical-align: middle;\n",
       "    }\n",
       "\n",
       "    .dataframe tbody tr th {\n",
       "        vertical-align: top;\n",
       "    }\n",
       "\n",
       "    .dataframe thead th {\n",
       "        text-align: right;\n",
       "    }\n",
       "</style>\n",
       "<table border=\"1\" class=\"dataframe\">\n",
       "  <thead>\n",
       "    <tr style=\"text-align: right;\">\n",
       "      <th></th>\n",
       "      <th>Author</th>\n",
       "      <th>Quote_</th>\n",
       "      <th>Types</th>\n",
       "    </tr>\n",
       "  </thead>\n",
       "  <tbody>\n",
       "    <tr>\n",
       "      <th>0</th>\n",
       "      <td>Michael Porter</td>\n",
       "      <td>The essence of strategy is choosing what not t...</td>\n",
       "      <td>Essence, Deep Thought, Transcendentalism</td>\n",
       "    </tr>\n",
       "    <tr>\n",
       "      <th>1</th>\n",
       "      <td>Golda Meir</td>\n",
       "      <td>One cannot and must not try to erase the past ...</td>\n",
       "      <td>Inspiration, Past, Trying</td>\n",
       "    </tr>\n",
       "    <tr>\n",
       "      <th>2</th>\n",
       "      <td>Theodore Roosevelt</td>\n",
       "      <td>Patriotism means to stand by the country. It d...</td>\n",
       "      <td>Country, Peace, War</td>\n",
       "    </tr>\n",
       "    <tr>\n",
       "      <th>3</th>\n",
       "      <td>Nelson Mandela</td>\n",
       "      <td>Death is something inevitable. When a man has ...</td>\n",
       "      <td>Inspirational, Motivational, Death</td>\n",
       "    </tr>\n",
       "    <tr>\n",
       "      <th>4</th>\n",
       "      <td>Erma Bombeck</td>\n",
       "      <td>You have to love a nation that celebrates its ...</td>\n",
       "      <td>4th Of July, Food, Patriotic</td>\n",
       "    </tr>\n",
       "    <tr>\n",
       "      <th>...</th>\n",
       "      <td>...</td>\n",
       "      <td>...</td>\n",
       "      <td>...</td>\n",
       "    </tr>\n",
       "    <tr>\n",
       "      <th>995</th>\n",
       "      <td>Hunter S. Thompson</td>\n",
       "      <td>When the going gets weird, the weird turn pro.</td>\n",
       "      <td>Music, Sports, Hunting</td>\n",
       "    </tr>\n",
       "    <tr>\n",
       "      <th>996</th>\n",
       "      <td>Corrie Ten Boom</td>\n",
       "      <td>When a train goes through a tunnel and it gets...</td>\n",
       "      <td>Trust, Encouraging, Uplifting</td>\n",
       "    </tr>\n",
       "    <tr>\n",
       "      <th>997</th>\n",
       "      <td>Dalai Lama</td>\n",
       "      <td>If you think you are too small to make a diffe...</td>\n",
       "      <td>Inspirational, Funny, Change</td>\n",
       "    </tr>\n",
       "    <tr>\n",
       "      <th>998</th>\n",
       "      <td>Mother Teresa</td>\n",
       "      <td>God doesn't require us to succeed, he only req...</td>\n",
       "      <td>Success, God, Mother</td>\n",
       "    </tr>\n",
       "    <tr>\n",
       "      <th>999</th>\n",
       "      <td>Norman Vincent Peale</td>\n",
       "      <td>Change your thoughts and you change your world.</td>\n",
       "      <td>Inspirational, Motivational, Change</td>\n",
       "    </tr>\n",
       "  </tbody>\n",
       "</table>\n",
       "<p>1000 rows × 3 columns</p>\n",
       "</div>"
      ],
      "text/plain": [
       "                   Author                                             Quote_  \\\n",
       "0          Michael Porter  The essence of strategy is choosing what not t...   \n",
       "1              Golda Meir  One cannot and must not try to erase the past ...   \n",
       "2      Theodore Roosevelt  Patriotism means to stand by the country. It d...   \n",
       "3          Nelson Mandela  Death is something inevitable. When a man has ...   \n",
       "4            Erma Bombeck  You have to love a nation that celebrates its ...   \n",
       "..                    ...                                                ...   \n",
       "995    Hunter S. Thompson     When the going gets weird, the weird turn pro.   \n",
       "996       Corrie Ten Boom  When a train goes through a tunnel and it gets...   \n",
       "997            Dalai Lama  If you think you are too small to make a diffe...   \n",
       "998         Mother Teresa  God doesn't require us to succeed, he only req...   \n",
       "999  Norman Vincent Peale    Change your thoughts and you change your world.   \n",
       "\n",
       "                                        Types  \n",
       "0    Essence, Deep Thought, Transcendentalism  \n",
       "1                   Inspiration, Past, Trying  \n",
       "2                         Country, Peace, War  \n",
       "3          Inspirational, Motivational, Death  \n",
       "4                4th Of July, Food, Patriotic  \n",
       "..                                        ...  \n",
       "995                    Music, Sports, Hunting  \n",
       "996             Trust, Encouraging, Uplifting  \n",
       "997              Inspirational, Funny, Change  \n",
       "998                      Success, God, Mother  \n",
       "999       Inspirational, Motivational, Change  \n",
       "\n",
       "[1000 rows x 3 columns]"
      ]
     },
     "execution_count": 860,
     "metadata": {},
     "output_type": "execute_result"
    }
   ],
   "source": [
    "df = pd.DataFrame({'Author':Author,'Quote_':Quote,'Types':Type_Of_Quote})\n",
    "df"
   ]
  },
  {
   "cell_type": "code",
   "execution_count": null,
   "id": "37f5213a",
   "metadata": {},
   "outputs": [],
   "source": []
  },
  {
   "cell_type": "code",
   "execution_count": null,
   "id": "1367e2d8",
   "metadata": {},
   "outputs": [],
   "source": []
  },
  {
   "cell_type": "code",
   "execution_count": null,
   "id": "1792ccad",
   "metadata": {},
   "outputs": [],
   "source": []
  },
  {
   "cell_type": "code",
   "execution_count": null,
   "id": "6621d323",
   "metadata": {},
   "outputs": [],
   "source": []
  },
  {
   "cell_type": "code",
   "execution_count": null,
   "id": "61d1703e",
   "metadata": {},
   "outputs": [],
   "source": []
  },
  {
   "cell_type": "code",
   "execution_count": null,
   "id": "e9448481",
   "metadata": {},
   "outputs": [],
   "source": []
  },
  {
   "cell_type": "code",
   "execution_count": null,
   "id": "f8d49c1a",
   "metadata": {},
   "outputs": [],
   "source": []
  },
  {
   "cell_type": "code",
   "execution_count": null,
   "id": "73ad4923",
   "metadata": {},
   "outputs": [],
   "source": []
  },
  {
   "cell_type": "code",
   "execution_count": null,
   "id": "bf575bea",
   "metadata": {},
   "outputs": [],
   "source": []
  },
  {
   "cell_type": "code",
   "execution_count": null,
   "id": "fb0aee75",
   "metadata": {},
   "outputs": [],
   "source": []
  },
  {
   "cell_type": "code",
   "execution_count": null,
   "id": "e8c799fc",
   "metadata": {},
   "outputs": [],
   "source": []
  },
  {
   "cell_type": "code",
   "execution_count": null,
   "id": "70209e43",
   "metadata": {},
   "outputs": [],
   "source": []
  },
  {
   "cell_type": "code",
   "execution_count": 16,
   "id": "c70beb6c",
   "metadata": {},
   "outputs": [],
   "source": [
    "\"\"\"Q9: Write a python program to display list of respected former Prime Ministers of India(i.e. Name, Born-Dead, \n",
    "Term of office, Remarks) from https://www.jagranjosh.com/.\"\"\"\n",
    "\n",
    "#create a driver object with the path to my chromedriver.exe file\n",
    "driver = webdriver.Chrome(r\"C:\\Users\\gues\\Desktop\\abdul\\chromedriver-win32\\chromedriver.exe\")\n"
   ]
  },
  {
   "cell_type": "code",
   "execution_count": 17,
   "id": "319cad14",
   "metadata": {},
   "outputs": [],
   "source": [
    "driver.implicitly_wait(10)"
   ]
  },
  {
   "cell_type": "code",
   "execution_count": 18,
   "id": "14387fe6",
   "metadata": {},
   "outputs": [],
   "source": [
    "driver.get('https://www.jagranjosh.com/')"
   ]
  },
  {
   "cell_type": "code",
   "execution_count": 19,
   "id": "d19fe295",
   "metadata": {},
   "outputs": [],
   "source": [
    "#Click on GK option\n",
    "search=driver.find_element(By.XPATH,'/html/body/div[1]/div[1]/div/div[1]/div/div[5]/div/div[1]/header/div[3]/ul/li[3]/a')\n",
    "\n",
    "search.click()"
   ]
  },
  {
   "cell_type": "code",
   "execution_count": 20,
   "id": "a9a922d3",
   "metadata": {},
   "outputs": [
    {
     "ename": "ElementClickInterceptedException",
     "evalue": "Message: element click intercepted: Element <a href=\"https://www.jagranjosh.com/general-knowledge/list-of-all-prime-ministers-of-india-1473165149-1\">...</a> is not clickable at point (753, 682). Other element would receive the click: <div style=\"\" id=\"gdprbx\">...</div>\n  (Session info: chrome=115.0.5790.110)\nStacktrace:\nBacktrace:\n\tGetHandleVerifier [0x00271C53+49427]\n\t(No symbol) [0x00205F41]\n\t(No symbol) [0x0010C64D]\n\t(No symbol) [0x0013DCE6]\n\t(No symbol) [0x0013C959]\n\t(No symbol) [0x0013B12B]\n\t(No symbol) [0x0013A585]\n\t(No symbol) [0x00132E80]\n\t(No symbol) [0x00154A1C]\n\t(No symbol) [0x00132916]\n\t(No symbol) [0x00154D74]\n\t(No symbol) [0x00166F2A]\n\t(No symbol) [0x00154816]\n\t(No symbol) [0x00131127]\n\t(No symbol) [0x001322AD]\n\tGetHandleVerifier [0x004C7149+2496009]\n\tGetHandleVerifier [0x0050D572+2783794]\n\tGetHandleVerifier [0x00507491+2758993]\n\tGetHandleVerifier [0x002F11D0+571024]\n\t(No symbol) [0x0020F96A]\n\t(No symbol) [0x0020BD88]\n\t(No symbol) [0x0020BE6B]\n\t(No symbol) [0x001FEA97]\n\tBaseThreadInitThunk [0x75A07D59+25]\n\tRtlInitializeExceptionChain [0x778DB79B+107]\n\tRtlClearBits [0x778DB71F+191]\n\t(No symbol) [0x00000000]\n",
     "output_type": "error",
     "traceback": [
      "\u001b[1;31m---------------------------------------------------------------------------\u001b[0m",
      "\u001b[1;31mElementClickInterceptedException\u001b[0m          Traceback (most recent call last)",
      "Cell \u001b[1;32mIn[20], line 3\u001b[0m\n\u001b[0;32m      1\u001b[0m search_prime\u001b[38;5;241m=\u001b[39mdriver\u001b[38;5;241m.\u001b[39mfind_element(By\u001b[38;5;241m.\u001b[39mXPATH,\u001b[38;5;124m'\u001b[39m\u001b[38;5;124m/html/body/div[1]/div/div/div[2]/div/div[10]/div/div/ul/li[2]/a\u001b[39m\u001b[38;5;124m'\u001b[39m)\n\u001b[1;32m----> 3\u001b[0m search_prime\u001b[38;5;241m.\u001b[39mclick()\n",
      "File \u001b[1;32m~\\anaconda3\\Lib\\site-packages\\selenium\\webdriver\\remote\\webelement.py:89\u001b[0m, in \u001b[0;36mWebElement.click\u001b[1;34m(self)\u001b[0m\n\u001b[0;32m     87\u001b[0m \u001b[38;5;28;01mdef\u001b[39;00m \u001b[38;5;21mclick\u001b[39m(\u001b[38;5;28mself\u001b[39m) \u001b[38;5;241m-\u001b[39m\u001b[38;5;241m>\u001b[39m \u001b[38;5;28;01mNone\u001b[39;00m:\n\u001b[0;32m     88\u001b[0m \u001b[38;5;250m    \u001b[39m\u001b[38;5;124;03m\"\"\"Clicks the element.\"\"\"\u001b[39;00m\n\u001b[1;32m---> 89\u001b[0m     \u001b[38;5;28mself\u001b[39m\u001b[38;5;241m.\u001b[39m_execute(Command\u001b[38;5;241m.\u001b[39mCLICK_ELEMENT)\n",
      "File \u001b[1;32m~\\anaconda3\\Lib\\site-packages\\selenium\\webdriver\\remote\\webelement.py:773\u001b[0m, in \u001b[0;36mWebElement._execute\u001b[1;34m(self, command, params)\u001b[0m\n\u001b[0;32m    771\u001b[0m     params \u001b[38;5;241m=\u001b[39m {}\n\u001b[0;32m    772\u001b[0m params[\u001b[38;5;124m'\u001b[39m\u001b[38;5;124mid\u001b[39m\u001b[38;5;124m'\u001b[39m] \u001b[38;5;241m=\u001b[39m \u001b[38;5;28mself\u001b[39m\u001b[38;5;241m.\u001b[39m_id\n\u001b[1;32m--> 773\u001b[0m \u001b[38;5;28;01mreturn\u001b[39;00m \u001b[38;5;28mself\u001b[39m\u001b[38;5;241m.\u001b[39m_parent\u001b[38;5;241m.\u001b[39mexecute(command, params)\n",
      "File \u001b[1;32m~\\anaconda3\\Lib\\site-packages\\selenium\\webdriver\\remote\\webdriver.py:430\u001b[0m, in \u001b[0;36mWebDriver.execute\u001b[1;34m(self, driver_command, params)\u001b[0m\n\u001b[0;32m    428\u001b[0m response \u001b[38;5;241m=\u001b[39m \u001b[38;5;28mself\u001b[39m\u001b[38;5;241m.\u001b[39mcommand_executor\u001b[38;5;241m.\u001b[39mexecute(driver_command, params)\n\u001b[0;32m    429\u001b[0m \u001b[38;5;28;01mif\u001b[39;00m response:\n\u001b[1;32m--> 430\u001b[0m     \u001b[38;5;28mself\u001b[39m\u001b[38;5;241m.\u001b[39merror_handler\u001b[38;5;241m.\u001b[39mcheck_response(response)\n\u001b[0;32m    431\u001b[0m     response[\u001b[38;5;124m'\u001b[39m\u001b[38;5;124mvalue\u001b[39m\u001b[38;5;124m'\u001b[39m] \u001b[38;5;241m=\u001b[39m \u001b[38;5;28mself\u001b[39m\u001b[38;5;241m.\u001b[39m_unwrap_value(\n\u001b[0;32m    432\u001b[0m         response\u001b[38;5;241m.\u001b[39mget(\u001b[38;5;124m'\u001b[39m\u001b[38;5;124mvalue\u001b[39m\u001b[38;5;124m'\u001b[39m, \u001b[38;5;28;01mNone\u001b[39;00m))\n\u001b[0;32m    433\u001b[0m     \u001b[38;5;28;01mreturn\u001b[39;00m response\n",
      "File \u001b[1;32m~\\anaconda3\\Lib\\site-packages\\selenium\\webdriver\\remote\\errorhandler.py:247\u001b[0m, in \u001b[0;36mErrorHandler.check_response\u001b[1;34m(self, response)\u001b[0m\n\u001b[0;32m    245\u001b[0m         alert_text \u001b[38;5;241m=\u001b[39m value[\u001b[38;5;124m'\u001b[39m\u001b[38;5;124malert\u001b[39m\u001b[38;5;124m'\u001b[39m]\u001b[38;5;241m.\u001b[39mget(\u001b[38;5;124m'\u001b[39m\u001b[38;5;124mtext\u001b[39m\u001b[38;5;124m'\u001b[39m)\n\u001b[0;32m    246\u001b[0m     \u001b[38;5;28;01mraise\u001b[39;00m exception_class(message, screen, stacktrace, alert_text)  \u001b[38;5;66;03m# type: ignore[call-arg]  # mypy is not smart enough here\u001b[39;00m\n\u001b[1;32m--> 247\u001b[0m \u001b[38;5;28;01mraise\u001b[39;00m exception_class(message, screen, stacktrace)\n",
      "\u001b[1;31mElementClickInterceptedException\u001b[0m: Message: element click intercepted: Element <a href=\"https://www.jagranjosh.com/general-knowledge/list-of-all-prime-ministers-of-india-1473165149-1\">...</a> is not clickable at point (753, 682). Other element would receive the click: <div style=\"\" id=\"gdprbx\">...</div>\n  (Session info: chrome=115.0.5790.110)\nStacktrace:\nBacktrace:\n\tGetHandleVerifier [0x00271C53+49427]\n\t(No symbol) [0x00205F41]\n\t(No symbol) [0x0010C64D]\n\t(No symbol) [0x0013DCE6]\n\t(No symbol) [0x0013C959]\n\t(No symbol) [0x0013B12B]\n\t(No symbol) [0x0013A585]\n\t(No symbol) [0x00132E80]\n\t(No symbol) [0x00154A1C]\n\t(No symbol) [0x00132916]\n\t(No symbol) [0x00154D74]\n\t(No symbol) [0x00166F2A]\n\t(No symbol) [0x00154816]\n\t(No symbol) [0x00131127]\n\t(No symbol) [0x001322AD]\n\tGetHandleVerifier [0x004C7149+2496009]\n\tGetHandleVerifier [0x0050D572+2783794]\n\tGetHandleVerifier [0x00507491+2758993]\n\tGetHandleVerifier [0x002F11D0+571024]\n\t(No symbol) [0x0020F96A]\n\t(No symbol) [0x0020BD88]\n\t(No symbol) [0x0020BE6B]\n\t(No symbol) [0x001FEA97]\n\tBaseThreadInitThunk [0x75A07D59+25]\n\tRtlInitializeExceptionChain [0x778DB79B+107]\n\tRtlClearBits [0x778DB71F+191]\n\t(No symbol) [0x00000000]\n"
     ]
    }
   ],
   "source": [
    "search_prime=driver.find_element(By.XPATH,'/html/body/div[1]/div/div/div[2]/div/div[10]/div/div/ul/li[2]/a')\n",
    "\n",
    "search_prime.click()\n"
   ]
  },
  {
   "cell_type": "code",
   "execution_count": null,
   "id": "d89f5b3d",
   "metadata": {},
   "outputs": [],
   "source": []
  },
  {
   "cell_type": "code",
   "execution_count": null,
   "id": "4bdc344d",
   "metadata": {},
   "outputs": [],
   "source": []
  },
  {
   "cell_type": "code",
   "execution_count": null,
   "id": "7c6eaa28",
   "metadata": {},
   "outputs": [],
   "source": []
  },
  {
   "cell_type": "code",
   "execution_count": 72,
   "id": "319196ed",
   "metadata": {},
   "outputs": [],
   "source": [
    "#Q10: Write a python program to display list of 50 Most expensive cars in the world \n",
    "\n",
    "#create a driver object with the path to my chromedriver.exe file\n",
    "driver = webdriver.Chrome(r\"C:\\Users\\gues\\Desktop\\abdul\\chromedriver-win32\\chromedriver.exe\")\n"
   ]
  },
  {
   "cell_type": "code",
   "execution_count": 73,
   "id": "8c2f79f2",
   "metadata": {},
   "outputs": [],
   "source": [
    "# Implicitly wait for 10 seconds for elements to appear before raising an exception\n",
    "driver.implicitly_wait(10)"
   ]
  },
  {
   "cell_type": "code",
   "execution_count": 74,
   "id": "645d12aa",
   "metadata": {},
   "outputs": [],
   "source": [
    "driver.get('https://uk.motor1.com/')"
   ]
  },
  {
   "cell_type": "code",
   "execution_count": 75,
   "id": "1c5e9cbc",
   "metadata": {},
   "outputs": [],
   "source": [
    "close_button=driver.find_element(By.XPATH,'/html/body/div[18]/div[2]/div/div/div[2]/div/div/button')\n",
    "close_button.click()"
   ]
  },
  {
   "cell_type": "code",
   "execution_count": 76,
   "id": "1de6bcc9",
   "metadata": {},
   "outputs": [],
   "source": [
    "search_car=driver.find_element(By.XPATH,'//input[@class=\"m1-search-panel-input m1-search-form-text\"]')\n",
    "search_car.send_keys(' 50 Most expensive cars')"
   ]
  },
  {
   "cell_type": "code",
   "execution_count": 77,
   "id": "1fe47e5a",
   "metadata": {},
   "outputs": [
    {
     "ename": "InvalidSelectorException",
     "evalue": "Message: invalid selector: An invalid or illegal selector was specified\n  (Session info: chrome=115.0.5790.110)\nStacktrace:\nBacktrace:\n\tGetHandleVerifier [0x00271C53+49427]\n\t(No symbol) [0x00205F41]\n\t(No symbol) [0x0010C64D]\n\t(No symbol) [0x0010FAA2]\n\t(No symbol) [0x00110DAA]\n\t(No symbol) [0x00110E50]\n\t(No symbol) [0x00139501]\n\t(No symbol) [0x001398DB]\n\t(No symbol) [0x001687D2]\n\t(No symbol) [0x00154A64]\n\t(No symbol) [0x00166F2A]\n\t(No symbol) [0x00154816]\n\t(No symbol) [0x00131127]\n\t(No symbol) [0x001322AD]\n\tGetHandleVerifier [0x004C7149+2496009]\n\tGetHandleVerifier [0x0050D572+2783794]\n\tGetHandleVerifier [0x00507491+2758993]\n\tGetHandleVerifier [0x002F11D0+571024]\n\t(No symbol) [0x0020F96A]\n\t(No symbol) [0x0020BD88]\n\t(No symbol) [0x0020BE6B]\n\t(No symbol) [0x001FEA97]\n\tBaseThreadInitThunk [0x75A07D59+25]\n\tRtlInitializeExceptionChain [0x778DB79B+107]\n\tRtlClearBits [0x778DB71F+191]\n\t(No symbol) [0x00000000]\n",
     "output_type": "error",
     "traceback": [
      "\u001b[1;31m---------------------------------------------------------------------------\u001b[0m",
      "\u001b[1;31mInvalidSelectorException\u001b[0m                  Traceback (most recent call last)",
      "Cell \u001b[1;32mIn[77], line 1\u001b[0m\n\u001b[1;32m----> 1\u001b[0m search\u001b[38;5;241m=\u001b[39mdriver\u001b[38;5;241m.\u001b[39mfind_element(By\u001b[38;5;241m.\u001b[39mCLASS_NAME,\u001b[38;5;124m'\u001b[39m\u001b[38;5;124m//button[@class=\u001b[39m\u001b[38;5;124m\"\u001b[39m\u001b[38;5;124mm1-search-panel-button m1-search-form-button-animate icon-search-svg\u001b[39m\u001b[38;5;124m\"\u001b[39m\u001b[38;5;124m'\u001b[39m)\n\u001b[0;32m      2\u001b[0m search\u001b[38;5;241m.\u001b[39mclick()\n",
      "File \u001b[1;32m~\\anaconda3\\Lib\\site-packages\\selenium\\webdriver\\remote\\webdriver.py:1251\u001b[0m, in \u001b[0;36mWebDriver.find_element\u001b[1;34m(self, by, value)\u001b[0m\n\u001b[0;32m   1248\u001b[0m     by \u001b[38;5;241m=\u001b[39m By\u001b[38;5;241m.\u001b[39mCSS_SELECTOR\n\u001b[0;32m   1249\u001b[0m     value \u001b[38;5;241m=\u001b[39m \u001b[38;5;124m'\u001b[39m\u001b[38;5;124m[name=\u001b[39m\u001b[38;5;124m\"\u001b[39m\u001b[38;5;132;01m%s\u001b[39;00m\u001b[38;5;124m\"\u001b[39m\u001b[38;5;124m]\u001b[39m\u001b[38;5;124m'\u001b[39m \u001b[38;5;241m%\u001b[39m value\n\u001b[1;32m-> 1251\u001b[0m \u001b[38;5;28;01mreturn\u001b[39;00m \u001b[38;5;28mself\u001b[39m\u001b[38;5;241m.\u001b[39mexecute(Command\u001b[38;5;241m.\u001b[39mFIND_ELEMENT, {\n\u001b[0;32m   1252\u001b[0m     \u001b[38;5;124m'\u001b[39m\u001b[38;5;124musing\u001b[39m\u001b[38;5;124m'\u001b[39m: by,\n\u001b[0;32m   1253\u001b[0m     \u001b[38;5;124m'\u001b[39m\u001b[38;5;124mvalue\u001b[39m\u001b[38;5;124m'\u001b[39m: value})[\u001b[38;5;124m'\u001b[39m\u001b[38;5;124mvalue\u001b[39m\u001b[38;5;124m'\u001b[39m]\n",
      "File \u001b[1;32m~\\anaconda3\\Lib\\site-packages\\selenium\\webdriver\\remote\\webdriver.py:430\u001b[0m, in \u001b[0;36mWebDriver.execute\u001b[1;34m(self, driver_command, params)\u001b[0m\n\u001b[0;32m    428\u001b[0m response \u001b[38;5;241m=\u001b[39m \u001b[38;5;28mself\u001b[39m\u001b[38;5;241m.\u001b[39mcommand_executor\u001b[38;5;241m.\u001b[39mexecute(driver_command, params)\n\u001b[0;32m    429\u001b[0m \u001b[38;5;28;01mif\u001b[39;00m response:\n\u001b[1;32m--> 430\u001b[0m     \u001b[38;5;28mself\u001b[39m\u001b[38;5;241m.\u001b[39merror_handler\u001b[38;5;241m.\u001b[39mcheck_response(response)\n\u001b[0;32m    431\u001b[0m     response[\u001b[38;5;124m'\u001b[39m\u001b[38;5;124mvalue\u001b[39m\u001b[38;5;124m'\u001b[39m] \u001b[38;5;241m=\u001b[39m \u001b[38;5;28mself\u001b[39m\u001b[38;5;241m.\u001b[39m_unwrap_value(\n\u001b[0;32m    432\u001b[0m         response\u001b[38;5;241m.\u001b[39mget(\u001b[38;5;124m'\u001b[39m\u001b[38;5;124mvalue\u001b[39m\u001b[38;5;124m'\u001b[39m, \u001b[38;5;28;01mNone\u001b[39;00m))\n\u001b[0;32m    433\u001b[0m     \u001b[38;5;28;01mreturn\u001b[39;00m response\n",
      "File \u001b[1;32m~\\anaconda3\\Lib\\site-packages\\selenium\\webdriver\\remote\\errorhandler.py:247\u001b[0m, in \u001b[0;36mErrorHandler.check_response\u001b[1;34m(self, response)\u001b[0m\n\u001b[0;32m    245\u001b[0m         alert_text \u001b[38;5;241m=\u001b[39m value[\u001b[38;5;124m'\u001b[39m\u001b[38;5;124malert\u001b[39m\u001b[38;5;124m'\u001b[39m]\u001b[38;5;241m.\u001b[39mget(\u001b[38;5;124m'\u001b[39m\u001b[38;5;124mtext\u001b[39m\u001b[38;5;124m'\u001b[39m)\n\u001b[0;32m    246\u001b[0m     \u001b[38;5;28;01mraise\u001b[39;00m exception_class(message, screen, stacktrace, alert_text)  \u001b[38;5;66;03m# type: ignore[call-arg]  # mypy is not smart enough here\u001b[39;00m\n\u001b[1;32m--> 247\u001b[0m \u001b[38;5;28;01mraise\u001b[39;00m exception_class(message, screen, stacktrace)\n",
      "\u001b[1;31mInvalidSelectorException\u001b[0m: Message: invalid selector: An invalid or illegal selector was specified\n  (Session info: chrome=115.0.5790.110)\nStacktrace:\nBacktrace:\n\tGetHandleVerifier [0x00271C53+49427]\n\t(No symbol) [0x00205F41]\n\t(No symbol) [0x0010C64D]\n\t(No symbol) [0x0010FAA2]\n\t(No symbol) [0x00110DAA]\n\t(No symbol) [0x00110E50]\n\t(No symbol) [0x00139501]\n\t(No symbol) [0x001398DB]\n\t(No symbol) [0x001687D2]\n\t(No symbol) [0x00154A64]\n\t(No symbol) [0x00166F2A]\n\t(No symbol) [0x00154816]\n\t(No symbol) [0x00131127]\n\t(No symbol) [0x001322AD]\n\tGetHandleVerifier [0x004C7149+2496009]\n\tGetHandleVerifier [0x0050D572+2783794]\n\tGetHandleVerifier [0x00507491+2758993]\n\tGetHandleVerifier [0x002F11D0+571024]\n\t(No symbol) [0x0020F96A]\n\t(No symbol) [0x0020BD88]\n\t(No symbol) [0x0020BE6B]\n\t(No symbol) [0x001FEA97]\n\tBaseThreadInitThunk [0x75A07D59+25]\n\tRtlInitializeExceptionChain [0x778DB79B+107]\n\tRtlClearBits [0x778DB71F+191]\n\t(No symbol) [0x00000000]\n"
     ]
    }
   ],
   "source": [
    "search=driver.find_element(By.CLASS_NAME,'//button[@class=\"m1-search-panel-button m1-search-form-button-animate icon-search-svg\"')\n",
    "search.click()"
   ]
  },
  {
   "cell_type": "code",
   "execution_count": null,
   "id": "fc11ba60",
   "metadata": {},
   "outputs": [],
   "source": []
  },
  {
   "cell_type": "code",
   "execution_count": null,
   "id": "795cfc65",
   "metadata": {},
   "outputs": [],
   "source": []
  },
  {
   "cell_type": "code",
   "execution_count": null,
   "id": "96087941",
   "metadata": {},
   "outputs": [],
   "source": []
  },
  {
   "cell_type": "code",
   "execution_count": null,
   "id": "4d1a88b8",
   "metadata": {},
   "outputs": [],
   "source": []
  }
 ],
 "metadata": {
  "kernelspec": {
   "display_name": "Python 3 (ipykernel)",
   "language": "python",
   "name": "python3"
  },
  "language_info": {
   "codemirror_mode": {
    "name": "ipython",
    "version": 3
   },
   "file_extension": ".py",
   "mimetype": "text/x-python",
   "name": "python",
   "nbconvert_exporter": "python",
   "pygments_lexer": "ipython3",
   "version": "3.11.3"
  }
 },
 "nbformat": 4,
 "nbformat_minor": 5
}
