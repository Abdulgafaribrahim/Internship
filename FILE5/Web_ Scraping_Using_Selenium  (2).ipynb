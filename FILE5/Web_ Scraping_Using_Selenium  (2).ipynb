{
 "cells": [
  {
   "cell_type": "code",
   "execution_count": 1,
   "id": "855ff66d",
   "metadata": {},
   "outputs": [],
   "source": [
    "#Importing libraries\n",
    "import selenium\n",
    "import pandas as pd\n",
    "import time\n",
    "from bs4 import BeautifulSoup\n",
    "\n",
    "#importing selenium webdriver\n",
    "from selenium import webdriver\n",
    "\n",
    "#importing required Exceptions which needs to handled\n",
    "from selenium.common.exceptions import StaleElementReferenceException, NoSuchElementException\n",
    "from selenium.webdriver.chrome.service import Service\n",
    "#importing request\n",
    "import requests\n",
    "\n",
    "\n",
    "from selenium.webdriver.common.by import By"
   ]
  },
  {
   "cell_type": "markdown",
   "id": "26df85c2",
   "metadata": {},
   "source": [
    "# Q1"
   ]
  },
  {
   "cell_type": "code",
   "execution_count": 2,
   "id": "5eb8366f",
   "metadata": {},
   "outputs": [],
   "source": [
    "\"\"\"Write a python program which searches all the product under a particular product from www.amazon.in. The\n",
    "product to be searched will be taken as input from user. For e.g. If user input is ‘guitar’. Then search for\n",
    "guitars.\"\"\"\n",
    "\n",
    "\n",
    "#Create a Webdriver Object for Chrome Browser\n",
    "service= Service(r\"C:\\Users\\gues\\Desktop\\abdul\\chromedriver-win32\\chromedriver.exe\")\n",
    "driver= webdriver.Chrome(service=service)\n",
    "\n"
   ]
  },
  {
   "cell_type": "code",
   "execution_count": 4,
   "id": "73b67b39",
   "metadata": {},
   "outputs": [
    {
     "name": "stdout",
     "output_type": "stream",
     "text": [
      "Enter the product name:Guitar\n"
     ]
    }
   ],
   "source": [
    "# Find the search box element and enter the product name\n",
    "User_Input=input(\"Enter the product name:\")\n"
   ]
  },
  {
   "cell_type": "markdown",
   "id": "4a394796",
   "metadata": {},
   "source": [
    "# Q2"
   ]
  },
  {
   "cell_type": "code",
   "execution_count": 288,
   "id": "6a9ebc7e",
   "metadata": {},
   "outputs": [],
   "source": [
    "\"\"\"In the above question, now scrape the following details of each product listed in first 3 pages of your search \n",
    "results and save it in a data frame and csv. In case if any product has less than 3 pages in search results then \n",
    "scrape all the products available under that product name. Details to be scraped are: \"Brand \n",
    "Name\", \"Name of the Product\", \"Price\", \"Return/Exchange\", \"Expected Delivery\", \"Availability\" and \n",
    "“Product URL”. In case, if any of the details are missing for any of the product then replace it by “-“.\"\"\"\n",
    "\n",
    "# Create a Webdriver Object for Chrome Browser\n",
    "service= Service(r\"C:\\Users\\gues\\Desktop\\abdul\\chromedriver-win32\\chromedriver.exe\")\n",
    "driver= webdriver.Chrome(service=service)\n",
    "\n",
    "# Wait for five minutes\n",
    "time.sleep(5)\n",
    "\n",
    "# Go To amazon.in homepage\n",
    "driver.get('https://www.amazon.in/')\n",
    "\n"
   ]
  },
  {
   "cell_type": "code",
   "execution_count": 289,
   "id": "921790e7",
   "metadata": {},
   "outputs": [],
   "source": [
    "# Find The Search Engine and Search For Books\n",
    "The_search_for_Guitar=driver.find_element(By.XPATH,'/html/body/div[1]/header/div/div[1]/div[2]/div/form/div[2]/div[1]/input')\n",
    "The_search_for_Guitar.send_keys('Guitars')\n"
   ]
  },
  {
   "cell_type": "code",
   "execution_count": 290,
   "id": "2f245ed2",
   "metadata": {},
   "outputs": [],
   "source": [
    "# Find the search button element by its class name\n",
    "Submt_Button=driver.find_element(By.XPATH,'/html/body/div[1]/header/div/div[1]/div[2]/div/form/div[3]/div/span/input')\n",
    "\n",
    "#Click the search button\n",
    "Submt_Button.click()"
   ]
  },
  {
   "cell_type": "code",
   "execution_count": 291,
   "id": "0ced2cd7",
   "metadata": {},
   "outputs": [],
   "source": [
    "\n",
    "# Initialize the data to be scraped\n",
    "PRODUCT_URLS= []\n",
    "BRAND_NAME= []\n",
    "PRICE= []\n",
    "RETURN_EXCHANGE= []\n",
    "EXPECTED_DELIVERY= []\n",
    "AVAILABILITY= []\n",
    "\n"
   ]
  },
  {
   "cell_type": "code",
   "execution_count": 292,
   "id": "3a53c992",
   "metadata": {},
   "outputs": [],
   "source": [
    "# Scrap only url\n",
    "start=0\n",
    "end=3\n",
    "\n",
    "# For loop for scrappings url 3 page\n",
    "for page in range(start,end):\n",
    "    url=driver.find_elements(By.XPATH,'//a[@class=\"a-link-normal s-underline-text s-underline-link-text s-link-style a-text-normal\"]')\n",
    "    for i in url[0:10]:\n",
    "        #appending the urls in product_urls list\n",
    "        PRODUCT_URLS.append(i.get_attribute(\"href\"))\n",
    "    \n",
    "    # remaining page\n",
    "    next_button=driver.find_element(By.XPATH,'//a[@class=\"s-pagination-item s-pagination-next s-pagination-button s-pagination-separator\"]')\n",
    "    next_button.click()\n",
    "    time.sleep(3)\n"
   ]
  },
  {
   "cell_type": "code",
   "execution_count": 79,
   "id": "88f2a296",
   "metadata": {},
   "outputs": [
    {
     "data": {
      "text/plain": [
       "30"
      ]
     },
     "execution_count": 79,
     "metadata": {},
     "output_type": "execute_result"
    }
   ],
   "source": [
    "len(PRODUCT_URLS)"
   ]
  },
  {
   "cell_type": "code",
   "execution_count": 80,
   "id": "8eaca67f",
   "metadata": {},
   "outputs": [],
   "source": [
    "##Loop for every Guitar in the list\n",
    "for url in PRODUCT_URLS:\n",
    "    driver.get(url)\n",
    "    time.sleep(2)\n",
    "    \n",
    "    \n",
    "    try:\n",
    "        # Brand of the Guitar\n",
    "        brand=driver.find_element(By.XPATH,'/html/body/div[2]/div[2]/div[5]/div[3]/div[4]/div[46]/div/table/tbody/tr[1]/td[2]/span')\n",
    "        BRAND_NAME.append(brand.text)\n",
    "    except NoSuchElementException:\n",
    "        BRAND_NAME.append('-')\n",
    "        \n",
    "    try:\n",
    "        # Price of the Guitar\n",
    "        price=driver.find_element(By.XPATH,'/html/body/div[2]/div[2]/div[5]/div[3]/div[4]/div[12]/div[3]/div[1]/span[2]/span[2]/span[2]')\n",
    "        PRICE.append(price.text)\n",
    "    except NoSuchElementException:\n",
    "        PRICE.append('-')\n",
    "        \n",
    "    try:\n",
    "        # Return_Exchange of the Guitar\n",
    "        return_exchange=driver.find_element(By.XPATH,'/html/body/div[2]/div[2]/div[5]/div[3]/div[4]/div[24]/div[2]/div/div/div/div[2]/div/ol/li[3]/div/span/div[2]/span')\n",
    "        RETURN_EXCHANGE.append(return_exchange.text)\n",
    "    except NoSuchElementException:\n",
    "        RETURN_EXCHANGE.append('-')\n",
    "        \n",
    "    try:\n",
    "        # Expected_Delivery of the product\n",
    "        expected_delivery=driver.find_element(By.XPATH,'/html/body/div[2]/div[2]/div[5]/div[3]/div[1]/div[3]/div/div[1]/div/div/div/form/div/div/div/div/div[3]/div/div[2]/div[9]/div[1]/div/div/div[1]/span/span')\n",
    "        EXPECTED_DELIVERY.append(expected_delivery.text)\n",
    "    except NoSuchElementException:\n",
    "        EXPECTED_DELIVERY.append('-')\n",
    "        \n",
    "    try:\n",
    "        # Availability of product\n",
    "        availability=driver.find_element(By.XPATH,'/html/body/div[2]/div[2]/div[5]/div[3]/div[1]/div[3]/div/div[1]/div/div/div/form/div/div/div/div/div[3]/div/div[4]/div/div[1]/span')\n",
    "        AVAILABILITY.append(availability.text)\n",
    "    except NoSuchElementException:\n",
    "        AVAILABILITY.append('-')\n",
    "        \n",
    "        \n",
    "        \n",
    "        \n",
    "        \n",
    "        \n",
    "        \n",
    "    \n",
    "        "
   ]
  },
  {
   "cell_type": "code",
   "execution_count": 81,
   "id": "9831a346",
   "metadata": {},
   "outputs": [
    {
     "name": "stdout",
     "output_type": "stream",
     "text": [
      "30 30 30 30 30 30\n"
     ]
    }
   ],
   "source": [
    "print(len(PRODUCT_URLS),len(BRAND_NAME),len(PRICE),len(RETURN_EXCHANGE),len(EXPECTED_DELIVERY),len(AVAILABILITY))"
   ]
  },
  {
   "cell_type": "code",
   "execution_count": 82,
   "id": "9017d4d3",
   "metadata": {},
   "outputs": [],
   "source": [
    "df=pd.DataFrame({'PRODUCT_URLS':PRODUCT_URLS,'BRAND_NAME':BRAND_NAME,'PRICE':PRICE,'RETURN_EXCHANGE':RETURN_EXCHANGE,'EXPECTED_DELIVERY':EXPECTED_DELIVERY,'AVAILABILITY':AVAILABILITY})"
   ]
  },
  {
   "cell_type": "code",
   "execution_count": 83,
   "id": "aa80ef3d",
   "metadata": {},
   "outputs": [
    {
     "data": {
      "text/html": [
       "<div>\n",
       "<style scoped>\n",
       "    .dataframe tbody tr th:only-of-type {\n",
       "        vertical-align: middle;\n",
       "    }\n",
       "\n",
       "    .dataframe tbody tr th {\n",
       "        vertical-align: top;\n",
       "    }\n",
       "\n",
       "    .dataframe thead th {\n",
       "        text-align: right;\n",
       "    }\n",
       "</style>\n",
       "<table border=\"1\" class=\"dataframe\">\n",
       "  <thead>\n",
       "    <tr style=\"text-align: right;\">\n",
       "      <th></th>\n",
       "      <th>PRODUCT_URLS</th>\n",
       "      <th>BRAND_NAME</th>\n",
       "      <th>PRICE</th>\n",
       "      <th>RETURN_EXCHANGE</th>\n",
       "      <th>EXPECTED_DELIVERY</th>\n",
       "      <th>AVAILABILITY</th>\n",
       "    </tr>\n",
       "  </thead>\n",
       "  <tbody>\n",
       "    <tr>\n",
       "      <th>0</th>\n",
       "      <td>https://www.amazon.in/sspa/click?ie=UTF8&amp;spc=M...</td>\n",
       "      <td>Medellin</td>\n",
       "      <td>2,499</td>\n",
       "      <td>7 days Replacement</td>\n",
       "      <td>Saturday, 12 August</td>\n",
       "      <td>In stock</td>\n",
       "    </tr>\n",
       "    <tr>\n",
       "      <th>1</th>\n",
       "      <td>https://www.amazon.in/sspa/click?ie=UTF8&amp;spc=M...</td>\n",
       "      <td>Kadence</td>\n",
       "      <td>4,999</td>\n",
       "      <td>7 days Replacement</td>\n",
       "      <td>Saturday, 12 August</td>\n",
       "      <td>In stock</td>\n",
       "    </tr>\n",
       "    <tr>\n",
       "      <th>2</th>\n",
       "      <td>https://www.amazon.in/sspa/click?ie=UTF8&amp;spc=M...</td>\n",
       "      <td>Medellin</td>\n",
       "      <td>2,499</td>\n",
       "      <td>7 days Replacement</td>\n",
       "      <td>Saturday, 12 August</td>\n",
       "      <td>In stock</td>\n",
       "    </tr>\n",
       "    <tr>\n",
       "      <th>3</th>\n",
       "      <td>https://www.amazon.in/sspa/click?ie=UTF8&amp;spc=M...</td>\n",
       "      <td>Medellin</td>\n",
       "      <td>2,499</td>\n",
       "      <td>7 days Replacement</td>\n",
       "      <td>Saturday, 12 August</td>\n",
       "      <td>In stock</td>\n",
       "    </tr>\n",
       "    <tr>\n",
       "      <th>4</th>\n",
       "      <td>https://www.amazon.in/Juarez-Acoustic-Cutaway-...</td>\n",
       "      <td>JUAREZ</td>\n",
       "      <td>1,799</td>\n",
       "      <td>7 days Replacement</td>\n",
       "      <td>Friday, 11 August</td>\n",
       "      <td>In stock</td>\n",
       "    </tr>\n",
       "    <tr>\n",
       "      <th>5</th>\n",
       "      <td>https://www.amazon.in/Intern-INT-38C-Acoustic-...</td>\n",
       "      <td>Intern</td>\n",
       "      <td>1,849</td>\n",
       "      <td>7 days Replacement</td>\n",
       "      <td>Friday, 11 August</td>\n",
       "      <td>In stock</td>\n",
       "    </tr>\n",
       "    <tr>\n",
       "      <th>6</th>\n",
       "      <td>https://www.amazon.in/Juarez-Acoustic-Guitar-C...</td>\n",
       "      <td>-</td>\n",
       "      <td>-</td>\n",
       "      <td>-</td>\n",
       "      <td>-</td>\n",
       "      <td>-</td>\n",
       "    </tr>\n",
       "    <tr>\n",
       "      <th>7</th>\n",
       "      <td>https://aax-eu.amazon.in/x/c/RAZ1oikmfY0FxM_k0...</td>\n",
       "      <td>Kadence</td>\n",
       "      <td>8,999</td>\n",
       "      <td>7 days Replacement</td>\n",
       "      <td>Saturday, 12 August</td>\n",
       "      <td>In stock</td>\n",
       "    </tr>\n",
       "    <tr>\n",
       "      <th>8</th>\n",
       "      <td>https://www.amazon.in/Revel-RVL-38C-LGP-3TS-Li...</td>\n",
       "      <td>REVEL</td>\n",
       "      <td>1,792</td>\n",
       "      <td>7 days Replacement</td>\n",
       "      <td>Saturday, 12 August</td>\n",
       "      <td>In stock</td>\n",
       "    </tr>\n",
       "    <tr>\n",
       "      <th>9</th>\n",
       "      <td>https://www.amazon.in/Yamaha-F280-Acoustic-Gui...</td>\n",
       "      <td>YAMAHA</td>\n",
       "      <td>7,099</td>\n",
       "      <td>7 days Replacement</td>\n",
       "      <td>Friday, 11 August</td>\n",
       "      <td>In stock</td>\n",
       "    </tr>\n",
       "    <tr>\n",
       "      <th>10</th>\n",
       "      <td>https://www.amazon.in/sspa/click?ie=UTF8&amp;spc=M...</td>\n",
       "      <td>Blueberry</td>\n",
       "      <td>2,655</td>\n",
       "      <td>7 days Replacement</td>\n",
       "      <td>Friday, 11 August</td>\n",
       "      <td>In stock</td>\n",
       "    </tr>\n",
       "    <tr>\n",
       "      <th>11</th>\n",
       "      <td>https://www.amazon.in/sspa/click?ie=UTF8&amp;spc=M...</td>\n",
       "      <td>Kaps</td>\n",
       "      <td>7,999</td>\n",
       "      <td>-</td>\n",
       "      <td>12 - 16 August</td>\n",
       "      <td>Only 1 left in stock</td>\n",
       "    </tr>\n",
       "    <tr>\n",
       "      <th>12</th>\n",
       "      <td>https://www.amazon.in/sspa/click?ie=UTF8&amp;spc=M...</td>\n",
       "      <td>Blueberry</td>\n",
       "      <td>4,290</td>\n",
       "      <td>7 days Replacement</td>\n",
       "      <td>Friday, 11 August</td>\n",
       "      <td>In stock</td>\n",
       "    </tr>\n",
       "    <tr>\n",
       "      <th>13</th>\n",
       "      <td>https://www.amazon.in/sspa/click?ie=UTF8&amp;spc=M...</td>\n",
       "      <td>-</td>\n",
       "      <td>-</td>\n",
       "      <td>-</td>\n",
       "      <td>-</td>\n",
       "      <td>-</td>\n",
       "    </tr>\n",
       "    <tr>\n",
       "      <th>14</th>\n",
       "      <td>https://www.amazon.in/Intern-INT-38C-Acoustic-...</td>\n",
       "      <td>Intern</td>\n",
       "      <td>2,099</td>\n",
       "      <td>7 days Replacement</td>\n",
       "      <td>Friday, 11 August</td>\n",
       "      <td>In stock</td>\n",
       "    </tr>\n",
       "    <tr>\n",
       "      <th>15</th>\n",
       "      <td>https://www.amazon.in/Intern-INT-38C-Brown-Aco...</td>\n",
       "      <td>Intern</td>\n",
       "      <td>2,089</td>\n",
       "      <td>7 days Replacement</td>\n",
       "      <td>Wednesday, 9 August</td>\n",
       "      <td>In stock</td>\n",
       "    </tr>\n",
       "    <tr>\n",
       "      <th>16</th>\n",
       "      <td>https://www.amazon.in/Acoustic-plectrums-stabi...</td>\n",
       "      <td>-</td>\n",
       "      <td>-</td>\n",
       "      <td>-</td>\n",
       "      <td>-</td>\n",
       "      <td>-</td>\n",
       "    </tr>\n",
       "    <tr>\n",
       "      <th>17</th>\n",
       "      <td>https://www.amazon.in/Yamaha-FS-100C-6-String-...</td>\n",
       "      <td>YAMAHA</td>\n",
       "      <td>9,490</td>\n",
       "      <td>7 days Replacement</td>\n",
       "      <td>Saturday, 12 August</td>\n",
       "      <td>In stock</td>\n",
       "    </tr>\n",
       "    <tr>\n",
       "      <th>18</th>\n",
       "      <td>https://www.amazon.in/Rosewood-Fretboard-Acous...</td>\n",
       "      <td>HOVNER</td>\n",
       "      <td>4,350</td>\n",
       "      <td>7 days Replacement</td>\n",
       "      <td>Friday, 18 August</td>\n",
       "      <td>In stock</td>\n",
       "    </tr>\n",
       "    <tr>\n",
       "      <th>19</th>\n",
       "      <td>https://www.amazon.in/Ultimate-Concert-Cutaway...</td>\n",
       "      <td>YAMAHA</td>\n",
       "      <td>-</td>\n",
       "      <td>-</td>\n",
       "      <td>Thursday, 10 August</td>\n",
       "      <td>Only 1 left in stock</td>\n",
       "    </tr>\n",
       "    <tr>\n",
       "      <th>20</th>\n",
       "      <td>https://www.amazon.in/sspa/click?ie=UTF8&amp;spc=M...</td>\n",
       "      <td>Blueberry</td>\n",
       "      <td>4,795</td>\n",
       "      <td>7 days Replacement</td>\n",
       "      <td>Friday, 11 August</td>\n",
       "      <td>In stock</td>\n",
       "    </tr>\n",
       "    <tr>\n",
       "      <th>21</th>\n",
       "      <td>https://www.amazon.in/sspa/click?ie=UTF8&amp;spc=M...</td>\n",
       "      <td>MUSTANG</td>\n",
       "      <td>1,290</td>\n",
       "      <td>-</td>\n",
       "      <td>Sunday, 13 August</td>\n",
       "      <td>In stock</td>\n",
       "    </tr>\n",
       "    <tr>\n",
       "      <th>22</th>\n",
       "      <td>https://www.amazon.in/sspa/click?ie=UTF8&amp;spc=M...</td>\n",
       "      <td>Blueberry</td>\n",
       "      <td>2,999</td>\n",
       "      <td>7 days Replacement</td>\n",
       "      <td>Friday, 11 August</td>\n",
       "      <td>In stock</td>\n",
       "    </tr>\n",
       "    <tr>\n",
       "      <th>23</th>\n",
       "      <td>https://www.amazon.in/sspa/click?ie=UTF8&amp;spc=M...</td>\n",
       "      <td>FESTRA</td>\n",
       "      <td>4,076</td>\n",
       "      <td>7 days Replacement</td>\n",
       "      <td>Friday, 11 August</td>\n",
       "      <td>In stock</td>\n",
       "    </tr>\n",
       "    <tr>\n",
       "      <th>24</th>\n",
       "      <td>https://www.amazon.in/Fender-FA-345CE-Auditori...</td>\n",
       "      <td>Fender</td>\n",
       "      <td>-</td>\n",
       "      <td>-</td>\n",
       "      <td>-</td>\n",
       "      <td>-</td>\n",
       "    </tr>\n",
       "    <tr>\n",
       "      <th>25</th>\n",
       "      <td>https://www.amazon.in/Blueberry-VIP-341-Natura...</td>\n",
       "      <td>Blueberry</td>\n",
       "      <td>3,290</td>\n",
       "      <td>7 days Replacement</td>\n",
       "      <td>Friday, 11 August</td>\n",
       "      <td>Only 1 left in stock</td>\n",
       "    </tr>\n",
       "    <tr>\n",
       "      <th>26</th>\n",
       "      <td>https://www.amazon.in/Juarez-Acoustic-Guitar-C...</td>\n",
       "      <td>-</td>\n",
       "      <td>-</td>\n",
       "      <td>-</td>\n",
       "      <td>-</td>\n",
       "      <td>-</td>\n",
       "    </tr>\n",
       "    <tr>\n",
       "      <th>27</th>\n",
       "      <td>https://www.amazon.in/Kadence-Frontier-Acousti...</td>\n",
       "      <td>Kadence</td>\n",
       "      <td>5,499</td>\n",
       "      <td>7 days Replacement</td>\n",
       "      <td>Saturday, 12 August</td>\n",
       "      <td>In stock</td>\n",
       "    </tr>\n",
       "    <tr>\n",
       "      <th>28</th>\n",
       "      <td>https://www.amazon.in/Yamaha-FSX80C-Acoustic-C...</td>\n",
       "      <td>-</td>\n",
       "      <td>-</td>\n",
       "      <td>-</td>\n",
       "      <td>-</td>\n",
       "      <td>-</td>\n",
       "    </tr>\n",
       "    <tr>\n",
       "      <th>29</th>\n",
       "      <td>https://www.amazon.in/Intern-INT-38C-VT-G-Guit...</td>\n",
       "      <td>Intern</td>\n",
       "      <td>1,979</td>\n",
       "      <td>7 days Replacement</td>\n",
       "      <td>Friday, 11 August</td>\n",
       "      <td>In stock</td>\n",
       "    </tr>\n",
       "  </tbody>\n",
       "</table>\n",
       "</div>"
      ],
      "text/plain": [
       "                                         PRODUCT_URLS BRAND_NAME  PRICE  \\\n",
       "0   https://www.amazon.in/sspa/click?ie=UTF8&spc=M...   Medellin  2,499   \n",
       "1   https://www.amazon.in/sspa/click?ie=UTF8&spc=M...    Kadence  4,999   \n",
       "2   https://www.amazon.in/sspa/click?ie=UTF8&spc=M...   Medellin  2,499   \n",
       "3   https://www.amazon.in/sspa/click?ie=UTF8&spc=M...   Medellin  2,499   \n",
       "4   https://www.amazon.in/Juarez-Acoustic-Cutaway-...     JUAREZ  1,799   \n",
       "5   https://www.amazon.in/Intern-INT-38C-Acoustic-...     Intern  1,849   \n",
       "6   https://www.amazon.in/Juarez-Acoustic-Guitar-C...          -      -   \n",
       "7   https://aax-eu.amazon.in/x/c/RAZ1oikmfY0FxM_k0...    Kadence  8,999   \n",
       "8   https://www.amazon.in/Revel-RVL-38C-LGP-3TS-Li...      REVEL  1,792   \n",
       "9   https://www.amazon.in/Yamaha-F280-Acoustic-Gui...     YAMAHA  7,099   \n",
       "10  https://www.amazon.in/sspa/click?ie=UTF8&spc=M...  Blueberry  2,655   \n",
       "11  https://www.amazon.in/sspa/click?ie=UTF8&spc=M...       Kaps  7,999   \n",
       "12  https://www.amazon.in/sspa/click?ie=UTF8&spc=M...  Blueberry  4,290   \n",
       "13  https://www.amazon.in/sspa/click?ie=UTF8&spc=M...          -      -   \n",
       "14  https://www.amazon.in/Intern-INT-38C-Acoustic-...     Intern  2,099   \n",
       "15  https://www.amazon.in/Intern-INT-38C-Brown-Aco...     Intern  2,089   \n",
       "16  https://www.amazon.in/Acoustic-plectrums-stabi...          -      -   \n",
       "17  https://www.amazon.in/Yamaha-FS-100C-6-String-...     YAMAHA  9,490   \n",
       "18  https://www.amazon.in/Rosewood-Fretboard-Acous...     HOVNER  4,350   \n",
       "19  https://www.amazon.in/Ultimate-Concert-Cutaway...     YAMAHA      -   \n",
       "20  https://www.amazon.in/sspa/click?ie=UTF8&spc=M...  Blueberry  4,795   \n",
       "21  https://www.amazon.in/sspa/click?ie=UTF8&spc=M...    MUSTANG  1,290   \n",
       "22  https://www.amazon.in/sspa/click?ie=UTF8&spc=M...  Blueberry  2,999   \n",
       "23  https://www.amazon.in/sspa/click?ie=UTF8&spc=M...     FESTRA  4,076   \n",
       "24  https://www.amazon.in/Fender-FA-345CE-Auditori...     Fender      -   \n",
       "25  https://www.amazon.in/Blueberry-VIP-341-Natura...  Blueberry  3,290   \n",
       "26  https://www.amazon.in/Juarez-Acoustic-Guitar-C...          -      -   \n",
       "27  https://www.amazon.in/Kadence-Frontier-Acousti...    Kadence  5,499   \n",
       "28  https://www.amazon.in/Yamaha-FSX80C-Acoustic-C...          -      -   \n",
       "29  https://www.amazon.in/Intern-INT-38C-VT-G-Guit...     Intern  1,979   \n",
       "\n",
       "       RETURN_EXCHANGE    EXPECTED_DELIVERY          AVAILABILITY  \n",
       "0   7 days Replacement  Saturday, 12 August              In stock  \n",
       "1   7 days Replacement  Saturday, 12 August              In stock  \n",
       "2   7 days Replacement  Saturday, 12 August              In stock  \n",
       "3   7 days Replacement  Saturday, 12 August              In stock  \n",
       "4   7 days Replacement    Friday, 11 August              In stock  \n",
       "5   7 days Replacement    Friday, 11 August              In stock  \n",
       "6                    -                    -                     -  \n",
       "7   7 days Replacement  Saturday, 12 August              In stock  \n",
       "8   7 days Replacement  Saturday, 12 August              In stock  \n",
       "9   7 days Replacement    Friday, 11 August              In stock  \n",
       "10  7 days Replacement    Friday, 11 August              In stock  \n",
       "11                   -       12 - 16 August  Only 1 left in stock  \n",
       "12  7 days Replacement    Friday, 11 August              In stock  \n",
       "13                   -                    -                     -  \n",
       "14  7 days Replacement    Friday, 11 August              In stock  \n",
       "15  7 days Replacement  Wednesday, 9 August              In stock  \n",
       "16                   -                    -                     -  \n",
       "17  7 days Replacement  Saturday, 12 August              In stock  \n",
       "18  7 days Replacement    Friday, 18 August              In stock  \n",
       "19                   -  Thursday, 10 August  Only 1 left in stock  \n",
       "20  7 days Replacement    Friday, 11 August              In stock  \n",
       "21                   -    Sunday, 13 August              In stock  \n",
       "22  7 days Replacement    Friday, 11 August              In stock  \n",
       "23  7 days Replacement    Friday, 11 August              In stock  \n",
       "24                   -                    -                     -  \n",
       "25  7 days Replacement    Friday, 11 August  Only 1 left in stock  \n",
       "26                   -                    -                     -  \n",
       "27  7 days Replacement  Saturday, 12 August              In stock  \n",
       "28                   -                    -                     -  \n",
       "29  7 days Replacement    Friday, 11 August              In stock  "
      ]
     },
     "execution_count": 83,
     "metadata": {},
     "output_type": "execute_result"
    }
   ],
   "source": [
    "df"
   ]
  },
  {
   "cell_type": "code",
   "execution_count": 85,
   "id": "50dc3d85",
   "metadata": {},
   "outputs": [
    {
     "data": {
      "text/plain": [
       "',PRODUCT_URLS,BRAND_NAME,PRICE,RETURN_EXCHANGE,EXPECTED_DELIVERY,AVAILABILITY\\r\\n0,https://www.amazon.in/sspa/click?ie=UTF8&spc=MTo0MDI0MDQ0NTM5MDA0NjQ4OjE2OTEzODM4MTQ6c3BfYXRmOjMwMDAyNTIxNzI0MTczMjo6MDo6&url=%2FMedellin-Acoustic-Guitar-learning-Strings%2Fdp%2FB0CCNSN9BV%2Fref%3Dsr_1_1_sspa%3Fcrid%3DMR0JXX439M2A%26keywords%3DGuitars%26qid%3D1691383814%26sprefix%3Dguitars%252Caps%252C131%26sr%3D8-1-spons%26sp_csd%3Dd2lkZ2V0TmFtZT1zcF9hdGY%26psc%3D1,Medellin,\"2,499\",7 days Replacement,\"Saturday, 12 August\",In stock\\r\\n1,https://www.amazon.in/sspa/click?ie=UTF8&spc=MTo0MDI0MDQ0NTM5MDA0NjQ4OjE2OTEzODM4MTQ6c3BfYXRmOjMwMDAxNTUzNzk3OTIzMjo6MDo6&url=%2FKadence-Frontier-Acoustic-Guitar-Strings%2Fdp%2FB078GTJP5Y%2Fref%3Dsr_1_2_sspa%3Fcrid%3DMR0JXX439M2A%26keywords%3DGuitars%26qid%3D1691383814%26sprefix%3Dguitars%252Caps%252C131%26sr%3D8-2-spons%26sp_csd%3Dd2lkZ2V0TmFtZT1zcF9hdGY%26psc%3D1,Kadence,\"4,999\",7 days Replacement,\"Saturday, 12 August\",In stock\\r\\n2,https://www.amazon.in/sspa/click?ie=UTF8&spc=MTo0MDI0MDQ0NTM5MDA0NjQ4OjE2OTEzODM4MTQ6c3BfYXRmOjMwMDAyNTIxNzI0MTYzMjo6MDo6&url=%2FMedellin-Acoustic-Guitar-learning-Strings%2Fdp%2FB0CCNSN6S4%2Fref%3Dsr_1_3_sspa%3Fcrid%3DMR0JXX439M2A%26keywords%3DGuitars%26qid%3D1691383814%26sprefix%3Dguitars%252Caps%252C131%26sr%3D8-3-spons%26sp_csd%3Dd2lkZ2V0TmFtZT1zcF9hdGY%26psc%3D1,Medellin,\"2,499\",7 days Replacement,\"Saturday, 12 August\",In stock\\r\\n3,https://www.amazon.in/sspa/click?ie=UTF8&spc=MTo0MDI0MDQ0NTM5MDA0NjQ4OjE2OTEzODM4MTQ6c3BfYXRmOjMwMDAyNTIxNzI0MTgzMjo6MDo6&url=%2FMedellin-Acoustic-Guitar-learning-Strings%2Fdp%2FB0CCNS2NDX%2Fref%3Dsr_1_4_sspa%3Fcrid%3DMR0JXX439M2A%26keywords%3DGuitars%26qid%3D1691383814%26sprefix%3Dguitars%252Caps%252C131%26sr%3D8-4-spons%26sp_csd%3Dd2lkZ2V0TmFtZT1zcF9hdGY%26psc%3D1,Medellin,\"2,499\",7 days Replacement,\"Saturday, 12 August\",In stock\\r\\n4,https://www.amazon.in/Juarez-Acoustic-Cutaway-038C-Strings/dp/B017NPCSLI/ref=sr_1_5?crid=MR0JXX439M2A&keywords=Guitars&qid=1691383814&sprefix=guitars%2Caps%2C131&sr=8-5,JUAREZ,\"1,799\",7 days Replacement,\"Friday, 11 August\",In stock\\r\\n5,https://www.amazon.in/Intern-INT-38C-Acoustic-Guitar-Black/dp/B073B6TQQY/ref=sr_1_6?crid=MR0JXX439M2A&keywords=Guitars&qid=1691383814&sprefix=guitars%2Caps%2C131&sr=8-6,Intern,\"1,849\",7 days Replacement,\"Friday, 11 August\",In stock\\r\\n6,https://www.amazon.in/Juarez-Acoustic-Guitar-Cutaway-Strings/dp/B084VRCCN7/ref=sr_1_7?crid=MR0JXX439M2A&keywords=Guitars&qid=1691383814&sprefix=guitars%2Caps%2C131&sr=8-7,-,-,-,-,-\\r\\n7,https://aax-eu.amazon.in/x/c/RAZ1oikmfY0FxM_k0oM_r9IAAAGJzlTaNgMAAAH2AQBvbm9fdHhuX2JpZDIgICBvbm9fdHhuX2ltcDEgICDsXAdx/https://www.amazon.in/Kadence-Slowhand-Premium-Acoustic-Mahogany/dp/B09SFXW1VL/ref=sxin_17_sbv_search_btf?content-id=amzn1.sym.ea7f11f8-e26c-4b10-84ad-15aa33ea30ac%3Aamzn1.sym.ea7f11f8-e26c-4b10-84ad-15aa33ea30ac&crid=MR0JXX439M2A&cv_ct_cx=Guitars&keywords=Guitars&pd_rd_i=B09SFXW1VL&pd_rd_r=72ab2e68-6ece-44ad-b1f3-bc0f74cdf431&pd_rd_w=TXfqS&pd_rd_wg=o1z3c&pf_rd_p=ea7f11f8-e26c-4b10-84ad-15aa33ea30ac&pf_rd_r=WM7XBMK2XTJ8NZMM84P9&qid=1691383814&sbo=RZvfv%2F%2FHxDF%2BO5021pAnSA%3D%3D&sprefix=guitars%2Caps%2C131&sr=1-1-9131241a-a358-4619-a7b8-0f5a65d91d81,Kadence,\"8,999\",7 days Replacement,\"Saturday, 12 August\",In stock\\r\\n8,https://www.amazon.in/Revel-RVL-38C-LGP-3TS-Linden-Acoustic-Sunburst/dp/B085HV4YW7/ref=sr_1_8?crid=MR0JXX439M2A&keywords=Guitars&qid=1691383814&sprefix=guitars%2Caps%2C131&sr=8-8,REVEL,\"1,792\",7 days Replacement,\"Saturday, 12 August\",In stock\\r\\n9,https://www.amazon.in/Yamaha-F280-Acoustic-Guitar-Natural/dp/B08317Y4VP/ref=sr_1_9?crid=MR0JXX439M2A&keywords=Guitars&qid=1691383814&sprefix=guitars%2Caps%2C131&sr=8-9,YAMAHA,\"7,099\",7 days Replacement,\"Friday, 11 August\",In stock\\r\\n10,https://www.amazon.in/sspa/click?ie=UTF8&spc=MTo2MzIxNDI1NzYxNjc3NDc3OjE2OTEzODM4MTg6c3BfYXRmX25leHQ6MjAwNzgzMzY4ODg3OTg6OjA6Og&url=%2FBlueberry-B-D38-Acoustic-inbuilt-Strings%2Fdp%2FB07PCRZ1CD%2Fref%3Dsr_1_49_sspa%3Fcrid%3DMR0JXX439M2A%26keywords%3DGuitars%26qid%3D1691383818%26sprefix%3Dguitars%252Caps%252C131%26sr%3D8-49-spons%26sp_csd%3Dd2lkZ2V0TmFtZT1zcF9hdGZfbmV4dA%26psc%3D1,Blueberry,\"2,655\",7 days Replacement,\"Friday, 11 August\",In stock\\r\\n11,https://www.amazon.in/sspa/click?ie=UTF8&spc=MTo2MzIxNDI1NzYxNjc3NDc3OjE2OTEzODM4MTg6c3BfYXRmX25leHQ6MzAwMDI3NTUzNTY4MzMyOjowOjo&url=%2FKaps-ST-6-Strings-Acoustic-Right-Handed%2Fdp%2FB01D9OK6NY%2Fref%3Dsr_1_50_sspa%3Fcrid%3DMR0JXX439M2A%26keywords%3DGuitars%26qid%3D1691383818%26sprefix%3Dguitars%252Caps%252C131%26sr%3D8-50-spons%26sp_csd%3Dd2lkZ2V0TmFtZT1zcF9hdGZfbmV4dA%26psc%3D1%26smid%3DA25SDO8DM1FXLU,Kaps,\"7,999\",-,12 - 16 August,Only 1 left in stock\\r\\n12,https://www.amazon.in/sspa/click?ie=UTF8&spc=MTo2MzIxNDI1NzYxNjc3NDc3OjE2OTEzODM4MTg6c3BfYXRmX25leHQ6MjAxMjc5NTUwMDU3OTg6OjA6Og&url=%2FBlueberry-B-40Y-Acoustic-Inbuilt-Strings%2Fdp%2FB07PKQMDK5%2Fref%3Dsr_1_51_sspa%3Fcrid%3DMR0JXX439M2A%26keywords%3DGuitars%26qid%3D1691383818%26sprefix%3Dguitars%252Caps%252C131%26sr%3D8-51-spons%26sp_csd%3Dd2lkZ2V0TmFtZT1zcF9hdGZfbmV4dA%26psc%3D1,Blueberry,\"4,290\",7 days Replacement,\"Friday, 11 August\",In stock\\r\\n13,https://www.amazon.in/sspa/click?ie=UTF8&spc=MTo2MzIxNDI1NzYxNjc3NDc3OjE2OTEzODM4MTg6c3BfYXRmX25leHQ6MjAwNzgzMzY4ODcwOTg6OjA6Og&url=%2FBlueberry-38C-Acoustic-Strings-Natural%2Fdp%2FB08KLNFL2Y%2Fref%3Dsr_1_52_sspa%3Fcrid%3DMR0JXX439M2A%26keywords%3DGuitars%26qid%3D1691383818%26sprefix%3Dguitars%252Caps%252C131%26sr%3D8-52-spons%26sp_csd%3Dd2lkZ2V0TmFtZT1zcF9hdGZfbmV4dA%26psc%3D1,-,-,-,-,-\\r\\n14,https://www.amazon.in/Intern-INT-38C-Acoustic-Guitar-Kit/dp/B073B6TF31/ref=sr_1_53?crid=MR0JXX439M2A&keywords=Guitars&qid=1691383818&sprefix=guitars%2Caps%2C131&sr=8-53,Intern,\"2,099\",7 days Replacement,\"Friday, 11 August\",In stock\\r\\n15,https://www.amazon.in/Intern-INT-38C-Brown-Acoustic-Guitar/dp/B07X2HV158/ref=sr_1_54?crid=MR0JXX439M2A&keywords=Guitars&qid=1691383818&sprefix=guitars%2Caps%2C131&sr=8-54,Intern,\"2,089\",7 days Replacement,\"Wednesday, 9 August\",In stock\\r\\n16,https://www.amazon.in/Acoustic-plectrums-stability-resistance-Electric/dp/B09YH937P2/ref=sr_1_55?crid=MR0JXX439M2A&keywords=Guitars&qid=1691383818&sprefix=guitars%2Caps%2C131&sr=8-55,-,-,-,-,-\\r\\n17,https://www.amazon.in/Yamaha-FS-100C-6-String-Acoustic-without/dp/B00PAS9CK6/ref=sr_1_56?crid=MR0JXX439M2A&keywords=Guitars&qid=1691383818&sprefix=guitars%2Caps%2C131&sr=8-56,YAMAHA,\"9,490\",7 days Replacement,\"Saturday, 12 August\",In stock\\r\\n18,https://www.amazon.in/Rosewood-Fretboard-Acoustic-Strings-K-Retail/dp/B07KLG8C4P/ref=sr_1_57?crid=MR0JXX439M2A&keywords=Guitars&qid=1691383818&sprefix=guitars%2Caps%2C131&sr=8-57,HOVNER,\"4,350\",7 days Replacement,\"Friday, 18 August\",In stock\\r\\n19,https://www.amazon.in/Ultimate-Concert-Cutaway-Acoustic-Bajaao/dp/B08WHWKKV5/ref=sr_1_58?crid=MR0JXX439M2A&keywords=Guitars&qid=1691383818&sprefix=guitars%2Caps%2C131&sr=8-58,YAMAHA,-,-,\"Thursday, 10 August\",Only 1 left in stock\\r\\n20,https://www.amazon.in/sspa/click?ie=UTF8&spc=MTo0NzQxODgxODYyMjMzODc3OjE2OTEzODM4MjE6c3BfYXRmX25leHQ6MjAxMDM1Mjg2NTY3OTg6OjA6Og&url=%2FBlueberry-Acoustic-Inbuilt-Strings-Classic%2Fdp%2FB09VLF7G2D%2Fref%3Dsr_1_97_sspa%3Fcrid%3DMR0JXX439M2A%26keywords%3DGuitars%26qid%3D1691383821%26sprefix%3Dguitars%252Caps%252C131%26sr%3D8-97-spons%26sp_csd%3Dd2lkZ2V0TmFtZT1zcF9hdGZfbmV4dA%26psc%3D1,Blueberry,\"4,795\",7 days Replacement,\"Friday, 11 August\",In stock\\r\\n21,https://www.amazon.in/sspa/click?ie=UTF8&spc=MTo0NzQxODgxODYyMjMzODc3OjE2OTEzODM4MjE6c3BfYXRmX25leHQ6MjAxMTUwNDg4MTE5OTg6OjA6Og&url=%2FTagima-Junior-Inch-Acoustic-Guitar%2Fdp%2FB0BTBWJTGH%2Fref%3Dsr_1_98_sspa%3Fcrid%3DMR0JXX439M2A%26keywords%3DGuitars%26qid%3D1691383821%26sprefix%3Dguitars%252Caps%252C131%26sr%3D8-98-spons%26sp_csd%3Dd2lkZ2V0TmFtZT1zcF9hdGZfbmV4dA%26psc%3D1,MUSTANG,\"1,290\",-,\"Sunday, 13 August\",In stock\\r\\n22,https://www.amazon.in/sspa/click?ie=UTF8&spc=MTo0NzQxODgxODYyMjMzODc3OjE2OTEzODM4MjE6c3BfYXRmX25leHQ6MjAwNzgzMzY4ODkzOTg6OjA6Og&url=%2FBlueberry-Acoustic-Guitar-Inbuilt-Strings%2Fdp%2FB07PHZ16BG%2Fref%3Dsr_1_99_sspa%3Fcrid%3DMR0JXX439M2A%26keywords%3DGuitars%26qid%3D1691383821%26sprefix%3Dguitars%252Caps%252C131%26sr%3D8-99-spons%26sp_csd%3Dd2lkZ2V0TmFtZT1zcF9hdGZfbmV4dA%26psc%3D1,Blueberry,\"2,999\",7 days Replacement,\"Friday, 11 August\",In stock\\r\\n23,https://www.amazon.in/sspa/click?ie=UTF8&spc=MTo0NzQxODgxODYyMjMzODc3OjE2OTEzODM4MjE6c3BfYXRmX25leHQ6MjAwNzgzMzY4ODU5OTg6OjA6Og&url=%2FFestra-R-40-Natural-Acoustic-Guitar-Strings%2Fdp%2FB09VL5DX17%2Fref%3Dsr_1_100_sspa%3Fcrid%3DMR0JXX439M2A%26keywords%3DGuitars%26qid%3D1691383821%26sprefix%3Dguitars%252Caps%252C131%26sr%3D8-100-spons%26sp_csd%3Dd2lkZ2V0TmFtZT1zcF9hdGZfbmV4dA%26psc%3D1,FESTRA,\"4,076\",7 days Replacement,\"Friday, 11 August\",In stock\\r\\n24,https://www.amazon.in/Fender-FA-345CE-Auditorium-Bodied-Acoustic/dp/B07BCN55VP/ref=sr_1_101?crid=MR0JXX439M2A&keywords=Guitars&qid=1691383821&sprefix=guitars%2Caps%2C131&sr=8-101,Fender,-,-,-,-\\r\\n25,https://www.amazon.in/Blueberry-VIP-341-Natural-Acoustic/dp/B0BVVJ8VG5/ref=sr_1_102?crid=MR0JXX439M2A&keywords=Guitars&qid=1691383821&sprefix=guitars%2Caps%2C131&sr=8-102,Blueberry,\"3,290\",7 days Replacement,\"Friday, 11 August\",Only 1 left in stock\\r\\n26,https://www.amazon.in/Juarez-Acoustic-Guitar-Cutaway-JRZ38CT/dp/B01N3TTYJQ/ref=sr_1_103?crid=MR0JXX439M2A&keywords=Guitars&qid=1691383821&sprefix=guitars%2Caps%2C131&sr=8-103,-,-,-,-,-\\r\\n27,https://www.amazon.in/Kadence-Frontier-Acoustic-Sunburst-Strings/dp/B07T5DMPZ3/ref=sr_1_104?crid=MR0JXX439M2A&keywords=Guitars&qid=1691383821&sprefix=guitars%2Caps%2C131&sr=8-104,Kadence,\"5,499\",7 days Replacement,\"Saturday, 12 August\",In stock\\r\\n28,https://www.amazon.in/Yamaha-FSX80C-Acoustic-Cutaway-Guitar/dp/B09HL5WFDX/ref=sr_1_105?crid=MR0JXX439M2A&keywords=Guitars&qid=1691383821&sprefix=guitars%2Caps%2C131&sr=8-105,-,-,-,-,-\\r\\n29,https://www.amazon.in/Intern-INT-38C-VT-G-Guitar-Kit-Violet/dp/B07K8YJXKL/ref=sr_1_106?crid=MR0JXX439M2A&keywords=Guitars&qid=1691383821&sprefix=guitars%2Caps%2C131&sr=8-106,Intern,\"1,979\",7 days Replacement,\"Friday, 11 August\",In stock\\r\\n'"
      ]
     },
     "execution_count": 85,
     "metadata": {},
     "output_type": "execute_result"
    }
   ],
   "source": [
    "# Save to csv\n",
    "df.to_csv()"
   ]
  },
  {
   "cell_type": "markdown",
   "id": "eb4d68bb",
   "metadata": {},
   "source": [
    "# Q3"
   ]
  },
  {
   "cell_type": "code",
   "execution_count": 537,
   "id": "9158c855",
   "metadata": {},
   "outputs": [],
   "source": [
    "\"\"\"Write a python program to access the search bar and search button on images.google.com and scrape 10\n",
    "images each for keywords ‘fruits’, ‘cars’ and ‘Machine Learning’, ‘Guitar’, ‘Cakes’. \n",
    "\"\"\"\n",
    "# Create a Webdriver Object for Chrome Browser\n",
    "service= Service(r\"C:\\Users\\gues\\Desktop\\abdul\\chromedriver-win32\\chromedriver.exe\")\n",
    "driver= webdriver.Chrome(service=service)\n",
    "# Wait for five minutes\n",
    "time.sleep(5)\n"
   ]
  },
  {
   "cell_type": "code",
   "execution_count": 538,
   "id": "aec6c909",
   "metadata": {},
   "outputs": [],
   "source": [
    "driver.get('https://images.google.com/?gws_rd=ssl')"
   ]
  },
  {
   "cell_type": "code",
   "execution_count": 539,
   "id": "f1830c7d",
   "metadata": {},
   "outputs": [],
   "source": [
    "# Find the search button element by its class name\n",
    "Submt_Button=driver.find_element(By.XPATH,'/html/body/div[2]/div[2]/div[3]/span/div/div/div/div[3]/div[1]/button[2]/div')\n",
    "#Click the search button\n",
    "Submt_Button.click()"
   ]
  },
  {
   "cell_type": "code",
   "execution_count": 540,
   "id": "4e25a108",
   "metadata": {},
   "outputs": [],
   "source": [
    "#Wait for 5 second\n",
    "time.sleep(5)\n"
   ]
  },
  {
   "cell_type": "code",
   "execution_count": 541,
   "id": "90502465",
   "metadata": {},
   "outputs": [],
   "source": [
    "# Search for Fruits\n",
    "search_fruit=driver.find_element(By.XPATH,'/html/body/div[1]/div[3]/form/div[1]/div[1]/div[1]/div/div[2]/textarea')\n",
    "search_fruit.send_keys(\"Fruits\")"
   ]
  },
  {
   "cell_type": "code",
   "execution_count": 542,
   "id": "5b9862a2",
   "metadata": {},
   "outputs": [],
   "source": [
    "# Find the search button element and copy the full-XPATH & click\n",
    "search_button=driver.find_element(By.XPATH,'//span[@class=\"z1asCe MZy1Rb\"]')\n",
    "search_button.click()\n"
   ]
  },
  {
   "cell_type": "code",
   "execution_count": 543,
   "id": "c2dcec9b",
   "metadata": {},
   "outputs": [
    {
     "name": "stdout",
     "output_type": "stream",
     "text": [
      "Downloading 0 of 10 images\n",
      "Downloading 1 of 10 images\n",
      "Downloading 2 of 10 images\n",
      "Downloading 3 of 10 images\n",
      "Downloading 4 of 10 images\n",
      "Downloading 5 of 10 images\n",
      "Downloading 6 of 10 images\n",
      "Downloading 7 of 10 images\n",
      "Downloading 8 of 10 images\n",
      "Downloading 9 of 10 images\n",
      "Downloading 10 of 10 images\n"
     ]
    }
   ],
   "source": [
    "# Scroll down 20 times \n",
    "for _ in range(20):\n",
    "    \n",
    "    # Till i get 100 images\n",
    "    driver.execute_script(\"window.scrollBy(0,1000)\")\n",
    "    \n",
    "# image search\n",
    "images=driver.find_elements(By.XPATH,'//img[@class=\"rg_i Q4LuWd\"]')\n",
    "\n",
    "# Innitialize the data to be scrap\n",
    "img_urls=[]\n",
    "img_data=[]\n",
    "\n",
    "# for loop\n",
    "for image in images:\n",
    "    source=image.get_attribute('src')\n",
    "    if source is not None:\n",
    "        if(source[0:4]=='http'):\n",
    "            img_urls.append(source)\n",
    "            \n",
    "            \n",
    "# for loop & Then break = 10\n",
    "for i in range(len(img_urls)):\n",
    "    if i > 10:\n",
    "        break\n",
    "    print('Downloading {0} of {1} images' .format(i, 10))\n",
    "    response=requests.get(img_urls[i])\n",
    "    file=open(r\"C:\\Users\\gues\\Desktop\\PYTHON\"+str(i)+\".jpg\",\"wb\")\n",
    "    file.write(response.content)\n",
    "    \n",
    "    \n",
    "    \n",
    "\n",
    "\n",
    "\n"
   ]
  },
  {
   "cell_type": "markdown",
   "id": "4eeccc34",
   "metadata": {},
   "source": [
    "# Q4"
   ]
  },
  {
   "cell_type": "code",
   "execution_count": 55,
   "id": "36e2cc79",
   "metadata": {},
   "outputs": [],
   "source": [
    "\"\"\"Write a python program to search for a smartphone(e.g.: Oneplus Nord, pixel 4A, etc.) on www.flipkart.com\n",
    "and scrape following details for all the search results displayed on 1st page. Details to be scraped: “Brand\n",
    "Name”, “Smartphone name”, “Colour”, “RAM”, “Storage(ROM)”, “Primary Camera”,\n",
    "“Secondary Camera”, “Display Size”, “Battery Capacity”, “Price”, “Product URL”. Incase if any of the\n",
    "details is missing then replace it by “- “. Save your results in a dataframe and CSV \"\"\"\n",
    "\n",
    "# Create a Webdriver Object for Chrome Browser\n",
    "service= Service(r\"C:\\Users\\gues\\Desktop\\abdul\\chromedriver-win32\\chromedriver.exe\")\n",
    "driver= webdriver.Chrome(service=service)\n",
    "\n",
    "# Wait for five minutes\n",
    "time.sleep(5)\n"
   ]
  },
  {
   "cell_type": "code",
   "execution_count": 56,
   "id": "f35ba4b8",
   "metadata": {},
   "outputs": [],
   "source": [
    "#Browse the page\n",
    "driver.get('https://www.flipkart.com/')\n"
   ]
  },
  {
   "cell_type": "code",
   "execution_count": 57,
   "id": "354b9c52",
   "metadata": {},
   "outputs": [],
   "source": [
    "close_button=driver.find_element(By.XPATH,'//button[@class=\"_2KpZ6l _2doB4z\"]')\n",
    "close_button.click()"
   ]
  },
  {
   "cell_type": "code",
   "execution_count": 58,
   "id": "22d423aa",
   "metadata": {},
   "outputs": [],
   "source": [
    "\n",
    "\n",
    "# Entering the smartphone name in the search box\n",
    "search_box=driver.find_element(By.XPATH,\"//input[@class='_3704LK']\")\n",
    "search_box.send_keys(\"Oneplus Nord\")\n",
    "\n",
    "    "
   ]
  },
  {
   "cell_type": "code",
   "execution_count": 59,
   "id": "d9e065e3",
   "metadata": {},
   "outputs": [],
   "source": [
    "# Click the search Button\n",
    "search_btn=driver.find_element(By.XPATH,\"//button[@class='L0Z3Pu']\")\n",
    "search_btn.click()"
   ]
  },
  {
   "cell_type": "code",
   "execution_count": 60,
   "id": "fd1ea2e4",
   "metadata": {},
   "outputs": [],
   "source": [
    "# Scrap only url\n",
    "product_urls = []\n",
    "time.sleep(5)\n",
    "elements = driver.find_elements(By.XPATH, '//a[@class=\"_1fQZEK\"]')\n",
    "for element in elements[0:10]:\n",
    "    product_urls.append(element.get_attribute(\"href\"))\n",
    "    \n",
    "                         \n",
    "  "
   ]
  },
  {
   "cell_type": "code",
   "execution_count": 61,
   "id": "9fa04af1",
   "metadata": {},
   "outputs": [
    {
     "data": {
      "text/plain": [
       "10"
      ]
     },
     "execution_count": 61,
     "metadata": {},
     "output_type": "execute_result"
    }
   ],
   "source": [
    "len(product_urls)"
   ]
  },
  {
   "cell_type": "code",
   "execution_count": 62,
   "id": "38946a9a",
   "metadata": {},
   "outputs": [],
   "source": [
    "# Creating empty lists to store the scraped data\n",
    "Brand_Names = []\n",
    "Smartphone_Names = []\n",
    "Colours = []\n",
    "Rams_Roms = []\n",
    "Primary_Cameras = []\n",
    "Secondary_Cameras = []\n",
    "Battery_Capacities = []\n",
    "Prices = []\n",
    "Product_urls = []"
   ]
  },
  {
   "cell_type": "code",
   "execution_count": 63,
   "id": "4e416b5c",
   "metadata": {},
   "outputs": [],
   "source": [
    "for url in product_urls:\n",
    "    driver.get(url)\n",
    "    time.sleep(5)\n",
    "    \n",
    "    try:\n",
    "        # Find Brand_Names if not store\"-\"\n",
    "        brand_name=driver.find_elements(By.XPATH,'//li[@class=\"_21lJbe\"]')\n",
    "        for i in brand_name:\n",
    "            Brand_Names.append(i.text)\n",
    "    except NoSuchElementException:\n",
    "        Brand_Names.append(\"-\")\n",
    "    \n",
    "    try:\n",
    "        # Find Smartphone_Names if not store\"-\"\n",
    "        smartphone_names=driver.find_elements(By.XPATH,'//span[@class=\"B_NuCI\"]')\n",
    "        for i in smartphone_names:\n",
    "            Smartphone_Names.append(i.text)\n",
    "    except NoSuchElementException:\n",
    "        Smartphone_Names.append(\"-\")\n",
    "    \n",
    "    try:\n",
    "        # Find Price if not store \"-\"\n",
    "        price=driver.find_elements(By.XPATH,'//div[@class=\"_30jeq3 _16Jk6d\"]')\n",
    "        for i in price:\n",
    "            Prices.append(i.text)\n",
    "    except NoSuchElementException:\n",
    "        Prices.append(\"-\")\n",
    "            \n",
    "    \n",
    "    try:\n",
    "        # Find Colour if not store\"-\"\n",
    "        color=driver.find_elements(By.XPATH,'/html/body/div[1]/div/div[3]/div[1]/div[2]/div[8]/div[4]/div/div[2]/div/div[1]/table/tbody/tr[4]/td[2]/ul/li')\n",
    "        for i in color:\n",
    "            Colours.append(i.text)\n",
    "    except NoSuchElementException:\n",
    "        Colours.append(\"-\")\n",
    "\n",
    "    try:\n",
    "        # Find Rams/Roms if not store \"-\"\n",
    "        rams_roms=driver.find_elements(By.XPATH,'//li[@class=\"_21Ahn-\"]')\n",
    "        for i in rams_roms:\n",
    "            Rams_Roms.append(i.text)\n",
    "    except NoSuchElementException:\n",
    "        Rams_Roms.append(\"-\")\n",
    "        \n",
    "    \n",
    "        \n",
    "        "
   ]
  },
  {
   "cell_type": "code",
   "execution_count": 73,
   "id": "4d18e329",
   "metadata": {},
   "outputs": [
    {
     "name": "stdout",
     "output_type": "stream",
     "text": [
      "10 4 41 10 331 10\n"
     ]
    }
   ],
   "source": [
    "print(len(Smartphone_Names),len( Colours),len(Rams_Roms),len(Prices),len(Brand_Names),len(product_urls))"
   ]
  },
  {
   "cell_type": "code",
   "execution_count": null,
   "id": "f75ece8f",
   "metadata": {},
   "outputs": [],
   "source": [
    "# Assuming you have lists named Smartphone_Names, Colours, Rams_Roms, Prices, Brand_Names, and product_urls\n",
    "min_length = min(len(Smartphone_Names), len(Colours), len(Rams_Roms), len(Prices), len(Brand_Names), len(product_urls))\n",
    "\n",
    "data={'SMARTPHONE': Smartphone_Names[:min_length],\n",
    "    'COLOUR': Colours[:min_length],\n",
    "    'RAMS_ROMS': Rams_Roms[:min_length],\n",
    "    'PRICE': Prices[:min_length],\n",
    "    'BRAND': Brand_Names[:min_length],\n",
    "    'URLS': product_urls[:min_length]}"
   ]
  },
  {
   "cell_type": "code",
   "execution_count": 98,
   "id": "04781a10",
   "metadata": {},
   "outputs": [
    {
     "data": {
      "text/html": [
       "<div>\n",
       "<style scoped>\n",
       "    .dataframe tbody tr th:only-of-type {\n",
       "        vertical-align: middle;\n",
       "    }\n",
       "\n",
       "    .dataframe tbody tr th {\n",
       "        vertical-align: top;\n",
       "    }\n",
       "\n",
       "    .dataframe thead th {\n",
       "        text-align: right;\n",
       "    }\n",
       "</style>\n",
       "<table border=\"1\" class=\"dataframe\">\n",
       "  <thead>\n",
       "    <tr style=\"text-align: right;\">\n",
       "      <th></th>\n",
       "      <th>SMARTPHONE</th>\n",
       "      <th>COLOUR</th>\n",
       "      <th>RAMS_ROMS</th>\n",
       "      <th>PRICE</th>\n",
       "      <th>BRAND</th>\n",
       "      <th>URLS</th>\n",
       "    </tr>\n",
       "  </thead>\n",
       "  <tbody>\n",
       "    <tr>\n",
       "      <th>0</th>\n",
       "      <td>OnePlus Nord CE 2 Lite 5G (Blue Tide, 128 GB) ...</td>\n",
       "      <td>Blue Tide</td>\n",
       "      <td>6 GB RAM | 128 GB ROM</td>\n",
       "      <td>₹17,770</td>\n",
       "      <td>Phone,SIM Tray Ejector, Adapter, Phone Case, U...</td>\n",
       "      <td>https://www.flipkart.com/oneplus-nord-ce-2-lit...</td>\n",
       "    </tr>\n",
       "    <tr>\n",
       "      <th>1</th>\n",
       "      <td>OnePlus Nord 3 5G (Misty Green, 256 GB)  (16 G...</td>\n",
       "      <td>Misty Green</td>\n",
       "      <td>16.74 cm (6.59 inch) Display</td>\n",
       "      <td>₹37,458</td>\n",
       "      <td>CPH2381</td>\n",
       "      <td>https://www.flipkart.com/oneplus-nord-3-5g-mis...</td>\n",
       "    </tr>\n",
       "    <tr>\n",
       "      <th>2</th>\n",
       "      <td>OnePlus Nord CE 2 Lite 5G (Black Dusk, 128 GB)...</td>\n",
       "      <td>Tempest Gray</td>\n",
       "      <td>64MP Rear Camera | 16MP Front Camera</td>\n",
       "      <td>₹17,695</td>\n",
       "      <td>Nord CE 2 Lite 5G</td>\n",
       "      <td>https://www.flipkart.com/oneplus-nord-ce-2-lit...</td>\n",
       "    </tr>\n",
       "    <tr>\n",
       "      <th>3</th>\n",
       "      <td>OnePlus Nord 2T 5G (Gray Shadow, 128 GB)  (8 G...</td>\n",
       "      <td>Blue Tide</td>\n",
       "      <td>5000 mAh Battery</td>\n",
       "      <td>₹28,999</td>\n",
       "      <td>Blue Tide</td>\n",
       "      <td>https://www.flipkart.com/oneplus-nord-2t-5g-gr...</td>\n",
       "    </tr>\n",
       "  </tbody>\n",
       "</table>\n",
       "</div>"
      ],
      "text/plain": [
       "                                          SMARTPHONE        COLOUR  \\\n",
       "0  OnePlus Nord CE 2 Lite 5G (Blue Tide, 128 GB) ...     Blue Tide   \n",
       "1  OnePlus Nord 3 5G (Misty Green, 256 GB)  (16 G...   Misty Green   \n",
       "2  OnePlus Nord CE 2 Lite 5G (Black Dusk, 128 GB)...  Tempest Gray   \n",
       "3  OnePlus Nord 2T 5G (Gray Shadow, 128 GB)  (8 G...     Blue Tide   \n",
       "\n",
       "                              RAMS_ROMS    PRICE  \\\n",
       "0                 6 GB RAM | 128 GB ROM  ₹17,770   \n",
       "1          16.74 cm (6.59 inch) Display  ₹37,458   \n",
       "2  64MP Rear Camera | 16MP Front Camera  ₹17,695   \n",
       "3                      5000 mAh Battery  ₹28,999   \n",
       "\n",
       "                                               BRAND  \\\n",
       "0  Phone,SIM Tray Ejector, Adapter, Phone Case, U...   \n",
       "1                                            CPH2381   \n",
       "2                                  Nord CE 2 Lite 5G   \n",
       "3                                          Blue Tide   \n",
       "\n",
       "                                                URLS  \n",
       "0  https://www.flipkart.com/oneplus-nord-ce-2-lit...  \n",
       "1  https://www.flipkart.com/oneplus-nord-3-5g-mis...  \n",
       "2  https://www.flipkart.com/oneplus-nord-ce-2-lit...  \n",
       "3  https://www.flipkart.com/oneplus-nord-2t-5g-gr...  "
      ]
     },
     "execution_count": 98,
     "metadata": {},
     "output_type": "execute_result"
    }
   ],
   "source": [
    "\n",
    "Oneplus_Nord = pd.DataFrame(data)\n",
    "Oneplus_Nord\n",
    "\n"
   ]
  },
  {
   "cell_type": "code",
   "execution_count": 100,
   "id": "ec9ad006",
   "metadata": {},
   "outputs": [
    {
     "data": {
      "text/plain": [
       "',SMARTPHONE,COLOUR,RAMS_ROMS,PRICE,BRAND,URLS\\r\\n0,\"OnePlus Nord CE 2 Lite 5G (Blue Tide, 128 GB)  (6 GB RAM)\",Blue Tide,6 GB RAM | 128 GB ROM,\"₹17,770\",\"Phone,SIM Tray Ejector, Adapter, Phone Case, USB Cable\",https://www.flipkart.com/oneplus-nord-ce-2-lite-5g-blue-tide-128-gb/p/itm7acae55b999e6?pid=MOBGMFREBAHZQGY9&lid=LSTMOBGMFREBAHZQGY9KFYBUN&marketplace=FLIPKART&q=Oneplus+Nord&store=tyy%2F4io&spotlightTagId=BestsellerId_tyy%2F4io&srno=s_1_1&otracker=search&otracker1=search&fm=Search&iid=cb1d6c87-cd50-44f0-a0bd-3030d88737fd.MOBGMFREBAHZQGY9.SEARCH&ppt=sp&ppn=sp&ssid=x6oj86ocm80000001691703049594&qH=53863d4d978d5074\\r\\n1,\"OnePlus Nord 3 5G (Misty Green, 256 GB)  (16 GB RAM)\",Misty Green,16.74 cm (6.59 inch) Display,\"₹37,458\",CPH2381,https://www.flipkart.com/oneplus-nord-3-5g-misty-green-256-gb/p/itm5fc87afce35dc?pid=MOBGRK3284RMGYSX&lid=LSTMOBGRK3284RMGYSXSD8ATI&marketplace=FLIPKART&q=Oneplus+Nord&store=tyy%2F4io&srno=s_1_2&otracker=search&otracker1=search&fm=organic&iid=cb1d6c87-cd50-44f0-a0bd-3030d88737fd.MOBGRK3284RMGYSX.SEARCH&ppt=hp&ppn=homepage&ssid=x6oj86ocm80000001691703049594&qH=53863d4d978d5074\\r\\n2,\"OnePlus Nord CE 2 Lite 5G (Black Dusk, 128 GB)  (6 GB RAM)\",Tempest Gray,64MP Rear Camera | 16MP Front Camera,\"₹17,695\",Nord CE 2 Lite 5G,https://www.flipkart.com/oneplus-nord-ce-2-lite-5g-black-dusk-128-gb/p/itm537fc2aa73747?pid=MOBGHBZHB7YJT5HF&lid=LSTMOBGHBZHB7YJT5HF0MNSUY&marketplace=FLIPKART&q=Oneplus+Nord&store=tyy%2F4io&srno=s_1_3&otracker=search&otracker1=search&fm=organic&iid=cb1d6c87-cd50-44f0-a0bd-3030d88737fd.MOBGHBZHB7YJT5HF.SEARCH&ppt=hp&ppn=homepage&ssid=x6oj86ocm80000001691703049594&qH=53863d4d978d5074\\r\\n3,\"OnePlus Nord 2T 5G (Gray Shadow, 128 GB)  (8 GB RAM)\",Blue Tide,5000 mAh Battery,\"₹28,999\",Blue Tide,https://www.flipkart.com/oneplus-nord-2t-5g-gray-shadow-128-gb/p/itm09f5278e2a599?pid=MOBGNQHZG3HBMRDW&lid=LSTMOBGNQHZG3HBMRDWAXB2FL&marketplace=FLIPKART&q=Oneplus+Nord&store=tyy%2F4io&srno=s_1_4&otracker=search&otracker1=search&fm=organic&iid=cb1d6c87-cd50-44f0-a0bd-3030d88737fd.MOBGNQHZG3HBMRDW.SEARCH&ppt=hp&ppn=homepage&ssid=x6oj86ocm80000001691703049594&qH=53863d4d978d5074\\r\\n'"
      ]
     },
     "execution_count": 100,
     "metadata": {},
     "output_type": "execute_result"
    }
   ],
   "source": [
    "Oneplus_Nord.to_csv()"
   ]
  },
  {
   "cell_type": "markdown",
   "id": "cadb6e0f",
   "metadata": {},
   "source": [
    "# Q5"
   ]
  },
  {
   "cell_type": "code",
   "execution_count": 287,
   "id": "1af7b8c3",
   "metadata": {},
   "outputs": [],
   "source": [
    "'Write a program to scrap geospatial coordinates (latitude, longitude) of a city searched on google maps. '\n",
    "# Create a Webdriver Object for Chrome Browser\n",
    "service= Service(r\"C:\\Users\\gues\\Desktop\\abdul\\chromedriver-win32\\chromedriver.exe\")\n",
    "driver= webdriver.Chrome(service=service)\n",
    "\n",
    "# Import rerular Expression\n",
    "import re\n",
    "# Wait for five minutes\n",
    "time.sleep(5)"
   ]
  },
  {
   "cell_type": "code",
   "execution_count": 288,
   "id": "07aaf903",
   "metadata": {},
   "outputs": [],
   "source": [
    "# Search the location on Googlemap\n",
    "driver.get('https://www.google.com/maps/@54.5865051,-5.9027648,14z?entry=ttu')"
   ]
  },
  {
   "cell_type": "code",
   "execution_count": 289,
   "id": "fc239c6c",
   "metadata": {},
   "outputs": [],
   "source": [
    "AcceptAll=driver.find_element(By.XPATH,'/html/body/c-wiz/div/div/div/div[2]/div[1]/div[3]/div[1]/div[1]/form[1]/div/div/button/span')\n",
    "AcceptAll.click() "
   ]
  },
  {
   "cell_type": "code",
   "execution_count": 290,
   "id": "41429db5",
   "metadata": {},
   "outputs": [
    {
     "name": "stdout",
     "output_type": "stream",
     "text": [
      "Extracted url: https://www.google.com/maps/@54.5865051,-5.9027648,14z?entry=ttu\n"
     ]
    }
   ],
   "source": [
    "\n",
    "    # Get the current URL\n",
    "    url_string = driver.current_url\n",
    "    print(\"Extracted url:\", url_string)\n",
    "    match = re.search(r\"@(-?\\d+.\\d+),(-?\\d+.\\d+)\",url_string) \n"
   ]
  },
  {
   "cell_type": "code",
   "execution_count": 291,
   "id": "0f6bd2c9",
   "metadata": {},
   "outputs": [],
   "source": [
    "# if a match is found, store the match in a variable\n",
    "if match:\n",
    "    latitude=match.group(1)\n",
    "    longitude=match.group(2)"
   ]
  },
  {
   "cell_type": "code",
   "execution_count": 295,
   "id": "6e7f1c39",
   "metadata": {},
   "outputs": [
    {
     "name": "stdout",
     "output_type": "stream",
     "text": [
      "Latitude:54.5865051\n",
      "longitude:-5.9027648\n"
     ]
    }
   ],
   "source": [
    "# Print out the \n",
    "print(f\"Latitude:{latitude}\")\n",
    "print(f\"longitude:{longitude}\")"
   ]
  },
  {
   "cell_type": "markdown",
   "id": "f45bab91",
   "metadata": {},
   "source": [
    "# Q6"
   ]
  },
  {
   "cell_type": "code",
   "execution_count": 373,
   "id": "221d5292",
   "metadata": {},
   "outputs": [],
   "source": [
    "\"\"\"Write a program to scrap all the available details of best gaming laptops from digit.in.\"\"\"\n",
    "\n",
    "#Create a Webdriver Object for Chrome Browser\n",
    "service= Service(r\"C:\\Users\\gues\\Desktop\\abdul\\chromedriver-win32\\chromedriver.exe\")\n",
    "driver= webdriver.Chrome(service=service)\n",
    "\n",
    "# Browse the digit.in\n",
    "driver.get('https://www.digit.in/')"
   ]
  },
  {
   "cell_type": "code",
   "execution_count": 374,
   "id": "68d8755e",
   "metadata": {},
   "outputs": [],
   "source": [
    "open_laptop=driver.find_element(By.XPATH,'/html/body/div[2]/div/ul/li[2]/span')\n",
    "open_laptop.click()\n"
   ]
  },
  {
   "cell_type": "code",
   "execution_count": 375,
   "id": "d5faa766",
   "metadata": {},
   "outputs": [],
   "source": [
    "best=driver.find_element(By.XPATH,'/html/body/div[2]/div/ul/li[2]/div[2]/div/div[1]/span[4]/strong')\n",
    "best.click()\n"
   ]
  },
  {
   "cell_type": "code",
   "execution_count": 376,
   "id": "27dade9f",
   "metadata": {},
   "outputs": [],
   "source": [
    "Best_gaming_laptop_in_india=driver.find_element(By.XPATH,'/html/body/div[2]/div/ul/li[2]/div[2]/div/div[5]/div/div[2]/a/span')\n",
    "Best_gaming_laptop_in_india.click()\n"
   ]
  },
  {
   "cell_type": "code",
   "execution_count": 377,
   "id": "74705242",
   "metadata": {},
   "outputs": [],
   "source": [
    "\n",
    "#MORE SPECIFICATIONS\n",
    "Name=[]\n",
    "Price=[]\n"
   ]
  },
  {
   "cell_type": "code",
   "execution_count": 378,
   "id": "1e111d4f",
   "metadata": {},
   "outputs": [],
   "source": [
    "# For loop \n",
    "name=driver.find_elements(By.XPATH,'//span[@class=\"datahreflink\"]')\n",
    "for i in name[0:7]:\n",
    "     Name.append(i.text)\n",
    "        \n"
   ]
  },
  {
   "cell_type": "code",
   "execution_count": 379,
   "id": "475cdfb1",
   "metadata": {},
   "outputs": [
    {
     "data": {
      "text/plain": [
       "7"
      ]
     },
     "execution_count": 379,
     "metadata": {},
     "output_type": "execute_result"
    }
   ],
   "source": [
    "len(Name)"
   ]
  },
  {
   "cell_type": "code",
   "execution_count": 380,
   "id": "a9600f4e",
   "metadata": {},
   "outputs": [],
   "source": [
    "price=driver.find_elements(By.XPATH,'//div[@class=\"Spcs-details\"]//table//tbody//tr[8]//td[3]')\n",
    "for i in price[0:7]:\n",
    "    Price.append(i.text)\n",
    "       "
   ]
  },
  {
   "cell_type": "code",
   "execution_count": 381,
   "id": "04c4cbe6",
   "metadata": {},
   "outputs": [
    {
     "data": {
      "text/plain": [
       "7"
      ]
     },
     "execution_count": 381,
     "metadata": {},
     "output_type": "execute_result"
    }
   ],
   "source": [
    "len(Price)"
   ]
  },
  {
   "cell_type": "code",
   "execution_count": 384,
   "id": "a217ed09",
   "metadata": {},
   "outputs": [
    {
     "data": {
      "text/html": [
       "<div>\n",
       "<style scoped>\n",
       "    .dataframe tbody tr th:only-of-type {\n",
       "        vertical-align: middle;\n",
       "    }\n",
       "\n",
       "    .dataframe tbody tr th {\n",
       "        vertical-align: top;\n",
       "    }\n",
       "\n",
       "    .dataframe thead th {\n",
       "        text-align: right;\n",
       "    }\n",
       "</style>\n",
       "<table border=\"1\" class=\"dataframe\">\n",
       "  <thead>\n",
       "    <tr style=\"text-align: right;\">\n",
       "      <th></th>\n",
       "      <th>NAME</th>\n",
       "      <th>PRICE</th>\n",
       "    </tr>\n",
       "  </thead>\n",
       "  <tbody>\n",
       "    <tr>\n",
       "      <th>0</th>\n",
       "      <td>HP OMEN 17 (2023)</td>\n",
       "      <td>₹ 269,777</td>\n",
       "    </tr>\n",
       "    <tr>\n",
       "      <th>1</th>\n",
       "      <td>MSI Titan GT77 12UHS</td>\n",
       "      <td>₹ 499,990</td>\n",
       "    </tr>\n",
       "    <tr>\n",
       "      <th>2</th>\n",
       "      <td>Lenovo Legion 5i Pro</td>\n",
       "      <td>₹ 179,990</td>\n",
       "    </tr>\n",
       "    <tr>\n",
       "      <th>3</th>\n",
       "      <td>ASUS ROG Strix Scar 18 2023</td>\n",
       "      <td>₹ 279,990</td>\n",
       "    </tr>\n",
       "    <tr>\n",
       "      <th>4</th>\n",
       "      <td>Acer Predator Helios Neo 16</td>\n",
       "      <td>₹ 149,990</td>\n",
       "    </tr>\n",
       "    <tr>\n",
       "      <th>5</th>\n",
       "      <td>ASUS ROG Zephyrus G14</td>\n",
       "      <td>₹ 156,990</td>\n",
       "    </tr>\n",
       "    <tr>\n",
       "      <th>6</th>\n",
       "      <td>MSI Cyborg 15</td>\n",
       "      <td>₹ 125,000</td>\n",
       "    </tr>\n",
       "  </tbody>\n",
       "</table>\n",
       "</div>"
      ],
      "text/plain": [
       "                          NAME      PRICE\n",
       "0            HP OMEN 17 (2023)  ₹ 269,777\n",
       "1         MSI Titan GT77 12UHS  ₹ 499,990\n",
       "2         Lenovo Legion 5i Pro  ₹ 179,990\n",
       "3  ASUS ROG Strix Scar 18 2023  ₹ 279,990\n",
       "4  Acer Predator Helios Neo 16  ₹ 149,990\n",
       "5        ASUS ROG Zephyrus G14  ₹ 156,990\n",
       "6                MSI Cyborg 15  ₹ 125,000"
      ]
     },
     "execution_count": 384,
     "metadata": {},
     "output_type": "execute_result"
    }
   ],
   "source": [
    "df=pd.DataFrame({'NAME':Name,'PRICE':Price})\n",
    "df\n",
    "       "
   ]
  },
  {
   "cell_type": "code",
   "execution_count": 385,
   "id": "892b7dd1",
   "metadata": {},
   "outputs": [
    {
     "data": {
      "text/plain": [
       "',NAME,PRICE\\r\\n0,HP OMEN 17 (2023),\"₹ 269,777\"\\r\\n1,MSI Titan GT77 12UHS,\"₹ 499,990\"\\r\\n2,Lenovo Legion 5i Pro,\"₹ 179,990\"\\r\\n3,ASUS ROG Strix Scar 18 2023,\"₹ 279,990\"\\r\\n4,Acer Predator Helios Neo 16,\"₹ 149,990\"\\r\\n5,ASUS ROG Zephyrus G14,\"₹ 156,990\"\\r\\n6,MSI Cyborg 15,\"₹ 125,000\"\\r\\n'"
      ]
     },
     "execution_count": 385,
     "metadata": {},
     "output_type": "execute_result"
    }
   ],
   "source": [
    "df.to_csv()"
   ]
  },
  {
   "cell_type": "markdown",
   "id": "d8b40050",
   "metadata": {},
   "source": [
    "# Q7"
   ]
  },
  {
   "cell_type": "code",
   "execution_count": 564,
   "id": "6e917476",
   "metadata": {},
   "outputs": [],
   "source": [
    "\"\"\"Write a python program to scrape the details for all billionaires from www.forbes.com. Details to be scrapped:\n",
    "“Rank”, “Name”, “Net worth”, “Age”, “Citizenship”, “Source”, “Industry”\"\"\"\n",
    "#Create a Webdriver Object for Chrome Browser\n",
    "service= Service(r\"C:\\Users\\gues\\Desktop\\abdul\\chromedriver-win32\\chromedriver.exe\")\n",
    "driver= webdriver.Chrome(service=service)\n",
    "driver.get('https://www.forbes.com/billionaires/ ')\n",
    "time.sleep(5)"
   ]
  },
  {
   "cell_type": "code",
   "execution_count": 565,
   "id": "531a9e86",
   "metadata": {},
   "outputs": [],
   "source": [
    "closebanner=driver.find_element(By.XPATH,'//button[@class=\"root__OblK1 root__lVmOp closeButton__SQejO\"]')\n",
    "closebanner.click()\n",
    "time.sleep(5)"
   ]
  },
  {
   "cell_type": "code",
   "execution_count": 566,
   "id": "10066515",
   "metadata": {},
   "outputs": [],
   "source": [
    "# BILLIONAIRES Detail \n",
    "NAME=[]\n",
    "RANK=[]\n",
    "NET_WORTH=[]\n",
    "AGE=[]\n",
    "CITIZENSHIP=[]\n",
    "SOURCE=[]\n",
    "INDUSTRY=[]"
   ]
  },
  {
   "cell_type": "code",
   "execution_count": 567,
   "id": "fc52c6e0",
   "metadata": {},
   "outputs": [],
   "source": [
    "networth=driver.find_elements(By.XPATH,'//div[@class=\"Table_netWorth___L4R5 Table_dataCell__2QCve\"]')\n",
    "for i in networth[0:130]:\n",
    "    NET_WORTH.append(i.text)\n",
    "\n",
    "rank=driver.find_elements(By.XPATH,'//div[@class=\"Table_rank___YBhk Table_dataCell__2QCve\"]')\n",
    "for i in rank[0:130]:\n",
    "    RANK.append(i.text)\n",
    "    \n",
    "name=driver.find_elements(By.XPATH,'//div[@class=\"TableRow_row__L-0Km\"]//div[2]')\n",
    "for i in name[0:130]:\n",
    "    NAME.append(i.text)\n"
   ]
  },
  {
   "cell_type": "code",
   "execution_count": 570,
   "id": "0f32be58",
   "metadata": {},
   "outputs": [
    {
     "name": "stdout",
     "output_type": "stream",
     "text": [
      "130 130 130\n"
     ]
    }
   ],
   "source": [
    "print(len(RANK),len(NAME),len(NET_WORTH))"
   ]
  },
  {
   "cell_type": "code",
   "execution_count": 572,
   "id": "c2c50eee",
   "metadata": {},
   "outputs": [
    {
     "data": {
      "text/html": [
       "<div>\n",
       "<style scoped>\n",
       "    .dataframe tbody tr th:only-of-type {\n",
       "        vertical-align: middle;\n",
       "    }\n",
       "\n",
       "    .dataframe tbody tr th {\n",
       "        vertical-align: top;\n",
       "    }\n",
       "\n",
       "    .dataframe thead th {\n",
       "        text-align: right;\n",
       "    }\n",
       "</style>\n",
       "<table border=\"1\" class=\"dataframe\">\n",
       "  <thead>\n",
       "    <tr style=\"text-align: right;\">\n",
       "      <th></th>\n",
       "      <th>RANK</th>\n",
       "      <th>NAME</th>\n",
       "      <th>NET_WORTH</th>\n",
       "    </tr>\n",
       "  </thead>\n",
       "  <tbody>\n",
       "    <tr>\n",
       "      <th>0</th>\n",
       "      <td>1</td>\n",
       "      <td>Elon Musk</td>\n",
       "      <td>$211 B</td>\n",
       "    </tr>\n",
       "    <tr>\n",
       "      <th>1</th>\n",
       "      <td>2</td>\n",
       "      <td>Jeff Bezos</td>\n",
       "      <td>$180 B</td>\n",
       "    </tr>\n",
       "    <tr>\n",
       "      <th>2</th>\n",
       "      <td>3</td>\n",
       "      <td>Larry Ellison</td>\n",
       "      <td>$114 B</td>\n",
       "    </tr>\n",
       "    <tr>\n",
       "      <th>3</th>\n",
       "      <td>4</td>\n",
       "      <td>Warren Buffett</td>\n",
       "      <td>$107 B</td>\n",
       "    </tr>\n",
       "    <tr>\n",
       "      <th>4</th>\n",
       "      <td>5</td>\n",
       "      <td>Bill Gates</td>\n",
       "      <td>$106 B</td>\n",
       "    </tr>\n",
       "    <tr>\n",
       "      <th>...</th>\n",
       "      <td>...</td>\n",
       "      <td>...</td>\n",
       "      <td>...</td>\n",
       "    </tr>\n",
       "    <tr>\n",
       "      <th>125</th>\n",
       "      <td>126</td>\n",
       "      <td>Idan Ofer</td>\n",
       "      <td>$14.1 B</td>\n",
       "    </tr>\n",
       "    <tr>\n",
       "      <th>126</th>\n",
       "      <td>127</td>\n",
       "      <td>Chen Bang</td>\n",
       "      <td>$14 B</td>\n",
       "    </tr>\n",
       "    <tr>\n",
       "      <th>127</th>\n",
       "      <td>128</td>\n",
       "      <td>Lui Che Woo</td>\n",
       "      <td>$13.9 B</td>\n",
       "    </tr>\n",
       "    <tr>\n",
       "      <th>128</th>\n",
       "      <td>128</td>\n",
       "      <td>John Fredriksen</td>\n",
       "      <td>$13.9 B</td>\n",
       "    </tr>\n",
       "    <tr>\n",
       "      <th>129</th>\n",
       "      <td>130</td>\n",
       "      <td>Diane Hendricks</td>\n",
       "      <td>$13.7 B</td>\n",
       "    </tr>\n",
       "  </tbody>\n",
       "</table>\n",
       "<p>130 rows × 3 columns</p>\n",
       "</div>"
      ],
      "text/plain": [
       "    RANK             NAME NET_WORTH\n",
       "0      1        Elon Musk    $211 B\n",
       "1      2       Jeff Bezos    $180 B\n",
       "2      3    Larry Ellison    $114 B\n",
       "3      4   Warren Buffett    $107 B\n",
       "4      5       Bill Gates    $106 B\n",
       "..   ...              ...       ...\n",
       "125  126        Idan Ofer   $14.1 B\n",
       "126  127        Chen Bang     $14 B\n",
       "127  128      Lui Che Woo   $13.9 B\n",
       "128  128  John Fredriksen   $13.9 B\n",
       "129  130  Diane Hendricks   $13.7 B\n",
       "\n",
       "[130 rows x 3 columns]"
      ]
     },
     "execution_count": 572,
     "metadata": {},
     "output_type": "execute_result"
    }
   ],
   "source": [
    "df=pd.DataFrame({'RANK':RANK,'NAME':NAME,'NET_WORTH':NET_WORTH})\n",
    "df"
   ]
  },
  {
   "cell_type": "code",
   "execution_count": 573,
   "id": "fd9b51b4",
   "metadata": {},
   "outputs": [
    {
     "data": {
      "text/plain": [
       "',RANK,NAME,NET_WORTH\\r\\n0,1,Elon Musk,$211 B\\r\\n1,2,Jeff Bezos,$180 B\\r\\n2,3,Larry Ellison,$114 B\\r\\n3,4,Warren Buffett,$107 B\\r\\n4,5,Bill Gates,$106 B\\r\\n5,6,Michael Bloomberg,$104 B\\r\\n6,7,Carlos Slim Helu & family,$94.5 B\\r\\n7,8,Mukesh Ambani,$93 B\\r\\n8,9,Steve Ballmer,$83.4 B\\r\\n9,10,Francoise Bettencourt Meyers & family,$80.7 B\\r\\n10,11,Larry Page,$80.5 B\\r\\n11,12,Amancio Ortega,$79.2 B\\r\\n12,13,Sergey Brin,$77.3 B\\r\\n13,14,Zhong Shanshan,$76 B\\r\\n14,15,Mark Zuckerberg,$68 B\\r\\n15,16,Charles Koch,$64.4 B\\r\\n16,17,Julia Koch & family,$59 B\\r\\n17,17,Jim Walton,$59 B\\r\\n18,19,Rob Walton,$58.8 B\\r\\n19,20,Alice Walton,$57.6 B\\r\\n20,21,David Thomson & family,$56.7 B\\r\\n21,22,Michael Dell,$54.4 B\\r\\n22,23,Gautam Adani,$50.1 B\\r\\n23,24,Phil Knight & family,$47.2 B\\r\\n24,25,Zhang Yiming,$45.1 B\\r\\n25,26,Dieter Schwarz,$45 B\\r\\n26,27,François Pinault & family,$42.9 B\\r\\n27,28,Klaus-Michael Kuehne,$40.1 B\\r\\n28,29,Giovanni Ferrero,$39.1 B\\r\\n29,30,Jacqueline Mars,$38.9 B\\r\\n30,31,John Mars,$38.3 B\\r\\n31,31,Li Ka-shing,$38.3 B\\r\\n32,33,Ma Huateng,$38 B\\r\\n33,34,Miriam Adelson & family,$35.3 B\\r\\n34,35,Ken Griffin,$35 B\\r\\n35,35,Mark Mateschitz,$35 B\\r\\n36,37,Robin Zeng,$34.7 B\\r\\n37,38,Tadashi Yanai & family,$33.4 B\\r\\n38,39,Len Blavatnik,$32.6 B\\r\\n39,40,Alain Wertheimer,$32.1 B\\r\\n40,41,Gerard Wertheimer,$31.6 B\\r\\n41,41,Gianluigi Aponte,$31.6 B\\r\\n42,43,Rafaela Aponte-Diamant,$31.2 B\\r\\n43,43,Colin Zheng Huang,$31.2 B\\r\\n44,45,Reinhold Wuerth & family,$30.2 B\\r\\n45,46,Lee Shau Kee,$29.7 B\\r\\n46,47,Jeff Yass,$29.5 B\\r\\n47,48,Jim Simons,$28.5 B\\r\\n48,49,Stephen Schwarzman,$28.1 B\\r\\n49,50,Susanne Klatten,$27.8 B\\r\\n50,51,Gina Rinehart,$27.4 B\\r\\n51,52,William Lei Ding,$27 B\\r\\n52,53,Germán Larrea Mota Velasco & family,$26.7 B\\r\\n53,54,Shiv Nadar,$26.6 B\\r\\n54,55,Low Tuck Kwong,$25.6 B\\r\\n55,56,Thomas Peterffy,$25.5 B\\r\\n56,57,Andrey Melnichenko & family,$25.3 B\\r\\n57,58,Stefan Quandt,$25.2 B\\r\\n58,59,MacKenzie Scott,$24.6 B\\r\\n59,60,R. Budi Hartono,$24.4 B\\r\\n60,61,Vladimir Potanin,$24.2 B\\r\\n61,62,Jack Ma,$23.7 B\\r\\n62,63,He Xiangjian & family,$23.5 B\\r\\n63,64,Iris Fontbona & family,$23.4 B\\r\\n64,65,Michael Hartono,$23.1 B\\r\\n65,65,James Ratcliffe,$23.1 B\\r\\n66,67,Cyrus Poonawalla,$22.9 B\\r\\n67,68,Masayoshi Son,$22.6 B\\r\\n68,69,Vladimir Lisin,$22.4 B\\r\\n69,70,Emmanuel Besnier,$22.1 B\\r\\n70,71,Abigail Johnson,$22 B\\r\\n71,72,Leonid Mikhelson & family,$21.6 B\\r\\n72,72,Lukas Walton,$21.6 B\\r\\n73,74,Wang Wei,$21.2 B\\r\\n74,74,Jensen Huang,$21.2 B\\r\\n75,76,Leonard Lauder,$21.1 B\\r\\n76,77,Takemitsu Takizaki,$21 B\\r\\n77,77,Alexey Mordashov & family,$21 B\\r\\n78,79,Vagit Alekperov,$20.9 B\\r\\n79,80,\"Thomas Frist, Jr. & family\",$20.5 B\\r\\n80,81,Andrew Forrest,$20.2 B\\r\\n81,82,Ray Dalio,$19.6 B\\r\\n82,83,Li Eric,$19.1 B\\r\\n83,84,Wang Wenyin,$19 B\\r\\n84,84,Eyal Ofer,$19 B\\r\\n85,86,Qin Yinglin,$18.9 B\\r\\n86,86,Wang Chuanfu,$18.9 B\\r\\n87,88,Harold Hamm & family,$18.7 B\\r\\n88,89,David Tepper,$18.5 B\\r\\n89,89,Gennady Timchenko,$18.5 B\\r\\n90,89,Daniel Gilbert,$18.5 B\\r\\n91,92,Lakshmi Mittal,$18 B\\r\\n92,93,Steve Cohen,$17.7 B\\r\\n93,94,Carl Icahn,$17.5 B\\r\\n94,94,Savitri Jindal & family,$17.5 B\\r\\n95,94,Donald Bren,$17.5 B\\r\\n96,97,\"John Menard, Jr.\",$17.4 B\\r\\n97,97,Rupert Murdoch & family,$17.4 B\\r\\n98,99,Vicky Safra & family,$17.1 B\\r\\n99,100,\"Theo Albrecht, Jr. & family\",$16.7 B\\r\\n100,101,Renata Kellnerova & family,$16.5 B\\r\\n101,101,Li Xiting,$16.5 B\\r\\n102,103,Stefan Persson,$16.3 B\\r\\n103,104,Eric Schmidt,$16.2 B\\r\\n104,104,Michael Platt,$16.2 B\\r\\n105,106,Pang Kang,$16 B\\r\\n106,107,Karl Albrecht Jr. & family,$15.9 B\\r\\n107,108,Beate Heister,$15.8 B\\r\\n108,108,Jorge Paulo Lemann & family,$15.8 B\\r\\n109,108,Peter Woo,$15.8 B\\r\\n110,108,Dilip Shanghvi,$15.8 B\\r\\n111,112,Robert Pera,$15.6 B\\r\\n112,113,Radhakishan Damani,$15.5 B\\r\\n113,114,Huang Shilin,$15.3 B\\r\\n114,115,Dhanin Chearavanont,$15.2 B\\r\\n115,116,David Green & family,$14.9 B\\r\\n116,116,Charoen Sirivadhanabhakdi,$14.9 B\\r\\n117,118,Charlene de Carvalho-Heineken & family,$14.8 B\\r\\n118,119,Xu Hang,$14.7 B\\r\\n119,120,Wei Jianjun & family,$14.6 B\\r\\n120,121,Alisher Usmanov,$14.5 B\\r\\n121,122,Goh Cheng Liang,$14.4 B\\r\\n122,123,Kumar Birla,$14.3 B\\r\\n123,124,Aliko Dangote,$14.2 B\\r\\n124,124,Kwong Siu-hing,$14.2 B\\r\\n125,126,Idan Ofer,$14.1 B\\r\\n126,127,Chen Bang,$14 B\\r\\n127,128,Lui Che Woo,$13.9 B\\r\\n128,128,John Fredriksen,$13.9 B\\r\\n129,130,Diane Hendricks,$13.7 B\\r\\n'"
      ]
     },
     "execution_count": 573,
     "metadata": {},
     "output_type": "execute_result"
    }
   ],
   "source": [
    "df.to_csv()"
   ]
  },
  {
   "cell_type": "markdown",
   "id": "3b04d36f",
   "metadata": {},
   "source": [
    "# Q8"
   ]
  },
  {
   "cell_type": "code",
   "execution_count": 751,
   "id": "bbc18b46",
   "metadata": {},
   "outputs": [],
   "source": [
    "\"\"\"Write a program to extract at least 500 Comments, Comment upvote and time when comment was posted\n",
    "from any YouTube Video\"\"\"\n",
    "\n",
    "#Create a Webdriver Object for Chrome Browser\n",
    "service= Service(r\"C:\\Users\\gues\\Desktop\\abdul\\chromedriver-win32\\chromedriver.exe\")\n",
    "driver= webdriver.Chrome(service=service)\n",
    "driver.get('https://www.youtube.com/watch?v=eWynt87PaJ0')\n",
    "import time\n",
    "time.sleep(5)\n"
   ]
  },
  {
   "cell_type": "code",
   "execution_count": 752,
   "id": "fee64dd0",
   "metadata": {},
   "outputs": [],
   "source": [
    "acceptAll=driver.find_element(By.XPATH,'/html/body/ytd-app/ytd-consent-bump-v2-lightbox/tp-yt-paper-dialog/div[4]/div[2]/div[6]/div[1]/ytd-button-renderer[1]/yt-button-shape/button/yt-touch-feedback-shape/div/div[2]')\n",
    "acceptAll.click()"
   ]
  },
  {
   "cell_type": "code",
   "execution_count": 753,
   "id": "c09df715",
   "metadata": {},
   "outputs": [],
   "source": [
    "# Youtube Data be scrap\n",
    "Comment=[]\n",
    "Time=[]\n",
    "Comment_Upvote=[]\n"
   ]
  },
  {
   "cell_type": "code",
   "execution_count": 754,
   "id": "ba84851a",
   "metadata": {},
   "outputs": [],
   "source": [
    "# Scroll down 20 times \n",
    "for _ in range(30): \n",
    "    # Till i get 100 Chat\n",
    "    driver.execute_script(\"window.scrollBy(0,500)\")\n",
    "    time.sleep(1)\n",
    "\n",
    "\n",
    "comment=driver.find_elements(By.XPATH,'//div[@class=\"style-scope ytd-expander\"]')\n",
    "for i in comment[:100]:\n",
    "    Comment.append(i.text)\n",
    "        \n",
    "\n",
    "time=driver.find_elements(By.XPATH,'//a[@class=\"yt-simple-endpoint style-scope yt-formatted-string\"]')\n",
    "for i in time[:100]:\n",
    "    Time.append(i.text)\n",
    "    \n",
    "commentUpvote=driver.find_elements(By.XPATH,'//span[@class=\"style-scope ytd-comment-action-buttons-renderer\"]')\n",
    "for i in commentUpvote[:100]:\n",
    "    Comment_Upvote.append(i.text)\n"
   ]
  },
  {
   "cell_type": "code",
   "execution_count": 755,
   "id": "ceaa8f87",
   "metadata": {},
   "outputs": [
    {
     "name": "stdout",
     "output_type": "stream",
     "text": [
      "100 100 100\n"
     ]
    }
   ],
   "source": [
    "print(len(Comment),len(Time),len(Comment_Upvote))"
   ]
  },
  {
   "cell_type": "code",
   "execution_count": 757,
   "id": "5aecf0ae",
   "metadata": {},
   "outputs": [
    {
     "data": {
      "text/html": [
       "<div>\n",
       "<style scoped>\n",
       "    .dataframe tbody tr th:only-of-type {\n",
       "        vertical-align: middle;\n",
       "    }\n",
       "\n",
       "    .dataframe tbody tr th {\n",
       "        vertical-align: top;\n",
       "    }\n",
       "\n",
       "    .dataframe thead th {\n",
       "        text-align: right;\n",
       "    }\n",
       "</style>\n",
       "<table border=\"1\" class=\"dataframe\">\n",
       "  <thead>\n",
       "    <tr style=\"text-align: right;\">\n",
       "      <th></th>\n",
       "      <th>COMMENT</th>\n",
       "      <th>TIME</th>\n",
       "      <th>COMMENT_UPVOTE</th>\n",
       "    </tr>\n",
       "  </thead>\n",
       "  <tbody>\n",
       "    <tr>\n",
       "      <th>0</th>\n",
       "      <td></td>\n",
       "      <td>C-SPAN</td>\n",
       "      <td></td>\n",
       "    </tr>\n",
       "    <tr>\n",
       "      <th>1</th>\n",
       "      <td>I'll never forget watching this speech when I ...</td>\n",
       "      <td></td>\n",
       "      <td>2.1K</td>\n",
       "    </tr>\n",
       "    <tr>\n",
       "      <th>2</th>\n",
       "      <td>The only occasion I can think of where someone...</td>\n",
       "      <td></td>\n",
       "      <td></td>\n",
       "    </tr>\n",
       "    <tr>\n",
       "      <th>3</th>\n",
       "      <td>I don't know if you all realize that, Obama is...</td>\n",
       "      <td>2 years ago</td>\n",
       "      <td>1.7K</td>\n",
       "    </tr>\n",
       "    <tr>\n",
       "      <th>4</th>\n",
       "      <td>June, 2022 and still feeling goosebumps hearin...</td>\n",
       "      <td>2 years ago</td>\n",
       "      <td></td>\n",
       "    </tr>\n",
       "    <tr>\n",
       "      <th>...</th>\n",
       "      <td>...</td>\n",
       "      <td>...</td>\n",
       "      <td>...</td>\n",
       "    </tr>\n",
       "    <tr>\n",
       "      <th>95</th>\n",
       "      <td>I’m 16 years old... it crazy how this speech c...</td>\n",
       "      <td>11 months ago</td>\n",
       "      <td>7</td>\n",
       "    </tr>\n",
       "    <tr>\n",
       "      <th>96</th>\n",
       "      <td>Inspiring and incredible to watch. There is ho...</td>\n",
       "      <td>6 years ago</td>\n",
       "      <td></td>\n",
       "    </tr>\n",
       "    <tr>\n",
       "      <th>97</th>\n",
       "      <td>So inspiring at a time when inspiration is har...</td>\n",
       "      <td>2 years ago</td>\n",
       "      <td>410</td>\n",
       "    </tr>\n",
       "    <tr>\n",
       "      <th>98</th>\n",
       "      <td>What a brilliant heartfelt speech ️️️</td>\n",
       "      <td>2 years ago</td>\n",
       "      <td></td>\n",
       "    </tr>\n",
       "    <tr>\n",
       "      <th>99</th>\n",
       "      <td>Love him or hate him, he delivered a speech li...</td>\n",
       "      <td>11 months ago</td>\n",
       "      <td>7</td>\n",
       "    </tr>\n",
       "  </tbody>\n",
       "</table>\n",
       "<p>100 rows × 3 columns</p>\n",
       "</div>"
      ],
      "text/plain": [
       "                                              COMMENT           TIME  \\\n",
       "0                                                             C-SPAN   \n",
       "1   I'll never forget watching this speech when I ...                  \n",
       "2   The only occasion I can think of where someone...                  \n",
       "3   I don't know if you all realize that, Obama is...    2 years ago   \n",
       "4   June, 2022 and still feeling goosebumps hearin...    2 years ago   \n",
       "..                                                ...            ...   \n",
       "95  I’m 16 years old... it crazy how this speech c...  11 months ago   \n",
       "96  Inspiring and incredible to watch. There is ho...    6 years ago   \n",
       "97  So inspiring at a time when inspiration is har...    2 years ago   \n",
       "98              What a brilliant heartfelt speech ️️️    2 years ago   \n",
       "99  Love him or hate him, he delivered a speech li...  11 months ago   \n",
       "\n",
       "   COMMENT_UPVOTE  \n",
       "0                  \n",
       "1            2.1K  \n",
       "2                  \n",
       "3            1.7K  \n",
       "4                  \n",
       "..            ...  \n",
       "95              7  \n",
       "96                 \n",
       "97            410  \n",
       "98                 \n",
       "99              7  \n",
       "\n",
       "[100 rows x 3 columns]"
      ]
     },
     "execution_count": 757,
     "metadata": {},
     "output_type": "execute_result"
    }
   ],
   "source": [
    "df=pd.DataFrame({'COMMENT':Comment,'TIME':Time,'COMMENT_UPVOTE':Comment_Upvote})\n",
    "df"
   ]
  },
  {
   "cell_type": "code",
   "execution_count": 758,
   "id": "d88931fe",
   "metadata": {},
   "outputs": [
    {
     "data": {
      "text/plain": [
       "',COMMENT,TIME,COMMENT_UPVOTE\\r\\n0,,C-SPAN,\\r\\n1,\"I\\'ll never forget watching this speech when I was in high school. My Republican dad smiled and said \"\"I really like this guy, I hope we see more of him\"\"\",,2.1K\\r\\n2,The only occasion I can think of where someone won the presidency 4 years in advance. Incredible speech.,,\\r\\n3,\"I don\\'t know if you all realize that, Obama is one of the greatest public speakers of all times.\",2 years ago,1.7K\\r\\n4,\"June, 2022 and still feeling goosebumps hearing this magical speech \",2 years ago,\\r\\n5,\"I was  a Republican at the time when I watched him in 2004 and remember saying \"\"why isn\\'t he running?\"\"  I switched to Democrat because of him, I felt as though my eyes were finally opened.  I became a state delegate for him in 2008.\",2 years ago,573\\r\\n6,\"This speech is the definition of \"\"rising star\"\". Obama went from relatively unknown outside of Illinois to a national figure in one night and it paved the way to us having our first black president!!! History was made here and these people didn\\'t even realize it\",1 year ago,\\r\\n7,One of the greatest speeches in history.,2 years ago,185\\r\\n8,\"Listening to Obama’s speech always wakes me up from the bed in the middle of the night, and makes me realize I\\'m not working as hard as I can to change myself.\",7 months ago,\\r\\n9,\"Currently reading Michelle\\'s book \"\"Becoming\"\"  I got to page 215 where she\\'s speaking about this very speech.  I pause the reading came over here to listen to the speech.  This is so inspiring. One of the greatest speeches so far. \",8 years ago,505\\r\\n10,\"I’ve seen this speech at least five times, and I tear up each time. This is the America, the world, I hope I’m fortunate to live in… and all the generations after me.\",1 year ago,\\r\\n11,\"Whenever I feel down, I watch this again and I’m lifted up and filled with pride to be an American!\",1 year ago,16\\r\\n12,\"It’s 2022, and this still gives me goosebumps. The man is an incredible speaker.\",1 year ago,\\r\\n13,\"Who is here while reading \"\"A promised land\"\" to watch the speech Obama is talking about in the third chapter?\",2 years ago,1.7K\\r\\n14,\"I watched this live in 2004 and was so moved that I got up, found a pencil and paper, and wrote down his name.  This is the one we\\'ve waited for, I thought.\",1 year ago,\\r\\n15,I just come back here to listen to his speech every once in a while.  I get chills every time,2 years ago (edited),118\\r\\n16,\"I’m not American but each time I want some inspiration, I come to this speech, and each time I find myself wiping a tear off eye! As a South African that lived through the dark days of apartheid, I never thought anything or anyone would feel me with so much purpose, like the day I saw Nelson Mandela take the podium and took oath of office as South Africa’s first democratically elected president, but the ascent of this man has been an incredible journey! To have a heart so pure, be blessed with so many things from great oratory skills, a thick skin including having a decent sense of humor in-spite of challenges of being raised by a single mom, who also left you with her parents as she worked…and still be able to wear a smile and just get in with business…!!! Given his achievements, I’m starting to think maybe the way he does things and carries himself is the key to reaching great heights !!!\",2 years ago,\\r\\n17,I remember watching this speech live and knowing that it was special. You could just feel it. Whoever was smart enough to select Mr. Obama to deliver this speech changed the course of our nation. God Bless those with the foresight to know that a game changer was in the making.....,2 years ago,122\\r\\n18,\"I remember walking into the breakroom at work and hearing this inspirational voice. I asked my co-worker who was this charismatic, smooth dude and I will NEVER forget his response.  He said \"\"I\\'m watching the FIRST BLACK PRESIDENT OF THE UNITED STATES OF AMERICA!\"\"  I sat down & we watched it in silence together.  When it ended, we looked at each other with the same expression \",1 year ago,\\r\\n19,It is 2020 but this speech still brings tears and evokes a sense of patriotism and service to mankind...it is speech that makes you want to be an American.,2 years ago,20\\r\\n20,\"Anyone else shedding tears of joy watching this? Had to watch this speech again after reading chapter three of \"\"A promised land\"\"\",6 months ago (edited),\\r\\n21,\"...and who would have thought that 4 yrs later, he\\'d become President of the United States of America?  This speech still gives this Canadian chills!!\",3 years ago,212\\r\\n22,I am not even American but I teared up. His speech is brilliant it wakes something in us.. hope!,2 years ago,\\r\\n23,Kept getting better and better throughout. One of my favorite speeches.,7 months ago,28\\r\\n24,As a modern day Republican (2022) this evokes feelings of pride patriotism. Wish we could go back to these days.,1 year ago,\\r\\n25,\"I remember watching this with my eyes glued to the screen, feeling so full of hope and pride for my country. When he finished, I ran around my house in excitement. I was seventeen. Still gives me chills.\",2 years ago,4.4K\\r\\n26,Chills. Actual chills after hearing his speech. I am reading his book and felt compelled to listen to his speech. Wow! That was powerful!,1 year ago,\\r\\n27,\"Like others, I\\'m here because of the book. But I watched this speech live in 2004. It was a huge deal and everyone was talking about him after. He went from an unknown to the talk of politics. Great moment\",7 years ago,793\\r\\n28,\"If there is a child on the south side of Chicago who can\\'t read that matters to me even if it\\'s not my child.\\nSuch a powerful speech \",2 years ago,\\r\\n29,\"13 years later, it still evokes emotions.  Thank you for sharing your life with the world.\",2 years ago,51\\r\\n30,It was one of the most powerful speeches in the history of America.,8 months ago,\\r\\n31,\"This speech, no matter how many times I watch it, never fails to give me waves and waves of goosebumps...just imagine being in the audience that day omg\",2 years ago,30\\r\\n32,So great. I’m reading A Promised Land and had to turn to his speech as he writes about in chapter 3. The crowd loved him. He’s such a wonderful man and orator. Wow!!!!,8 months ago,\\r\\n33,\"That speech made me proud to be American. \\nThen I realized that I’m Canadian.\",3 years ago,51\\r\\n34,This is the greatest speech I have ever heard it brought tears to my eyes very powerful,2 years ago,\\r\\n35,\"This man speaks, and I can practically feel patriotism running through my blood.\",2 years ago,9\\r\\n36,I’ve been going through a really hard time lately and everytime I come to Obamas speeches I can feel my hope slowly be restored,8 months ago,\\r\\n37,\"The day after Obama gave this speech I remember going to work in hopes that someone else had seen it.  A few did see & we were in awe of this young senator from Illinois.  I remember telling a coworker that was listening in on our conversation about Obama.  I told her \\'He is going to be our first Black president!\\'.  She looked at me like I had sprouted a second head.  She, a black woman, could not even wrap her head around this.  We looked him up online.  All she could say is \"\"He is handsome!\"\".   Four years later she had a 10 x 12 photo of Obama on her office wall of the day he was swore into office.\",2 years ago,2.1K\\r\\n38,Absolutely love it! I\\'m appreciating the speech even more while going through his new book and trying not to tear up- such a powerful delivery. Obama is inspiring many future leaders everywhere I\\'m sure,7 months ago,\\r\\n39,Undoubtedly the greatest speech giver of all time,7 years ago,91\\r\\n40,\"Can\\'t get enough of this speech. Clean, strong, clear, effective, brilliant. I miss Obama even if I am not United States of America!\",2 years ago,\\r\\n41,\"I am crying as it is so beautiful and touching. And I\\'m not even American. But that\\'s it, his values are universal, based on humanity and not limited by national boundaries.\",2 years ago,49\\r\\n42,\"Every few months, when I am so sad about the state of our government, I listen to a speech from President Obama, and my hope is refreshed.  I started to tear up when I watched this one.\",1 year ago,\\r\\n43,By far the most powerful speech I\\'ve heard a politician deliver.,2 years ago (edited),54\\r\\n44,\"The points made starting at 11:56. Chills. How sorely we’ve needed this unifying rhetoric and leadership these past 5 years. Thank you, President Obama, for all you did (and do) for the American people ️\",1 year ago,\\r\\n45,I can listen to this speech again and again. Blessing,8 years ago,14\\r\\n46,\"When I first heard this speech in 2004, I thought it was one of the three or four greatest examples of political oratory in American history. Eighteen years later, my opinion has not changed.\",2 years ago,\\r\\n47,This is history. I wish I could be alive in a thousand years to discuss with my students the emotional shock I felt this night.,11:56,83\\r\\n48,This speech always brings me to tear! Obama is a born orator of all time,2 years ago,\\r\\n49,\"I love this man. Not everything he envisioned came to fruition, but I can be 100% sure that he always did everything he could to benefit the people of this country. America is going to miss him.\",7 months ago,506\\r\\n50,Listening to this speech 23 years later. This speech can never be received in past tense. It has a perpetual present-tense impact. There\\'s a way in which Barack transcends to the place of a priest...the speech escalates to be a spiritual moment building a divine energy that tears into hearts and inspires real hope that makes tears..warm tears of hope...gush freely.,2 years ago,\\r\\n51,I\\'m not even American but this speech makes me want to do more with my life.,1 year ago,21\\r\\n52,\"I was 8 in a small village of Africa. I could not see this but today I am 27 and I am an engineer, after reading « dreams from my father », I am watching this with tears. What a man ! What a destiny ! We love you, brother.\",7 years ago,\\r\\n53,Reading a promised land and watching this simultaneously hits different. I love it,2 years ago (edited),14\\r\\n54,\"I think Obama\\'s brilliance comes from not only his ability to be a spectacular orator, but to be able to weave gratitude and acknowledgement into every sentence. He takes the stage and immediately thanks others, and then spends the majority of the speech praising others. If you ever listen to his talks, many times he\\'ll praise others without praising himself. That\\'s the sign of a leader.\",2 years ago,\\r\\n55,One of the best speeches to have ever witnessed.,6 months ago (edited),14\\r\\n56,I remember this speech. It was amazing. I knew I was looking at a future president. We all knew it. I couldn’t wait for him to run.,2 years ago,\\r\\n57,\"I first heard speech on radio and tears were flowing from my eyes involuntarily, I could not say why but the answer came in 2008 when i watched the victory speech.\",4 years ago,67\\r\\n58,am  I the only one who gets goosebumps and sheds tears while listening to this speech? I wish I was an American.,2 years ago,\\r\\n59,The only speech that\\'s every brought me to tears. God Bless you BHO.️,2 years ago,44\\r\\n60,\"This is one of the greatest Speeches of all time. And one of the most important, it put him on the map and made him our next president  who saved an America that was on fire. \\nThank you President Obama\",11 months ago,\\r\\n61,I remember watching this speech live in Nairobi and experiencing goosebumps,2 years ago,246\\r\\n62,From time to time I listen to these speeches to remind my self how a real president talks and how a statesman delivers a speech to a nation..... agree or disagree with him this man is unique in his ability to speak and to inspire the nation. I missed him even though I am a Canadian. lol,8 months ago,\\r\\n63,\"There are still 80 years left until 2100, but I can assure this is a speech of the century\",2 years ago,22\\r\\n64,\"Makes me feel proud to be American.\\n\\nAnd I\\'m Australian\",2 years ago,\\r\\n65,One of the greatest political speeches in American history. I wish i was old enough to appreciate it live,1 year ago,75\\r\\n66,\"I am here after reading \"\"A Promised Land\"\". What a powerful speech!\",2 years ago,\\r\\n67,\"I come back to this every year. Chills.\\n\\n I truly believe we will be able to conquer poverty, and provide help to those who need it, instead of relying on “good will” from fellow people. And I will do my best to help.\",2 years ago,9\\r\\n68,\"Man I remember coming to America in 2007 and not knowing one word in English but still being able to understand Obama. When you speak from your mind, you are speaking a language human beings can understand but when you are speaking from your heart, you are speaking their language. Once you speak from your heart, no one needs further explanation.\",2 years ago,\\r\\n69,He has an impressive voice that commands respect yet not coming off as fearful.,2 years ago,12\\r\\n70,One of the greatest speeches in American history and certainly his best one.,1 year ago,\\r\\n71,I listen to this speech every year to reinforce what American was and can be again,1 year ago,63\\r\\n72,\"A phenomenal orator with the audience in the palm of his hand.  He sold them the dream.\\n\\nJohn Kerry was thinking “how do I follow this?”\",2 months ago,\\r\\n73,\"I was only 3 years old when he delivered that speech at the DNC! Love the fact that it wasn\\'t just Americans that loved him or only black people that loved him, but the entire WORLD was rooting and cheering for him. I would sell a kidney and a half just to relive another 4 years of Obama, A man with lots of class as well as intelligence. Honey, Trump could Never..............XD\",7 years ago,798\\r\\n74,Every punchline was set up perfectly...Indeed a gifted speaker,2 years ago,\\r\\n75,\"My mom and I both watched this together... we hugged each other and cried. We felt so proud of the direction our country was finally going and felt he was the one to bring us there. From then on, my mom was completely involved in getting him voted in. I want to feel that pride in our country again!!!!!!!!!!!\",1 year ago,7\\r\\n76,This is one of the greatest speeches of all time,2 years ago,\\r\\n77,\"the speech that created obama the president, he was such an incredible orator and full of honesty\",1 year ago,14\\r\\n78,\"Can anyone learn how to speak like this or this gentleman is just gifted by the Almighty? \\nI am speechless after 17 years that this was recorded. \",2 years ago,\\r\\n79,I remember watching this live and thinking to myself “He is the one.”,2 years ago,8\\r\\n80,Greatest political speech of all time !,2 years ago,\\r\\n81,\"You don\\'t have to share the same political views with him to appreciate how GREAT this speech is... If this speech is honestly applied in everyone\\'s life, there is hope for humanity\",1 year ago,23\\r\\n82,\"After reading several chapters of Ben Rhodes book, After The Fall, I felt the need to listen to this amazing speech again.\",2 years ago,\\r\\n83,\"The thing where he says that if there\\'s a kid on the South Side of Chicago who can\\'t read, that matters to him even if it is not his child makes me believe that America still does have promise. It is this thought that I think is most fundamental to human relationships across the globe. I\\'m not American but that resonates with me and it is in this way that I think America is special.\",4 months ago,5\\r\\n84,\"Im 26. Iv watched every Presidential and Vice Presidential debates and so many speeches and moments resonate. Even as a moderate republican, this speech is so beautifully crafted and delivered. Wow..\",6 years ago,\\r\\n85,\"In all honesty, in terms of just the speech itself and body language Obama showcased, this might be one of the best speeches ever done in the USA.\",2 years ago,363\\r\\n86,This was so ground breaking at the time. Our major politicians hadn’t talked this way since the 60s. I knew he would end up President.,2 years ago,\\r\\n87,This speech still gives me chills to this day. Incredible speech. I still think President Obama is the greatest President in my lifetime.,8 months ago,12\\r\\n88,\"President Obama inspires me in so many ways. From his powerful speeches to the way he carries himself with so much dignity, and his humility to point out where he falters, they all make him an illuminating figure to look up to for hope and inspiration. This is not about race, this is not about politics, Obama is a decent man. I personally didn\\'t agree with everything he did as president, but he remains my idol of a politician.\",1 year ago,\\r\\n89,Imagine not being on your phone the entire speech. What a time.,1 year ago,11\\r\\n90,\"I saved this and watched it at least once a day. I’m not even American, I’m from Singapore but it hyped me so much.\",8 years ago,\\r\\n91,\"Am a Kenyan and watching and listening to this great speech from this great man,I must say he makes me even more proud from where I come from\",2 years ago,3\\r\\n92,\"I remember the first time I saw it, that night. Never ever a politician electrified me as him that night, I was jaw-dropped.\",2 years ago,\\r\\n93,\"When I stumbled upon this speech as it happened I couldn’t take my eyes off him, I was in complete awe.  He had me right there and then and I never looked back. An amazing man and president, I will miss him.\",10 months ago,17\\r\\n94,This was incredible. The people never forget this and it got him to the Whitehouse.,2 years ago,\\r\\n95,I’m 16 years old... it crazy how this speech could be given today with a few tweaks and still make sense considering I was only two months old when it was given.,11 months ago,7\\r\\n96,\"Inspiring and incredible to watch. There is hope again. There always has been, it’s just been obfuscated by years since.\",6 years ago,\\r\\n97,So inspiring at a time when inspiration is hard to find!,2 years ago,410\\r\\n98,What a brilliant heartfelt speech ️️️,2 years ago,\\r\\n99,\"Love him or hate him, he delivered a speech like nobody\\'s business!\",11 months ago,7\\r\\n'"
      ]
     },
     "execution_count": 758,
     "metadata": {},
     "output_type": "execute_result"
    }
   ],
   "source": [
    "df.to_csv()"
   ]
  },
  {
   "cell_type": "markdown",
   "id": "f2e9473c",
   "metadata": {},
   "source": [
    "# Q9"
   ]
  },
  {
   "cell_type": "code",
   "execution_count": 998,
   "id": "8ab46454",
   "metadata": {},
   "outputs": [],
   "source": [
    "\"\"\"Write a python program to scrape a data for all available Hostels from https://www.hostelworld.com/ in\n",
    "“London” location. You have to scrape hostel name, distance from city centre, ratings, total reviews, overall\n",
    "reviews, privates from price, dorms from price, facilities and property description. \n",
    "\"\"\"\n",
    "#Create a Webdriver Object for Chrome Browser\n",
    "service= Service(r\"C:\\Users\\gues\\Desktop\\abdul\\chromedriver-win32\\chromedriver.exe\")\n",
    "driver= webdriver.Chrome(service=service)\n",
    "driver.get('https://www.hostelworld.com/')\n",
    "import time\n",
    "time.sleep(5)"
   ]
  },
  {
   "cell_type": "code",
   "execution_count": 999,
   "id": "32769fa0",
   "metadata": {},
   "outputs": [],
   "source": [
    "all_accept=driver.find_element(By.XPATH,'/html/body/div[3]/div/div/div[4]/div/div/div[2]/button[2]')\n",
    "all_accept.click()\n"
   ]
  },
  {
   "cell_type": "code",
   "execution_count": 1000,
   "id": "90d93e5f",
   "metadata": {},
   "outputs": [],
   "source": [
    "search=driver.find_element(By.XPATH,'//input[@class=\"native-input body-1-reg\"]')\n",
    "search.send_keys('london')"
   ]
  },
  {
   "cell_type": "code",
   "execution_count": 1001,
   "id": "d5e9cd6c",
   "metadata": {},
   "outputs": [],
   "source": [
    "time.sleep(10)"
   ]
  },
  {
   "cell_type": "code",
   "execution_count": 1002,
   "id": "77a7df44",
   "metadata": {},
   "outputs": [],
   "source": [
    "click_lodon=driver.find_element(By.XPATH,'/html/body/div[3]/div/div/div[2]/div[2]/div[2]/div/div/div/div[1]/div[2]/div/ul/li[2]/button/div[2]')\n",
    "click_lodon.click()"
   ]
  },
  {
   "cell_type": "code",
   "execution_count": 1003,
   "id": "bb6e3fdb",
   "metadata": {},
   "outputs": [],
   "source": [
    "button=driver.find_element(By.XPATH,'/html/body/div[3]/div/div/div[2]/div[2]/div[2]/div/div/div/div[5]/button')\n",
    "button.click()"
   ]
  },
  {
   "cell_type": "code",
   "execution_count": 1004,
   "id": "99d09420",
   "metadata": {},
   "outputs": [],
   "source": [
    "HOSTEL_NAME=[]\n",
    "DISTANCE=[]\n",
    "REVIEW=[]\n",
    "time.sleep(2)"
   ]
  },
  {
   "cell_type": "code",
   "execution_count": 1005,
   "id": "e2c5365f",
   "metadata": {},
   "outputs": [],
   "source": [
    "PRODUCT_URLS=[]\n",
    "\n",
    "url=driver.find_elements(By.XPATH,'//a[@class=\"property-card-container horizontal\"]')\n",
    "for i in url:\n",
    "    #appending the urls in product_urls list\n",
    "    PRODUCT_URLS.append(i.get_attribute(\"href\"))\n",
    "    \n",
    "    "
   ]
  },
  {
   "cell_type": "code",
   "execution_count": 1006,
   "id": "294643ab",
   "metadata": {},
   "outputs": [
    {
     "data": {
      "text/plain": [
       "30"
      ]
     },
     "execution_count": 1006,
     "metadata": {},
     "output_type": "execute_result"
    }
   ],
   "source": [
    "len(PRODUCT_URLS)"
   ]
  },
  {
   "cell_type": "code",
   "execution_count": 1007,
   "id": "df80ce4b",
   "metadata": {},
   "outputs": [],
   "source": [
    "# Loop for every hostel url\n",
    "for url in PRODUCT_URLS:\n",
    "    driver.get(url)\n",
    "    time.sleep(10)\n",
    "    \n",
    "    try: \n",
    "        name=driver.find_elements(By.XPATH,'//div[@class=\"title-2\"]')\n",
    "        for i in name[:25]:\n",
    "            HOSTEL_NAME.append(i.text)\n",
    "    except NoSuchElementException:\n",
    "        HOSTEL_NAME.append(\"-\")\n",
    "        \n",
    "    \n",
    "    try:\n",
    "        review=driver.find_elements(By.XPATH,'//div[@class=\"rating rating-summary-container big clickable\"]')\n",
    "        for i in review[:25]: \n",
    "            REVIEW.append(i.text)\n",
    "    except NoSuchElementExeption:\n",
    "        REVIEW.append(\"-\")\n",
    "        \n",
    "            \n",
    "            \n",
    "            \n",
    "    try:        \n",
    "        distance=driver.find_elements(By.XPATH,'//button[@class=\"property-address\"]')\n",
    "        for i in distance[:25]:\n",
    "            DISTANCE.append(i.text)\n",
    "    except NoSuchElementException:\n",
    "        DISTANCE.append(\"-\")\n",
    "\n"
   ]
  },
  {
   "cell_type": "code",
   "execution_count": 1021,
   "id": "ad2aebb2",
   "metadata": {},
   "outputs": [
    {
     "name": "stdout",
     "output_type": "stream",
     "text": [
      "30 60 30\n"
     ]
    }
   ],
   "source": [
    "print(len(HOSTEL_NAME),len(REVIEW),len(DISTANCE))"
   ]
  },
  {
   "cell_type": "code",
   "execution_count": 1022,
   "id": "e17d10c8",
   "metadata": {},
   "outputs": [],
   "source": [
    "min_= min(len(HOSTEL_NAME),len(REVIEW),len(DISTANCE))"
   ]
  },
  {
   "cell_type": "code",
   "execution_count": 1025,
   "id": "66814c47",
   "metadata": {},
   "outputs": [],
   "source": [
    "data={'HOSTEL_NAME':HOSTEL_NAME[:min_],\n",
    "     'REVIEW':REVIEW[:min_],\n",
    "     'DISTANCE':DISTANCE[:min_]}"
   ]
  },
  {
   "cell_type": "code",
   "execution_count": 1026,
   "id": "c799b3aa",
   "metadata": {},
   "outputs": [
    {
     "data": {
      "text/html": [
       "<div>\n",
       "<style scoped>\n",
       "    .dataframe tbody tr th:only-of-type {\n",
       "        vertical-align: middle;\n",
       "    }\n",
       "\n",
       "    .dataframe tbody tr th {\n",
       "        vertical-align: top;\n",
       "    }\n",
       "\n",
       "    .dataframe thead th {\n",
       "        text-align: right;\n",
       "    }\n",
       "</style>\n",
       "<table border=\"1\" class=\"dataframe\">\n",
       "  <thead>\n",
       "    <tr style=\"text-align: right;\">\n",
       "      <th></th>\n",
       "      <th>HOSTEL_NAME</th>\n",
       "      <th>REVIEW</th>\n",
       "      <th>DISTANCE</th>\n",
       "    </tr>\n",
       "  </thead>\n",
       "  <tbody>\n",
       "    <tr>\n",
       "      <th>0</th>\n",
       "      <td>Wombat's City Hostel London</td>\n",
       "      <td>9.0\\nSuperb\\n15144 Total Reviews</td>\n",
       "      <td>7 Dock Street,</td>\n",
       "    </tr>\n",
       "    <tr>\n",
       "      <th>1</th>\n",
       "      <td>Onefam Notting Hill by Hostel One</td>\n",
       "      <td>9.0\\nSuperb\\n15144 Total Reviews</td>\n",
       "      <td>63 Prince's Square,</td>\n",
       "    </tr>\n",
       "    <tr>\n",
       "      <th>2</th>\n",
       "      <td>St Christopher's Village</td>\n",
       "      <td>9.7\\nSuperb\\n2178 Total Reviews</td>\n",
       "      <td>165 Borough High Street,</td>\n",
       "    </tr>\n",
       "    <tr>\n",
       "      <th>3</th>\n",
       "      <td>Generator London</td>\n",
       "      <td>9.7\\nSuperb\\n2178 Total Reviews</td>\n",
       "      <td>Compton Place, Off 37 Tavistock Place, WC1,</td>\n",
       "    </tr>\n",
       "    <tr>\n",
       "      <th>4</th>\n",
       "      <td>NX London Hostel</td>\n",
       "      <td>8.1\\nFabulous\\n12304 Total Reviews</td>\n",
       "      <td>323 New Cross Road,</td>\n",
       "    </tr>\n",
       "    <tr>\n",
       "      <th>5</th>\n",
       "      <td>Urbany Hostel London</td>\n",
       "      <td>8.1\\nFabulous\\n12304 Total Reviews</td>\n",
       "      <td>48-49 Princes Square, Paddington,</td>\n",
       "    </tr>\n",
       "    <tr>\n",
       "      <th>6</th>\n",
       "      <td>Safestay London Elephant &amp; Castle</td>\n",
       "      <td>7.6\\nVery Good\\n7637 Total Reviews</td>\n",
       "      <td>144-152 Walworth Road,</td>\n",
       "    </tr>\n",
       "    <tr>\n",
       "      <th>7</th>\n",
       "      <td>Pickwick Hall</td>\n",
       "      <td>7.6\\nVery Good\\n7637 Total Reviews</td>\n",
       "      <td>7 Bedford Place, Bloomsbury,</td>\n",
       "    </tr>\n",
       "    <tr>\n",
       "      <th>8</th>\n",
       "      <td>Phoenix Hostel</td>\n",
       "      <td>8.2\\nFabulous\\n2024 Total Reviews</td>\n",
       "      <td>6 Daventry Street,</td>\n",
       "    </tr>\n",
       "    <tr>\n",
       "      <th>9</th>\n",
       "      <td>Safestay London Kensington Holland Park</td>\n",
       "      <td>8.2\\nFabulous\\n2024 Total Reviews</td>\n",
       "      <td>Holland Park Ave, Holland Walk,</td>\n",
       "    </tr>\n",
       "    <tr>\n",
       "      <th>10</th>\n",
       "      <td>Clink261</td>\n",
       "      <td>9.5\\nSuperb\\n851 Total Reviews</td>\n",
       "      <td>261-265 Grays Inn Road, Kings Cross,</td>\n",
       "    </tr>\n",
       "    <tr>\n",
       "      <th>11</th>\n",
       "      <td>Destinations Hostels @ The Gallery</td>\n",
       "      <td>9.5\\nSuperb\\n851 Total Reviews</td>\n",
       "      <td>1 Lupus street, Pimlico,</td>\n",
       "    </tr>\n",
       "    <tr>\n",
       "      <th>12</th>\n",
       "      <td>Smart Russell Square Hostel</td>\n",
       "      <td>7.3\\nVery Good\\n5041 Total Reviews</td>\n",
       "      <td>71 Guilford Street,</td>\n",
       "    </tr>\n",
       "    <tr>\n",
       "      <th>13</th>\n",
       "      <td>No.8 Willesden Hostel London</td>\n",
       "      <td>7.3\\nVery Good\\n5041 Total Reviews</td>\n",
       "      <td>305 High Rd, Willesden,</td>\n",
       "    </tr>\n",
       "    <tr>\n",
       "      <th>14</th>\n",
       "      <td>London Backpackers</td>\n",
       "      <td>8.7\\nFabulous\\n2693 Total Reviews</td>\n",
       "      <td>8/10 Queens Parade, Queens Road, Hendon Central,</td>\n",
       "    </tr>\n",
       "    <tr>\n",
       "      <th>15</th>\n",
       "      <td>No.8 Seven Sisters</td>\n",
       "      <td>8.7\\nFabulous\\n2693 Total Reviews</td>\n",
       "      <td>618 Seven Sisters Rd, Seven Sisters,</td>\n",
       "    </tr>\n",
       "    <tr>\n",
       "      <th>16</th>\n",
       "      <td>Queen Elizabeth Chelsea</td>\n",
       "      <td>7.9\\nVery Good\\n4320 Total Reviews</td>\n",
       "      <td>58 Bagleys Lane,</td>\n",
       "    </tr>\n",
       "    <tr>\n",
       "      <th>17</th>\n",
       "      <td>Barmy Badger Backpackers</td>\n",
       "      <td>7.9\\nVery Good\\n4320 Total Reviews</td>\n",
       "      <td>17 Longridge Road, Earls Court,</td>\n",
       "    </tr>\n",
       "    <tr>\n",
       "      <th>18</th>\n",
       "      <td>Saint James Backpackers</td>\n",
       "      <td>6.9\\nGood\\n1606 Total Reviews</td>\n",
       "      <td>21 Longridge Road,</td>\n",
       "    </tr>\n",
       "    <tr>\n",
       "      <th>19</th>\n",
       "      <td>Astor Victoria</td>\n",
       "      <td>6.9\\nGood\\n1606 Total Reviews</td>\n",
       "      <td>73 Belgrave Road, Victoria,</td>\n",
       "    </tr>\n",
       "    <tr>\n",
       "      <th>20</th>\n",
       "      <td>St Christopher's Hammersmith</td>\n",
       "      <td>8.2\\nFabulous\\n348 Total Reviews</td>\n",
       "      <td>28, Hammersmith Broadway, Hammersmith,</td>\n",
       "    </tr>\n",
       "    <tr>\n",
       "      <th>21</th>\n",
       "      <td>St Christopher's Greenwich</td>\n",
       "      <td>8.2\\nFabulous\\n348 Total Reviews</td>\n",
       "      <td>189 Greenwich High Road, Greenwich,</td>\n",
       "    </tr>\n",
       "    <tr>\n",
       "      <th>22</th>\n",
       "      <td>Prime Backpackers Angel</td>\n",
       "      <td>9.2\\nSuperb\\n205 Total Reviews</td>\n",
       "      <td>333 City Road, 333 City Road,</td>\n",
       "    </tr>\n",
       "    <tr>\n",
       "      <th>23</th>\n",
       "      <td>PubLove @ The Steam Engine, Waterloo</td>\n",
       "      <td>9.2\\nSuperb\\n205 Total Reviews</td>\n",
       "      <td>41-42 Cosser St,</td>\n",
       "    </tr>\n",
       "    <tr>\n",
       "      <th>24</th>\n",
       "      <td>Bell House Hostel</td>\n",
       "      <td>7.5\\nVery Good\\n10063 Total Reviews</td>\n",
       "      <td>91 Bell St, Bell House,</td>\n",
       "    </tr>\n",
       "    <tr>\n",
       "      <th>25</th>\n",
       "      <td>Park Villa</td>\n",
       "      <td>7.5\\nVery Good\\n10063 Total Reviews</td>\n",
       "      <td>51 Grove Road, Bow,</td>\n",
       "    </tr>\n",
       "    <tr>\n",
       "      <th>26</th>\n",
       "      <td>Kabannas London St Pancras</td>\n",
       "      <td>6.5\\nGood\\n5057 Total Reviews</td>\n",
       "      <td>79-81 Euston Road,</td>\n",
       "    </tr>\n",
       "    <tr>\n",
       "      <th>27</th>\n",
       "      <td>Book a Bed Hostels</td>\n",
       "      <td>6.5\\nGood\\n5057 Total Reviews</td>\n",
       "      <td>86 Tanner's Hill, Deptford,</td>\n",
       "    </tr>\n",
       "    <tr>\n",
       "      <th>28</th>\n",
       "      <td>Dover Castle Hostel and Bar</td>\n",
       "      <td>7.6\\nVery Good\\n4495 Total Reviews</td>\n",
       "      <td>6a Great Dover Street,</td>\n",
       "    </tr>\n",
       "    <tr>\n",
       "      <th>29</th>\n",
       "      <td>Selina Camden</td>\n",
       "      <td>7.6\\nVery Good\\n4495 Total Reviews</td>\n",
       "      <td>89 Chalk Farm Rd, Chalk Farm,</td>\n",
       "    </tr>\n",
       "  </tbody>\n",
       "</table>\n",
       "</div>"
      ],
      "text/plain": [
       "                                HOSTEL_NAME  \\\n",
       "0               Wombat's City Hostel London   \n",
       "1         Onefam Notting Hill by Hostel One   \n",
       "2                  St Christopher's Village   \n",
       "3                          Generator London   \n",
       "4                          NX London Hostel   \n",
       "5                      Urbany Hostel London   \n",
       "6         Safestay London Elephant & Castle   \n",
       "7                             Pickwick Hall   \n",
       "8                            Phoenix Hostel   \n",
       "9   Safestay London Kensington Holland Park   \n",
       "10                                 Clink261   \n",
       "11       Destinations Hostels @ The Gallery   \n",
       "12              Smart Russell Square Hostel   \n",
       "13             No.8 Willesden Hostel London   \n",
       "14                       London Backpackers   \n",
       "15                       No.8 Seven Sisters   \n",
       "16                  Queen Elizabeth Chelsea   \n",
       "17                 Barmy Badger Backpackers   \n",
       "18                  Saint James Backpackers   \n",
       "19                           Astor Victoria   \n",
       "20             St Christopher's Hammersmith   \n",
       "21               St Christopher's Greenwich   \n",
       "22                  Prime Backpackers Angel   \n",
       "23     PubLove @ The Steam Engine, Waterloo   \n",
       "24                        Bell House Hostel   \n",
       "25                               Park Villa   \n",
       "26               Kabannas London St Pancras   \n",
       "27                       Book a Bed Hostels   \n",
       "28              Dover Castle Hostel and Bar   \n",
       "29                            Selina Camden   \n",
       "\n",
       "                                 REVIEW  \\\n",
       "0      9.0\\nSuperb\\n15144 Total Reviews   \n",
       "1      9.0\\nSuperb\\n15144 Total Reviews   \n",
       "2       9.7\\nSuperb\\n2178 Total Reviews   \n",
       "3       9.7\\nSuperb\\n2178 Total Reviews   \n",
       "4    8.1\\nFabulous\\n12304 Total Reviews   \n",
       "5    8.1\\nFabulous\\n12304 Total Reviews   \n",
       "6    7.6\\nVery Good\\n7637 Total Reviews   \n",
       "7    7.6\\nVery Good\\n7637 Total Reviews   \n",
       "8     8.2\\nFabulous\\n2024 Total Reviews   \n",
       "9     8.2\\nFabulous\\n2024 Total Reviews   \n",
       "10       9.5\\nSuperb\\n851 Total Reviews   \n",
       "11       9.5\\nSuperb\\n851 Total Reviews   \n",
       "12   7.3\\nVery Good\\n5041 Total Reviews   \n",
       "13   7.3\\nVery Good\\n5041 Total Reviews   \n",
       "14    8.7\\nFabulous\\n2693 Total Reviews   \n",
       "15    8.7\\nFabulous\\n2693 Total Reviews   \n",
       "16   7.9\\nVery Good\\n4320 Total Reviews   \n",
       "17   7.9\\nVery Good\\n4320 Total Reviews   \n",
       "18        6.9\\nGood\\n1606 Total Reviews   \n",
       "19        6.9\\nGood\\n1606 Total Reviews   \n",
       "20     8.2\\nFabulous\\n348 Total Reviews   \n",
       "21     8.2\\nFabulous\\n348 Total Reviews   \n",
       "22       9.2\\nSuperb\\n205 Total Reviews   \n",
       "23       9.2\\nSuperb\\n205 Total Reviews   \n",
       "24  7.5\\nVery Good\\n10063 Total Reviews   \n",
       "25  7.5\\nVery Good\\n10063 Total Reviews   \n",
       "26        6.5\\nGood\\n5057 Total Reviews   \n",
       "27        6.5\\nGood\\n5057 Total Reviews   \n",
       "28   7.6\\nVery Good\\n4495 Total Reviews   \n",
       "29   7.6\\nVery Good\\n4495 Total Reviews   \n",
       "\n",
       "                                            DISTANCE  \n",
       "0                                     7 Dock Street,  \n",
       "1                                63 Prince's Square,  \n",
       "2                           165 Borough High Street,  \n",
       "3        Compton Place, Off 37 Tavistock Place, WC1,  \n",
       "4                                323 New Cross Road,  \n",
       "5                  48-49 Princes Square, Paddington,  \n",
       "6                             144-152 Walworth Road,  \n",
       "7                       7 Bedford Place, Bloomsbury,  \n",
       "8                                 6 Daventry Street,  \n",
       "9                    Holland Park Ave, Holland Walk,  \n",
       "10              261-265 Grays Inn Road, Kings Cross,  \n",
       "11                          1 Lupus street, Pimlico,  \n",
       "12                               71 Guilford Street,  \n",
       "13                           305 High Rd, Willesden,  \n",
       "14  8/10 Queens Parade, Queens Road, Hendon Central,  \n",
       "15              618 Seven Sisters Rd, Seven Sisters,  \n",
       "16                                  58 Bagleys Lane,  \n",
       "17                   17 Longridge Road, Earls Court,  \n",
       "18                                21 Longridge Road,  \n",
       "19                       73 Belgrave Road, Victoria,  \n",
       "20            28, Hammersmith Broadway, Hammersmith,  \n",
       "21               189 Greenwich High Road, Greenwich,  \n",
       "22                     333 City Road, 333 City Road,  \n",
       "23                                  41-42 Cosser St,  \n",
       "24                           91 Bell St, Bell House,  \n",
       "25                               51 Grove Road, Bow,  \n",
       "26                                79-81 Euston Road,  \n",
       "27                       86 Tanner's Hill, Deptford,  \n",
       "28                            6a Great Dover Street,  \n",
       "29                     89 Chalk Farm Rd, Chalk Farm,  "
      ]
     },
     "execution_count": 1026,
     "metadata": {},
     "output_type": "execute_result"
    }
   ],
   "source": [
    "df1=pd.DataFrame(data)\n",
    "df1"
   ]
  },
  {
   "cell_type": "code",
   "execution_count": 1028,
   "id": "3e0bbdd9",
   "metadata": {},
   "outputs": [
    {
     "data": {
      "text/plain": [
       "',HOSTEL_NAME,REVIEW,DISTANCE\\r\\n0,Wombat\\'s City Hostel London,\"9.0\\nSuperb\\n15144 Total Reviews\",\"7 Dock Street,\"\\r\\n1,Onefam Notting Hill by Hostel One,\"9.0\\nSuperb\\n15144 Total Reviews\",\"63 Prince\\'s Square,\"\\r\\n2,St Christopher\\'s Village,\"9.7\\nSuperb\\n2178 Total Reviews\",\"165 Borough High Street,\"\\r\\n3,Generator London,\"9.7\\nSuperb\\n2178 Total Reviews\",\"Compton Place, Off 37 Tavistock Place, WC1,\"\\r\\n4,NX London Hostel,\"8.1\\nFabulous\\n12304 Total Reviews\",\"323 New Cross Road,\"\\r\\n5,Urbany Hostel London,\"8.1\\nFabulous\\n12304 Total Reviews\",\"48-49 Princes Square, Paddington,\"\\r\\n6,Safestay London Elephant & Castle,\"7.6\\nVery Good\\n7637 Total Reviews\",\"144-152 Walworth Road,\"\\r\\n7,Pickwick Hall,\"7.6\\nVery Good\\n7637 Total Reviews\",\"7 Bedford Place, Bloomsbury,\"\\r\\n8,Phoenix Hostel,\"8.2\\nFabulous\\n2024 Total Reviews\",\"6 Daventry Street,\"\\r\\n9,Safestay London Kensington Holland Park,\"8.2\\nFabulous\\n2024 Total Reviews\",\"Holland Park Ave, Holland Walk,\"\\r\\n10,Clink261,\"9.5\\nSuperb\\n851 Total Reviews\",\"261-265 Grays Inn Road, Kings Cross,\"\\r\\n11,Destinations Hostels @ The Gallery,\"9.5\\nSuperb\\n851 Total Reviews\",\"1 Lupus street, Pimlico,\"\\r\\n12,Smart Russell Square Hostel,\"7.3\\nVery Good\\n5041 Total Reviews\",\"71 Guilford Street,\"\\r\\n13,No.8 Willesden Hostel London,\"7.3\\nVery Good\\n5041 Total Reviews\",\"305 High Rd, Willesden,\"\\r\\n14,London Backpackers,\"8.7\\nFabulous\\n2693 Total Reviews\",\"8/10 Queens Parade, Queens Road, Hendon Central,\"\\r\\n15,No.8 Seven Sisters,\"8.7\\nFabulous\\n2693 Total Reviews\",\"618 Seven Sisters Rd, Seven Sisters,\"\\r\\n16,Queen Elizabeth Chelsea,\"7.9\\nVery Good\\n4320 Total Reviews\",\"58 Bagleys Lane,\"\\r\\n17,Barmy Badger Backpackers,\"7.9\\nVery Good\\n4320 Total Reviews\",\"17 Longridge Road, Earls Court,\"\\r\\n18,Saint James Backpackers,\"6.9\\nGood\\n1606 Total Reviews\",\"21 Longridge Road,\"\\r\\n19,Astor Victoria,\"6.9\\nGood\\n1606 Total Reviews\",\"73 Belgrave Road, Victoria,\"\\r\\n20,St Christopher\\'s Hammersmith,\"8.2\\nFabulous\\n348 Total Reviews\",\"28, Hammersmith Broadway, Hammersmith,\"\\r\\n21,St Christopher\\'s Greenwich,\"8.2\\nFabulous\\n348 Total Reviews\",\"189 Greenwich High Road, Greenwich,\"\\r\\n22,Prime Backpackers Angel,\"9.2\\nSuperb\\n205 Total Reviews\",\"333 City Road, 333 City Road,\"\\r\\n23,\"PubLove @ The Steam Engine, Waterloo\",\"9.2\\nSuperb\\n205 Total Reviews\",\"41-42 Cosser St,\"\\r\\n24,Bell House Hostel,\"7.5\\nVery Good\\n10063 Total Reviews\",\"91 Bell St, Bell House,\"\\r\\n25,Park Villa,\"7.5\\nVery Good\\n10063 Total Reviews\",\"51 Grove Road, Bow,\"\\r\\n26,Kabannas London St Pancras,\"6.5\\nGood\\n5057 Total Reviews\",\"79-81 Euston Road,\"\\r\\n27,Book a Bed Hostels,\"6.5\\nGood\\n5057 Total Reviews\",\"86 Tanner\\'s Hill, Deptford,\"\\r\\n28,Dover Castle Hostel and Bar,\"7.6\\nVery Good\\n4495 Total Reviews\",\"6a Great Dover Street,\"\\r\\n29,Selina Camden,\"7.6\\nVery Good\\n4495 Total Reviews\",\"89 Chalk Farm Rd, Chalk Farm,\"\\r\\n'"
      ]
     },
     "execution_count": 1028,
     "metadata": {},
     "output_type": "execute_result"
    }
   ],
   "source": [
    "df1.to_csv()"
   ]
  },
  {
   "cell_type": "code",
   "execution_count": null,
   "id": "7c586493",
   "metadata": {},
   "outputs": [],
   "source": []
  },
  {
   "cell_type": "code",
   "execution_count": null,
   "id": "14f9aabc",
   "metadata": {},
   "outputs": [],
   "source": []
  },
  {
   "cell_type": "code",
   "execution_count": null,
   "id": "4694f183",
   "metadata": {},
   "outputs": [],
   "source": []
  },
  {
   "cell_type": "code",
   "execution_count": null,
   "id": "eeabb60f",
   "metadata": {},
   "outputs": [],
   "source": []
  },
  {
   "cell_type": "code",
   "execution_count": null,
   "id": "659ae0a0",
   "metadata": {},
   "outputs": [],
   "source": []
  },
  {
   "cell_type": "code",
   "execution_count": null,
   "id": "747e7c29",
   "metadata": {},
   "outputs": [],
   "source": []
  },
  {
   "cell_type": "code",
   "execution_count": null,
   "id": "232512bd",
   "metadata": {},
   "outputs": [],
   "source": []
  },
  {
   "cell_type": "code",
   "execution_count": null,
   "id": "45b72f88",
   "metadata": {},
   "outputs": [],
   "source": []
  },
  {
   "cell_type": "code",
   "execution_count": null,
   "id": "b6136212",
   "metadata": {},
   "outputs": [],
   "source": []
  },
  {
   "cell_type": "code",
   "execution_count": null,
   "id": "354448fc",
   "metadata": {},
   "outputs": [],
   "source": []
  }
 ],
 "metadata": {
  "kernelspec": {
   "display_name": "Python 3 (ipykernel)",
   "language": "python",
   "name": "python3"
  },
  "language_info": {
   "codemirror_mode": {
    "name": "ipython",
    "version": 3
   },
   "file_extension": ".py",
   "mimetype": "text/x-python",
   "name": "python",
   "nbconvert_exporter": "python",
   "pygments_lexer": "ipython3",
   "version": "3.11.3"
  }
 },
 "nbformat": 4,
 "nbformat_minor": 5
}
